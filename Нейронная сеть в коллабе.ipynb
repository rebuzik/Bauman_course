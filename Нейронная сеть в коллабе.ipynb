{
  "nbformat": 4,
  "nbformat_minor": 0,
  "metadata": {
    "colab": {
      "provenance": []
    },
    "kernelspec": {
      "name": "python3",
      "display_name": "Python 3"
    },
    "accelerator": "GPU"
  },
  "cells": [
    {
      "cell_type": "markdown",
      "metadata": {
        "id": "UjfquuN3HkHt"
      },
      "source": [
        "## Решение задачи регрессии с помощью нейронных сетей\n"
      ]
    },
    {
      "cell_type": "markdown",
      "metadata": {
        "id": "BJo7CU0sGUca"
      },
      "source": [
        "#Необходимые ресурсы"
      ]
    },
    {
      "cell_type": "code",
      "metadata": {
        "id": "VY9tayQBHh1M"
      },
      "source": [
        "from tensorflow.keras.datasets import boston_housing\n",
        "from tensorflow.keras.models import Sequential\n",
        "from tensorflow.keras.layers import Dense\n",
        "from tensorflow.keras.callbacks import EarlyStopping\n",
        "from tensorflow.keras.regularizers import l1, l2, l1_l2\n",
        "import matplotlib.pyplot as plt\n",
        "#from scipy.misc import toimage\n",
        "%matplotlib inline "
      ],
      "execution_count": 1,
      "outputs": []
    },
    {
      "cell_type": "markdown",
      "metadata": {
        "id": "lzmoZSmvH41N"
      },
      "source": [
        "## Подготовка данных"
      ]
    },
    {
      "cell_type": "markdown",
      "metadata": {
        "id": "s8hejqycICpn"
      },
      "source": [
        "**Загружаем данные**"
      ]
    },
    {
      "cell_type": "code",
      "source": [
        "import pandas as pd"
      ],
      "metadata": {
        "id": "3q05LG2wg3u_"
      },
      "execution_count": 2,
      "outputs": []
    },
    {
      "cell_type": "code",
      "source": [
        "from google.colab import drive\n",
        "drive.mount('/content/drive')"
      ],
      "metadata": {
        "id": "fSKChv3PhC34"
      },
      "execution_count": null,
      "outputs": []
    },
    {
      "cell_type": "code",
      "source": [
        "data = pd.read_csv('/content/ebw_data.csv')"
      ],
      "metadata": {
        "id": "bfdk4j87g6rr"
      },
      "execution_count": null,
      "outputs": []
    },
    {
      "cell_type": "code",
      "source": [
        "data"
      ],
      "metadata": {
        "colab": {
          "base_uri": "https://localhost:8080/",
          "height": 424
        },
        "id": "AC3QaxH6hJZS",
        "outputId": "e84f1a61-c553-4a57-9df0-b6f35c25e29b"
      },
      "execution_count": 8,
      "outputs": [
        {
          "output_type": "execute_result",
          "data": {
            "text/plain": [
              "    IW   IF   VW  FP  Depth  Width\n",
              "0   47  139  4.5  80   1.60   2.54\n",
              "1   47  139  4.5  80   1.62   2.50\n",
              "2   47  139  4.5  80   1.68   2.60\n",
              "3   47  139  4.5  80   1.58   2.52\n",
              "4   45  140  4.5  80   1.76   2.48\n",
              "..  ..  ...  ...  ..    ...    ...\n",
              "67  44  146  9.0  60   1.20   1.72\n",
              "68  45  146  9.0  60   1.36   1.76\n",
              "69  45  146  9.0  60   1.28   1.76\n",
              "70  45  146  9.0  60   1.28   1.76\n",
              "71  45  146  9.0  60   1.32   1.76\n",
              "\n",
              "[72 rows x 6 columns]"
            ],
            "text/html": [
              "\n",
              "  <div id=\"df-9a099275-09ec-4f9e-9768-ebdfc7b4d8ba\">\n",
              "    <div class=\"colab-df-container\">\n",
              "      <div>\n",
              "<style scoped>\n",
              "    .dataframe tbody tr th:only-of-type {\n",
              "        vertical-align: middle;\n",
              "    }\n",
              "\n",
              "    .dataframe tbody tr th {\n",
              "        vertical-align: top;\n",
              "    }\n",
              "\n",
              "    .dataframe thead th {\n",
              "        text-align: right;\n",
              "    }\n",
              "</style>\n",
              "<table border=\"1\" class=\"dataframe\">\n",
              "  <thead>\n",
              "    <tr style=\"text-align: right;\">\n",
              "      <th></th>\n",
              "      <th>IW</th>\n",
              "      <th>IF</th>\n",
              "      <th>VW</th>\n",
              "      <th>FP</th>\n",
              "      <th>Depth</th>\n",
              "      <th>Width</th>\n",
              "    </tr>\n",
              "  </thead>\n",
              "  <tbody>\n",
              "    <tr>\n",
              "      <th>0</th>\n",
              "      <td>47</td>\n",
              "      <td>139</td>\n",
              "      <td>4.5</td>\n",
              "      <td>80</td>\n",
              "      <td>1.60</td>\n",
              "      <td>2.54</td>\n",
              "    </tr>\n",
              "    <tr>\n",
              "      <th>1</th>\n",
              "      <td>47</td>\n",
              "      <td>139</td>\n",
              "      <td>4.5</td>\n",
              "      <td>80</td>\n",
              "      <td>1.62</td>\n",
              "      <td>2.50</td>\n",
              "    </tr>\n",
              "    <tr>\n",
              "      <th>2</th>\n",
              "      <td>47</td>\n",
              "      <td>139</td>\n",
              "      <td>4.5</td>\n",
              "      <td>80</td>\n",
              "      <td>1.68</td>\n",
              "      <td>2.60</td>\n",
              "    </tr>\n",
              "    <tr>\n",
              "      <th>3</th>\n",
              "      <td>47</td>\n",
              "      <td>139</td>\n",
              "      <td>4.5</td>\n",
              "      <td>80</td>\n",
              "      <td>1.58</td>\n",
              "      <td>2.52</td>\n",
              "    </tr>\n",
              "    <tr>\n",
              "      <th>4</th>\n",
              "      <td>45</td>\n",
              "      <td>140</td>\n",
              "      <td>4.5</td>\n",
              "      <td>80</td>\n",
              "      <td>1.76</td>\n",
              "      <td>2.48</td>\n",
              "    </tr>\n",
              "    <tr>\n",
              "      <th>...</th>\n",
              "      <td>...</td>\n",
              "      <td>...</td>\n",
              "      <td>...</td>\n",
              "      <td>...</td>\n",
              "      <td>...</td>\n",
              "      <td>...</td>\n",
              "    </tr>\n",
              "    <tr>\n",
              "      <th>67</th>\n",
              "      <td>44</td>\n",
              "      <td>146</td>\n",
              "      <td>9.0</td>\n",
              "      <td>60</td>\n",
              "      <td>1.20</td>\n",
              "      <td>1.72</td>\n",
              "    </tr>\n",
              "    <tr>\n",
              "      <th>68</th>\n",
              "      <td>45</td>\n",
              "      <td>146</td>\n",
              "      <td>9.0</td>\n",
              "      <td>60</td>\n",
              "      <td>1.36</td>\n",
              "      <td>1.76</td>\n",
              "    </tr>\n",
              "    <tr>\n",
              "      <th>69</th>\n",
              "      <td>45</td>\n",
              "      <td>146</td>\n",
              "      <td>9.0</td>\n",
              "      <td>60</td>\n",
              "      <td>1.28</td>\n",
              "      <td>1.76</td>\n",
              "    </tr>\n",
              "    <tr>\n",
              "      <th>70</th>\n",
              "      <td>45</td>\n",
              "      <td>146</td>\n",
              "      <td>9.0</td>\n",
              "      <td>60</td>\n",
              "      <td>1.28</td>\n",
              "      <td>1.76</td>\n",
              "    </tr>\n",
              "    <tr>\n",
              "      <th>71</th>\n",
              "      <td>45</td>\n",
              "      <td>146</td>\n",
              "      <td>9.0</td>\n",
              "      <td>60</td>\n",
              "      <td>1.32</td>\n",
              "      <td>1.76</td>\n",
              "    </tr>\n",
              "  </tbody>\n",
              "</table>\n",
              "<p>72 rows × 6 columns</p>\n",
              "</div>\n",
              "      <button class=\"colab-df-convert\" onclick=\"convertToInteractive('df-9a099275-09ec-4f9e-9768-ebdfc7b4d8ba')\"\n",
              "              title=\"Convert this dataframe to an interactive table.\"\n",
              "              style=\"display:none;\">\n",
              "        \n",
              "  <svg xmlns=\"http://www.w3.org/2000/svg\" height=\"24px\"viewBox=\"0 0 24 24\"\n",
              "       width=\"24px\">\n",
              "    <path d=\"M0 0h24v24H0V0z\" fill=\"none\"/>\n",
              "    <path d=\"M18.56 5.44l.94 2.06.94-2.06 2.06-.94-2.06-.94-.94-2.06-.94 2.06-2.06.94zm-11 1L8.5 8.5l.94-2.06 2.06-.94-2.06-.94L8.5 2.5l-.94 2.06-2.06.94zm10 10l.94 2.06.94-2.06 2.06-.94-2.06-.94-.94-2.06-.94 2.06-2.06.94z\"/><path d=\"M17.41 7.96l-1.37-1.37c-.4-.4-.92-.59-1.43-.59-.52 0-1.04.2-1.43.59L10.3 9.45l-7.72 7.72c-.78.78-.78 2.05 0 2.83L4 21.41c.39.39.9.59 1.41.59.51 0 1.02-.2 1.41-.59l7.78-7.78 2.81-2.81c.8-.78.8-2.07 0-2.86zM5.41 20L4 18.59l7.72-7.72 1.47 1.35L5.41 20z\"/>\n",
              "  </svg>\n",
              "      </button>\n",
              "      \n",
              "  <style>\n",
              "    .colab-df-container {\n",
              "      display:flex;\n",
              "      flex-wrap:wrap;\n",
              "      gap: 12px;\n",
              "    }\n",
              "\n",
              "    .colab-df-convert {\n",
              "      background-color: #E8F0FE;\n",
              "      border: none;\n",
              "      border-radius: 50%;\n",
              "      cursor: pointer;\n",
              "      display: none;\n",
              "      fill: #1967D2;\n",
              "      height: 32px;\n",
              "      padding: 0 0 0 0;\n",
              "      width: 32px;\n",
              "    }\n",
              "\n",
              "    .colab-df-convert:hover {\n",
              "      background-color: #E2EBFA;\n",
              "      box-shadow: 0px 1px 2px rgba(60, 64, 67, 0.3), 0px 1px 3px 1px rgba(60, 64, 67, 0.15);\n",
              "      fill: #174EA6;\n",
              "    }\n",
              "\n",
              "    [theme=dark] .colab-df-convert {\n",
              "      background-color: #3B4455;\n",
              "      fill: #D2E3FC;\n",
              "    }\n",
              "\n",
              "    [theme=dark] .colab-df-convert:hover {\n",
              "      background-color: #434B5C;\n",
              "      box-shadow: 0px 1px 3px 1px rgba(0, 0, 0, 0.15);\n",
              "      filter: drop-shadow(0px 1px 2px rgba(0, 0, 0, 0.3));\n",
              "      fill: #FFFFFF;\n",
              "    }\n",
              "  </style>\n",
              "\n",
              "      <script>\n",
              "        const buttonEl =\n",
              "          document.querySelector('#df-9a099275-09ec-4f9e-9768-ebdfc7b4d8ba button.colab-df-convert');\n",
              "        buttonEl.style.display =\n",
              "          google.colab.kernel.accessAllowed ? 'block' : 'none';\n",
              "\n",
              "        async function convertToInteractive(key) {\n",
              "          const element = document.querySelector('#df-9a099275-09ec-4f9e-9768-ebdfc7b4d8ba');\n",
              "          const dataTable =\n",
              "            await google.colab.kernel.invokeFunction('convertToInteractive',\n",
              "                                                     [key], {});\n",
              "          if (!dataTable) return;\n",
              "\n",
              "          const docLinkHtml = 'Like what you see? Visit the ' +\n",
              "            '<a target=\"_blank\" href=https://colab.research.google.com/notebooks/data_table.ipynb>data table notebook</a>'\n",
              "            + ' to learn more about interactive tables.';\n",
              "          element.innerHTML = '';\n",
              "          dataTable['output_type'] = 'display_data';\n",
              "          await google.colab.output.renderOutput(dataTable, element);\n",
              "          const docLink = document.createElement('div');\n",
              "          docLink.innerHTML = docLinkHtml;\n",
              "          element.appendChild(docLink);\n",
              "        }\n",
              "      </script>\n",
              "    </div>\n",
              "  </div>\n",
              "  "
            ]
          },
          "metadata": {},
          "execution_count": 8
        }
      ]
    },
    {
      "cell_type": "code",
      "source": [
        "X1, y1 = data.drop(['Depth', 'Width'], axis=1), data[['Depth']]\n",
        "X2, y2 = data.drop(['Depth', 'Width'], axis=1), data[['Width']]"
      ],
      "metadata": {
        "id": "SNBog2HehfOD"
      },
      "execution_count": 9,
      "outputs": []
    },
    {
      "cell_type": "code",
      "source": [
        "from sklearn.model_selection import train_test_split, KFold, GridSearchCV"
      ],
      "metadata": {
        "id": "gTk3soAdhnym"
      },
      "execution_count": 10,
      "outputs": []
    },
    {
      "cell_type": "code",
      "source": [
        "x_train, x_test, y_train, y_test = train_test_split(X1, y1, test_size=.8, random_state=17)"
      ],
      "metadata": {
        "id": "KP2H8mZZhnWK"
      },
      "execution_count": 12,
      "outputs": []
    },
    {
      "cell_type": "markdown",
      "metadata": {
        "id": "FaxQEJNPINzd"
      },
      "source": [
        "**Просмотр данных**"
      ]
    },
    {
      "cell_type": "code",
      "metadata": {
        "id": "m5Xrjy0zYlV_",
        "colab": {
          "base_uri": "https://localhost:8080/"
        },
        "outputId": "adfc313e-dc67-42b9-c715-5f1ae3669e99"
      },
      "source": [
        "type(x_train)"
      ],
      "execution_count": 13,
      "outputs": [
        {
          "output_type": "execute_result",
          "data": {
            "text/plain": [
              "pandas.core.frame.DataFrame"
            ]
          },
          "metadata": {},
          "execution_count": 13
        }
      ]
    },
    {
      "cell_type": "code",
      "metadata": {
        "id": "uyx2mM2VYrlG",
        "colab": {
          "base_uri": "https://localhost:8080/"
        },
        "outputId": "7dacfdc4-9167-400f-d24e-459d9e90f103"
      },
      "source": [
        "x_train.shape"
      ],
      "execution_count": 14,
      "outputs": [
        {
          "output_type": "execute_result",
          "data": {
            "text/plain": [
              "(14, 4)"
            ]
          },
          "metadata": {},
          "execution_count": 14
        }
      ]
    },
    {
      "cell_type": "code",
      "metadata": {
        "id": "vf0sbEuHY9v1",
        "colab": {
          "base_uri": "https://localhost:8080/"
        },
        "outputId": "cdf12b09-b6e3-441e-eb75-c05ce4809773"
      },
      "source": [
        "x_test.shape"
      ],
      "execution_count": 15,
      "outputs": [
        {
          "output_type": "execute_result",
          "data": {
            "text/plain": [
              "(58, 4)"
            ]
          },
          "metadata": {},
          "execution_count": 15
        }
      ]
    },
    {
      "cell_type": "code",
      "metadata": {
        "id": "lMG0jysTUjwq",
        "colab": {
          "base_uri": "https://localhost:8080/",
          "height": 143
        },
        "outputId": "5430bcec-dd02-4073-b57a-b794680db178"
      },
      "source": [
        "x_train[:3]"
      ],
      "execution_count": 16,
      "outputs": [
        {
          "output_type": "execute_result",
          "data": {
            "text/plain": [
              "    IW   IF    VW  FP\n",
              "17  46  141  10.0  80\n",
              "46  46  146  10.0  60\n",
              "1   47  139   4.5  80"
            ],
            "text/html": [
              "\n",
              "  <div id=\"df-845af09e-4e46-4360-89c8-ef5149460c58\">\n",
              "    <div class=\"colab-df-container\">\n",
              "      <div>\n",
              "<style scoped>\n",
              "    .dataframe tbody tr th:only-of-type {\n",
              "        vertical-align: middle;\n",
              "    }\n",
              "\n",
              "    .dataframe tbody tr th {\n",
              "        vertical-align: top;\n",
              "    }\n",
              "\n",
              "    .dataframe thead th {\n",
              "        text-align: right;\n",
              "    }\n",
              "</style>\n",
              "<table border=\"1\" class=\"dataframe\">\n",
              "  <thead>\n",
              "    <tr style=\"text-align: right;\">\n",
              "      <th></th>\n",
              "      <th>IW</th>\n",
              "      <th>IF</th>\n",
              "      <th>VW</th>\n",
              "      <th>FP</th>\n",
              "    </tr>\n",
              "  </thead>\n",
              "  <tbody>\n",
              "    <tr>\n",
              "      <th>17</th>\n",
              "      <td>46</td>\n",
              "      <td>141</td>\n",
              "      <td>10.0</td>\n",
              "      <td>80</td>\n",
              "    </tr>\n",
              "    <tr>\n",
              "      <th>46</th>\n",
              "      <td>46</td>\n",
              "      <td>146</td>\n",
              "      <td>10.0</td>\n",
              "      <td>60</td>\n",
              "    </tr>\n",
              "    <tr>\n",
              "      <th>1</th>\n",
              "      <td>47</td>\n",
              "      <td>139</td>\n",
              "      <td>4.5</td>\n",
              "      <td>80</td>\n",
              "    </tr>\n",
              "  </tbody>\n",
              "</table>\n",
              "</div>\n",
              "      <button class=\"colab-df-convert\" onclick=\"convertToInteractive('df-845af09e-4e46-4360-89c8-ef5149460c58')\"\n",
              "              title=\"Convert this dataframe to an interactive table.\"\n",
              "              style=\"display:none;\">\n",
              "        \n",
              "  <svg xmlns=\"http://www.w3.org/2000/svg\" height=\"24px\"viewBox=\"0 0 24 24\"\n",
              "       width=\"24px\">\n",
              "    <path d=\"M0 0h24v24H0V0z\" fill=\"none\"/>\n",
              "    <path d=\"M18.56 5.44l.94 2.06.94-2.06 2.06-.94-2.06-.94-.94-2.06-.94 2.06-2.06.94zm-11 1L8.5 8.5l.94-2.06 2.06-.94-2.06-.94L8.5 2.5l-.94 2.06-2.06.94zm10 10l.94 2.06.94-2.06 2.06-.94-2.06-.94-.94-2.06-.94 2.06-2.06.94z\"/><path d=\"M17.41 7.96l-1.37-1.37c-.4-.4-.92-.59-1.43-.59-.52 0-1.04.2-1.43.59L10.3 9.45l-7.72 7.72c-.78.78-.78 2.05 0 2.83L4 21.41c.39.39.9.59 1.41.59.51 0 1.02-.2 1.41-.59l7.78-7.78 2.81-2.81c.8-.78.8-2.07 0-2.86zM5.41 20L4 18.59l7.72-7.72 1.47 1.35L5.41 20z\"/>\n",
              "  </svg>\n",
              "      </button>\n",
              "      \n",
              "  <style>\n",
              "    .colab-df-container {\n",
              "      display:flex;\n",
              "      flex-wrap:wrap;\n",
              "      gap: 12px;\n",
              "    }\n",
              "\n",
              "    .colab-df-convert {\n",
              "      background-color: #E8F0FE;\n",
              "      border: none;\n",
              "      border-radius: 50%;\n",
              "      cursor: pointer;\n",
              "      display: none;\n",
              "      fill: #1967D2;\n",
              "      height: 32px;\n",
              "      padding: 0 0 0 0;\n",
              "      width: 32px;\n",
              "    }\n",
              "\n",
              "    .colab-df-convert:hover {\n",
              "      background-color: #E2EBFA;\n",
              "      box-shadow: 0px 1px 2px rgba(60, 64, 67, 0.3), 0px 1px 3px 1px rgba(60, 64, 67, 0.15);\n",
              "      fill: #174EA6;\n",
              "    }\n",
              "\n",
              "    [theme=dark] .colab-df-convert {\n",
              "      background-color: #3B4455;\n",
              "      fill: #D2E3FC;\n",
              "    }\n",
              "\n",
              "    [theme=dark] .colab-df-convert:hover {\n",
              "      background-color: #434B5C;\n",
              "      box-shadow: 0px 1px 3px 1px rgba(0, 0, 0, 0.15);\n",
              "      filter: drop-shadow(0px 1px 2px rgba(0, 0, 0, 0.3));\n",
              "      fill: #FFFFFF;\n",
              "    }\n",
              "  </style>\n",
              "\n",
              "      <script>\n",
              "        const buttonEl =\n",
              "          document.querySelector('#df-845af09e-4e46-4360-89c8-ef5149460c58 button.colab-df-convert');\n",
              "        buttonEl.style.display =\n",
              "          google.colab.kernel.accessAllowed ? 'block' : 'none';\n",
              "\n",
              "        async function convertToInteractive(key) {\n",
              "          const element = document.querySelector('#df-845af09e-4e46-4360-89c8-ef5149460c58');\n",
              "          const dataTable =\n",
              "            await google.colab.kernel.invokeFunction('convertToInteractive',\n",
              "                                                     [key], {});\n",
              "          if (!dataTable) return;\n",
              "\n",
              "          const docLinkHtml = 'Like what you see? Visit the ' +\n",
              "            '<a target=\"_blank\" href=https://colab.research.google.com/notebooks/data_table.ipynb>data table notebook</a>'\n",
              "            + ' to learn more about interactive tables.';\n",
              "          element.innerHTML = '';\n",
              "          dataTable['output_type'] = 'display_data';\n",
              "          await google.colab.output.renderOutput(dataTable, element);\n",
              "          const docLink = document.createElement('div');\n",
              "          docLink.innerHTML = docLinkHtml;\n",
              "          element.appendChild(docLink);\n",
              "        }\n",
              "      </script>\n",
              "    </div>\n",
              "  </div>\n",
              "  "
            ]
          },
          "metadata": {},
          "execution_count": 16
        }
      ]
    },
    {
      "cell_type": "code",
      "metadata": {
        "id": "v1MVhvjhU24s",
        "colab": {
          "base_uri": "https://localhost:8080/",
          "height": 143
        },
        "outputId": "c47162ef-68bb-40c5-b976-540d434237a5"
      },
      "source": [
        "y_train[:3]"
      ],
      "execution_count": 17,
      "outputs": [
        {
          "output_type": "execute_result",
          "data": {
            "text/plain": [
              "    Depth\n",
              "17   1.00\n",
              "46   1.36\n",
              "1    1.62"
            ],
            "text/html": [
              "\n",
              "  <div id=\"df-b7322d37-ca72-4989-ac6d-2c07830ea192\">\n",
              "    <div class=\"colab-df-container\">\n",
              "      <div>\n",
              "<style scoped>\n",
              "    .dataframe tbody tr th:only-of-type {\n",
              "        vertical-align: middle;\n",
              "    }\n",
              "\n",
              "    .dataframe tbody tr th {\n",
              "        vertical-align: top;\n",
              "    }\n",
              "\n",
              "    .dataframe thead th {\n",
              "        text-align: right;\n",
              "    }\n",
              "</style>\n",
              "<table border=\"1\" class=\"dataframe\">\n",
              "  <thead>\n",
              "    <tr style=\"text-align: right;\">\n",
              "      <th></th>\n",
              "      <th>Depth</th>\n",
              "    </tr>\n",
              "  </thead>\n",
              "  <tbody>\n",
              "    <tr>\n",
              "      <th>17</th>\n",
              "      <td>1.00</td>\n",
              "    </tr>\n",
              "    <tr>\n",
              "      <th>46</th>\n",
              "      <td>1.36</td>\n",
              "    </tr>\n",
              "    <tr>\n",
              "      <th>1</th>\n",
              "      <td>1.62</td>\n",
              "    </tr>\n",
              "  </tbody>\n",
              "</table>\n",
              "</div>\n",
              "      <button class=\"colab-df-convert\" onclick=\"convertToInteractive('df-b7322d37-ca72-4989-ac6d-2c07830ea192')\"\n",
              "              title=\"Convert this dataframe to an interactive table.\"\n",
              "              style=\"display:none;\">\n",
              "        \n",
              "  <svg xmlns=\"http://www.w3.org/2000/svg\" height=\"24px\"viewBox=\"0 0 24 24\"\n",
              "       width=\"24px\">\n",
              "    <path d=\"M0 0h24v24H0V0z\" fill=\"none\"/>\n",
              "    <path d=\"M18.56 5.44l.94 2.06.94-2.06 2.06-.94-2.06-.94-.94-2.06-.94 2.06-2.06.94zm-11 1L8.5 8.5l.94-2.06 2.06-.94-2.06-.94L8.5 2.5l-.94 2.06-2.06.94zm10 10l.94 2.06.94-2.06 2.06-.94-2.06-.94-.94-2.06-.94 2.06-2.06.94z\"/><path d=\"M17.41 7.96l-1.37-1.37c-.4-.4-.92-.59-1.43-.59-.52 0-1.04.2-1.43.59L10.3 9.45l-7.72 7.72c-.78.78-.78 2.05 0 2.83L4 21.41c.39.39.9.59 1.41.59.51 0 1.02-.2 1.41-.59l7.78-7.78 2.81-2.81c.8-.78.8-2.07 0-2.86zM5.41 20L4 18.59l7.72-7.72 1.47 1.35L5.41 20z\"/>\n",
              "  </svg>\n",
              "      </button>\n",
              "      \n",
              "  <style>\n",
              "    .colab-df-container {\n",
              "      display:flex;\n",
              "      flex-wrap:wrap;\n",
              "      gap: 12px;\n",
              "    }\n",
              "\n",
              "    .colab-df-convert {\n",
              "      background-color: #E8F0FE;\n",
              "      border: none;\n",
              "      border-radius: 50%;\n",
              "      cursor: pointer;\n",
              "      display: none;\n",
              "      fill: #1967D2;\n",
              "      height: 32px;\n",
              "      padding: 0 0 0 0;\n",
              "      width: 32px;\n",
              "    }\n",
              "\n",
              "    .colab-df-convert:hover {\n",
              "      background-color: #E2EBFA;\n",
              "      box-shadow: 0px 1px 2px rgba(60, 64, 67, 0.3), 0px 1px 3px 1px rgba(60, 64, 67, 0.15);\n",
              "      fill: #174EA6;\n",
              "    }\n",
              "\n",
              "    [theme=dark] .colab-df-convert {\n",
              "      background-color: #3B4455;\n",
              "      fill: #D2E3FC;\n",
              "    }\n",
              "\n",
              "    [theme=dark] .colab-df-convert:hover {\n",
              "      background-color: #434B5C;\n",
              "      box-shadow: 0px 1px 3px 1px rgba(0, 0, 0, 0.15);\n",
              "      filter: drop-shadow(0px 1px 2px rgba(0, 0, 0, 0.3));\n",
              "      fill: #FFFFFF;\n",
              "    }\n",
              "  </style>\n",
              "\n",
              "      <script>\n",
              "        const buttonEl =\n",
              "          document.querySelector('#df-b7322d37-ca72-4989-ac6d-2c07830ea192 button.colab-df-convert');\n",
              "        buttonEl.style.display =\n",
              "          google.colab.kernel.accessAllowed ? 'block' : 'none';\n",
              "\n",
              "        async function convertToInteractive(key) {\n",
              "          const element = document.querySelector('#df-b7322d37-ca72-4989-ac6d-2c07830ea192');\n",
              "          const dataTable =\n",
              "            await google.colab.kernel.invokeFunction('convertToInteractive',\n",
              "                                                     [key], {});\n",
              "          if (!dataTable) return;\n",
              "\n",
              "          const docLinkHtml = 'Like what you see? Visit the ' +\n",
              "            '<a target=\"_blank\" href=https://colab.research.google.com/notebooks/data_table.ipynb>data table notebook</a>'\n",
              "            + ' to learn more about interactive tables.';\n",
              "          element.innerHTML = '';\n",
              "          dataTable['output_type'] = 'display_data';\n",
              "          await google.colab.output.renderOutput(dataTable, element);\n",
              "          const docLink = document.createElement('div');\n",
              "          docLink.innerHTML = docLinkHtml;\n",
              "          element.appendChild(docLink);\n",
              "        }\n",
              "      </script>\n",
              "    </div>\n",
              "  </div>\n",
              "  "
            ]
          },
          "metadata": {},
          "execution_count": 17
        }
      ]
    },
    {
      "cell_type": "markdown",
      "metadata": {
        "id": "H2-y8KVEIhHN"
      },
      "source": [
        "**Нормализация данных**\n",
        "\n",
        "Вычитаем среднее значение и делим на стандартное отклонение"
      ]
    },
    {
      "cell_type": "code",
      "metadata": {
        "id": "YiOT7gOXIp9d"
      },
      "source": [
        "# Среднее значение для обучающего набора данных\n",
        "mean = x_train.mean(axis=0)\n",
        "# Стандартное отклонение для обучающего набора данных\n",
        "std = x_train.std(axis=0)\n",
        "x_train -= mean\n",
        "x_train /= std\n",
        "x_test -= mean\n",
        "x_test /= std"
      ],
      "execution_count": 19,
      "outputs": []
    },
    {
      "cell_type": "markdown",
      "metadata": {
        "id": "RmlSp15AK_JG"
      },
      "source": [
        "## Создаем нейронную сеть\n",
        "\n",
        "Выходной слой с одним линейным нейроном - для задачи регрессии функция активации - RELU.\n",
        "\n",
        "Конфигурация сети из примера - https://www.tensorflow.org/tutorials/keras/basic_regression"
      ]
    },
    {
      "cell_type": "code",
      "metadata": {
        "id": "YnCnMQ91LCKV"
      },
      "source": [
        "model = Sequential()\n",
        "model.add(Dense(64, activation='relu', input_shape=(x_train.shape[1],)))\n",
        "#model.add(BatchNormalization())\n",
        "#model.add(Dense(64, activation='relu', input_shape=(x_train.shape[1],), kernel_regularizer=l2(0.01)))\n",
        "#model.add(Dense(64, activation='relu', kernel_regularizer=l2(0.01)))\n",
        "#model.add(Dense(64, activation='relu'))\n",
        "#model.add(Dense(1)) # если допускаются отрицательные значения\n",
        "model.add(Dense(1, activation='relu'))"
      ],
      "execution_count": 21,
      "outputs": []
    },
    {
      "cell_type": "code",
      "metadata": {
        "id": "kFAVtJ1Z5jhy",
        "colab": {
          "base_uri": "https://localhost:8080/"
        },
        "outputId": "0a33892e-8ce8-4c6c-bd6e-5f683db90995"
      },
      "source": [
        "print(model.summary())"
      ],
      "execution_count": 22,
      "outputs": [
        {
          "output_type": "stream",
          "name": "stdout",
          "text": [
            "Model: \"sequential\"\n",
            "_________________________________________________________________\n",
            " Layer (type)                Output Shape              Param #   \n",
            "=================================================================\n",
            " dense (Dense)               (None, 64)                320       \n",
            "                                                                 \n",
            " dense_1 (Dense)             (None, 1)                 65        \n",
            "                                                                 \n",
            "=================================================================\n",
            "Total params: 385\n",
            "Trainable params: 385\n",
            "Non-trainable params: 0\n",
            "_________________________________________________________________\n",
            "None\n"
          ]
        }
      ]
    },
    {
      "cell_type": "markdown",
      "metadata": {
        "id": "F3g-CAK5LPx1"
      },
      "source": [
        "**Компилируем сеть**\n",
        "\n",
        "Функция ошибки - среднеквадратичное отклонение. Метрика - среднее абсолютное отклонение."
      ]
    },
    {
      "cell_type": "code",
      "metadata": {
        "id": "WOdqoaTkLNCe"
      },
      "source": [
        "model.compile(optimizer='rmsprop', loss='mse', metrics=['mae'])"
      ],
      "execution_count": 23,
      "outputs": []
    },
    {
      "cell_type": "markdown",
      "metadata": {
        "id": "cuE2Ekt1LeUW"
      },
      "source": [
        "## Обучаем нейронную сеть\n",
        "\n"
      ]
    },
    {
      "cell_type": "code",
      "metadata": {
        "id": "1EcFPWZcLmRl",
        "colab": {
          "base_uri": "https://localhost:8080/"
        },
        "outputId": "f0aacb5a-9184-4f6a-df43-85f17416ed67"
      },
      "source": [
        "history = model.fit(x_train, \n",
        "                    y_train, \n",
        "                    epochs=200, \n",
        "                    validation_split=0.1, \n",
        "                    verbose=2)"
      ],
      "execution_count": 24,
      "outputs": [
        {
          "output_type": "stream",
          "name": "stdout",
          "text": [
            "Epoch 1/200\n",
            "1/1 - 3s - loss: 1.6169 - mae: 1.2547 - val_loss: 1.4548 - val_mae: 1.1909 - 3s/epoch - 3s/step\n",
            "Epoch 2/200\n",
            "1/1 - 0s - loss: 1.5945 - mae: 1.2468 - val_loss: 1.3670 - val_mae: 1.1584 - 40ms/epoch - 40ms/step\n",
            "Epoch 3/200\n",
            "1/1 - 0s - loss: 1.5799 - mae: 1.2414 - val_loss: 1.2872 - val_mae: 1.1261 - 46ms/epoch - 46ms/step\n",
            "Epoch 4/200\n",
            "1/1 - 0s - loss: 1.5686 - mae: 1.2370 - val_loss: 1.2179 - val_mae: 1.0969 - 51ms/epoch - 51ms/step\n",
            "Epoch 5/200\n",
            "1/1 - 0s - loss: 1.5590 - mae: 1.2332 - val_loss: 1.1577 - val_mae: 1.0707 - 42ms/epoch - 42ms/step\n",
            "Epoch 6/200\n",
            "1/1 - 0s - loss: 1.5508 - mae: 1.2298 - val_loss: 1.1038 - val_mae: 1.0465 - 46ms/epoch - 46ms/step\n",
            "Epoch 7/200\n",
            "1/1 - 0s - loss: 1.5435 - mae: 1.2266 - val_loss: 1.0545 - val_mae: 1.0238 - 41ms/epoch - 41ms/step\n",
            "Epoch 8/200\n",
            "1/1 - 0s - loss: 1.5368 - mae: 1.2236 - val_loss: 1.0090 - val_mae: 1.0022 - 48ms/epoch - 48ms/step\n",
            "Epoch 9/200\n",
            "1/1 - 0s - loss: 1.5245 - mae: 1.2187 - val_loss: 0.9496 - val_mae: 0.9733 - 44ms/epoch - 44ms/step\n",
            "Epoch 10/200\n",
            "1/1 - 0s - loss: 1.4754 - mae: 1.2005 - val_loss: 0.9042 - val_mae: 0.9503 - 61ms/epoch - 61ms/step\n",
            "Epoch 11/200\n",
            "1/1 - 0s - loss: 1.4416 - mae: 1.1873 - val_loss: 0.8655 - val_mae: 0.9301 - 55ms/epoch - 55ms/step\n",
            "Epoch 12/200\n",
            "1/1 - 0s - loss: 1.4142 - mae: 1.1761 - val_loss: 0.8306 - val_mae: 0.9113 - 44ms/epoch - 44ms/step\n",
            "Epoch 13/200\n",
            "1/1 - 0s - loss: 1.3908 - mae: 1.1661 - val_loss: 0.7988 - val_mae: 0.8937 - 69ms/epoch - 69ms/step\n",
            "Epoch 14/200\n",
            "1/1 - 0s - loss: 1.3699 - mae: 1.1569 - val_loss: 0.7698 - val_mae: 0.8773 - 47ms/epoch - 47ms/step\n",
            "Epoch 15/200\n",
            "1/1 - 0s - loss: 1.3510 - mae: 1.1483 - val_loss: 0.7429 - val_mae: 0.8616 - 46ms/epoch - 46ms/step\n",
            "Epoch 16/200\n",
            "1/1 - 0s - loss: 1.3341 - mae: 1.1404 - val_loss: 0.7177 - val_mae: 0.8465 - 56ms/epoch - 56ms/step\n",
            "Epoch 17/200\n",
            "1/1 - 0s - loss: 1.3184 - mae: 1.1328 - val_loss: 0.6938 - val_mae: 0.8319 - 46ms/epoch - 46ms/step\n",
            "Epoch 18/200\n",
            "1/1 - 0s - loss: 1.3034 - mae: 1.1252 - val_loss: 0.6675 - val_mae: 0.8155 - 55ms/epoch - 55ms/step\n",
            "Epoch 19/200\n",
            "1/1 - 0s - loss: 1.2656 - mae: 1.1021 - val_loss: 0.6438 - val_mae: 0.8002 - 67ms/epoch - 67ms/step\n",
            "Epoch 20/200\n",
            "1/1 - 0s - loss: 1.2384 - mae: 1.0837 - val_loss: 0.6220 - val_mae: 0.7858 - 63ms/epoch - 63ms/step\n",
            "Epoch 21/200\n",
            "1/1 - 0s - loss: 1.2160 - mae: 1.0674 - val_loss: 0.5833 - val_mae: 0.7610 - 61ms/epoch - 61ms/step\n",
            "Epoch 22/200\n",
            "1/1 - 0s - loss: 1.1929 - mae: 1.0501 - val_loss: 0.5508 - val_mae: 0.7393 - 72ms/epoch - 72ms/step\n",
            "Epoch 23/200\n",
            "1/1 - 0s - loss: 1.1744 - mae: 1.0351 - val_loss: 0.5220 - val_mae: 0.7195 - 50ms/epoch - 50ms/step\n",
            "Epoch 24/200\n",
            "1/1 - 0s - loss: 1.1593 - mae: 1.0220 - val_loss: 0.4960 - val_mae: 0.7010 - 65ms/epoch - 65ms/step\n",
            "Epoch 25/200\n",
            "1/1 - 0s - loss: 1.1461 - mae: 1.0100 - val_loss: 0.4718 - val_mae: 0.6833 - 50ms/epoch - 50ms/step\n",
            "Epoch 26/200\n",
            "1/1 - 0s - loss: 1.1345 - mae: 0.9989 - val_loss: 0.4491 - val_mae: 0.6662 - 48ms/epoch - 48ms/step\n",
            "Epoch 27/200\n",
            "1/1 - 0s - loss: 1.1241 - mae: 0.9886 - val_loss: 0.4276 - val_mae: 0.6496 - 40ms/epoch - 40ms/step\n",
            "Epoch 28/200\n",
            "1/1 - 0s - loss: 1.1146 - mae: 0.9807 - val_loss: 0.4071 - val_mae: 0.6334 - 41ms/epoch - 41ms/step\n",
            "Epoch 29/200\n",
            "1/1 - 0s - loss: 1.1060 - mae: 0.9774 - val_loss: 0.3877 - val_mae: 0.6175 - 47ms/epoch - 47ms/step\n",
            "Epoch 30/200\n",
            "1/1 - 0s - loss: 1.0979 - mae: 0.9738 - val_loss: 0.3687 - val_mae: 0.6017 - 49ms/epoch - 49ms/step\n",
            "Epoch 31/200\n",
            "1/1 - 0s - loss: 1.0899 - mae: 0.9698 - val_loss: 0.3509 - val_mae: 0.5863 - 50ms/epoch - 50ms/step\n",
            "Epoch 32/200\n",
            "1/1 - 0s - loss: 1.0804 - mae: 0.9647 - val_loss: 0.3314 - val_mae: 0.5694 - 50ms/epoch - 50ms/step\n",
            "Epoch 33/200\n",
            "1/1 - 0s - loss: 1.0509 - mae: 0.9532 - val_loss: 0.3145 - val_mae: 0.5540 - 42ms/epoch - 42ms/step\n",
            "Epoch 34/200\n",
            "1/1 - 0s - loss: 1.0292 - mae: 0.9438 - val_loss: 0.2990 - val_mae: 0.5395 - 37ms/epoch - 37ms/step\n",
            "Epoch 35/200\n",
            "1/1 - 0s - loss: 1.0113 - mae: 0.9351 - val_loss: 0.2846 - val_mae: 0.5256 - 45ms/epoch - 45ms/step\n",
            "Epoch 36/200\n",
            "1/1 - 0s - loss: 0.9957 - mae: 0.9268 - val_loss: 0.2711 - val_mae: 0.5121 - 40ms/epoch - 40ms/step\n",
            "Epoch 37/200\n",
            "1/1 - 0s - loss: 0.9816 - mae: 0.9187 - val_loss: 0.2583 - val_mae: 0.4990 - 49ms/epoch - 49ms/step\n",
            "Epoch 38/200\n",
            "1/1 - 0s - loss: 0.9687 - mae: 0.9107 - val_loss: 0.2461 - val_mae: 0.4861 - 51ms/epoch - 51ms/step\n",
            "Epoch 39/200\n",
            "1/1 - 0s - loss: 0.9567 - mae: 0.9029 - val_loss: 0.2346 - val_mae: 0.4735 - 40ms/epoch - 40ms/step\n",
            "Epoch 40/200\n",
            "1/1 - 0s - loss: 0.9453 - mae: 0.8950 - val_loss: 0.2235 - val_mae: 0.4611 - 33ms/epoch - 33ms/step\n",
            "Epoch 41/200\n",
            "1/1 - 0s - loss: 0.9346 - mae: 0.8872 - val_loss: 0.2131 - val_mae: 0.4489 - 53ms/epoch - 53ms/step\n",
            "Epoch 42/200\n",
            "1/1 - 0s - loss: 0.9243 - mae: 0.8795 - val_loss: 0.2031 - val_mae: 0.4370 - 50ms/epoch - 50ms/step\n",
            "Epoch 43/200\n",
            "1/1 - 0s - loss: 0.9145 - mae: 0.8717 - val_loss: 0.1934 - val_mae: 0.4249 - 38ms/epoch - 38ms/step\n",
            "Epoch 44/200\n",
            "1/1 - 0s - loss: 0.9051 - mae: 0.8641 - val_loss: 0.1840 - val_mae: 0.4128 - 32ms/epoch - 32ms/step\n",
            "Epoch 45/200\n",
            "1/1 - 0s - loss: 0.8959 - mae: 0.8563 - val_loss: 0.1678 - val_mae: 0.3923 - 47ms/epoch - 47ms/step\n",
            "Epoch 46/200\n",
            "1/1 - 0s - loss: 0.8713 - mae: 0.8415 - val_loss: 0.1546 - val_mae: 0.3745 - 25ms/epoch - 25ms/step\n",
            "Epoch 47/200\n",
            "1/1 - 0s - loss: 0.8522 - mae: 0.8289 - val_loss: 0.1431 - val_mae: 0.3581 - 22ms/epoch - 22ms/step\n",
            "Epoch 48/200\n",
            "1/1 - 0s - loss: 0.8308 - mae: 0.8155 - val_loss: 0.1290 - val_mae: 0.3385 - 23ms/epoch - 23ms/step\n",
            "Epoch 49/200\n",
            "1/1 - 0s - loss: 0.7358 - mae: 0.7713 - val_loss: 0.1174 - val_mae: 0.3213 - 22ms/epoch - 22ms/step\n",
            "Epoch 50/200\n",
            "1/1 - 0s - loss: 0.6681 - mae: 0.7372 - val_loss: 0.1074 - val_mae: 0.3054 - 22ms/epoch - 22ms/step\n",
            "Epoch 51/200\n",
            "1/1 - 0s - loss: 0.6134 - mae: 0.7078 - val_loss: 0.0984 - val_mae: 0.2905 - 24ms/epoch - 24ms/step\n",
            "Epoch 52/200\n",
            "1/1 - 0s - loss: 0.5667 - mae: 0.6814 - val_loss: 0.0904 - val_mae: 0.2763 - 30ms/epoch - 30ms/step\n",
            "Epoch 53/200\n",
            "1/1 - 0s - loss: 0.5258 - mae: 0.6570 - val_loss: 0.0831 - val_mae: 0.2627 - 21ms/epoch - 21ms/step\n",
            "Epoch 54/200\n",
            "1/1 - 0s - loss: 0.4891 - mae: 0.6340 - val_loss: 0.0765 - val_mae: 0.2496 - 22ms/epoch - 22ms/step\n",
            "Epoch 55/200\n",
            "1/1 - 0s - loss: 0.4557 - mae: 0.6123 - val_loss: 0.0704 - val_mae: 0.2370 - 27ms/epoch - 27ms/step\n",
            "Epoch 56/200\n",
            "1/1 - 0s - loss: 0.4241 - mae: 0.5906 - val_loss: 0.0649 - val_mae: 0.2246 - 21ms/epoch - 21ms/step\n",
            "Epoch 57/200\n",
            "1/1 - 0s - loss: 0.3952 - mae: 0.5701 - val_loss: 0.0598 - val_mae: 0.2127 - 22ms/epoch - 22ms/step\n",
            "Epoch 58/200\n",
            "1/1 - 0s - loss: 0.3688 - mae: 0.5505 - val_loss: 0.0552 - val_mae: 0.2011 - 22ms/epoch - 22ms/step\n",
            "Epoch 59/200\n",
            "1/1 - 0s - loss: 0.3443 - mae: 0.5317 - val_loss: 0.0509 - val_mae: 0.1898 - 23ms/epoch - 23ms/step\n",
            "Epoch 60/200\n",
            "1/1 - 0s - loss: 0.3214 - mae: 0.5132 - val_loss: 0.0470 - val_mae: 0.1787 - 22ms/epoch - 22ms/step\n",
            "Epoch 61/200\n",
            "1/1 - 0s - loss: 0.3000 - mae: 0.4952 - val_loss: 0.0433 - val_mae: 0.1677 - 22ms/epoch - 22ms/step\n",
            "Epoch 62/200\n",
            "1/1 - 0s - loss: 0.2800 - mae: 0.4778 - val_loss: 0.0399 - val_mae: 0.1569 - 22ms/epoch - 22ms/step\n",
            "Epoch 63/200\n",
            "1/1 - 0s - loss: 0.2612 - mae: 0.4608 - val_loss: 0.0367 - val_mae: 0.1465 - 22ms/epoch - 22ms/step\n",
            "Epoch 64/200\n",
            "1/1 - 0s - loss: 0.2436 - mae: 0.4441 - val_loss: 0.0338 - val_mae: 0.1358 - 26ms/epoch - 26ms/step\n",
            "Epoch 65/200\n",
            "1/1 - 0s - loss: 0.2270 - mae: 0.4275 - val_loss: 0.0311 - val_mae: 0.1253 - 24ms/epoch - 24ms/step\n",
            "Epoch 66/200\n",
            "1/1 - 0s - loss: 0.2114 - mae: 0.4112 - val_loss: 0.0286 - val_mae: 0.1239 - 22ms/epoch - 22ms/step\n",
            "Epoch 67/200\n",
            "1/1 - 0s - loss: 0.1968 - mae: 0.3969 - val_loss: 0.0264 - val_mae: 0.1240 - 22ms/epoch - 22ms/step\n",
            "Epoch 68/200\n",
            "1/1 - 0s - loss: 0.1829 - mae: 0.3827 - val_loss: 0.0245 - val_mae: 0.1237 - 22ms/epoch - 22ms/step\n",
            "Epoch 69/200\n",
            "1/1 - 0s - loss: 0.1696 - mae: 0.3686 - val_loss: 0.0228 - val_mae: 0.1236 - 22ms/epoch - 22ms/step\n",
            "Epoch 70/200\n",
            "1/1 - 0s - loss: 0.1572 - mae: 0.3548 - val_loss: 0.0214 - val_mae: 0.1237 - 26ms/epoch - 26ms/step\n",
            "Epoch 71/200\n",
            "1/1 - 0s - loss: 0.1458 - mae: 0.3417 - val_loss: 0.0202 - val_mae: 0.1235 - 22ms/epoch - 22ms/step\n",
            "Epoch 72/200\n",
            "1/1 - 0s - loss: 0.1351 - mae: 0.3287 - val_loss: 0.0191 - val_mae: 0.1235 - 21ms/epoch - 21ms/step\n",
            "Epoch 73/200\n",
            "1/1 - 0s - loss: 0.1253 - mae: 0.3161 - val_loss: 0.0182 - val_mae: 0.1230 - 22ms/epoch - 22ms/step\n",
            "Epoch 74/200\n",
            "1/1 - 0s - loss: 0.1161 - mae: 0.3037 - val_loss: 0.0174 - val_mae: 0.1225 - 21ms/epoch - 21ms/step\n",
            "Epoch 75/200\n",
            "1/1 - 0s - loss: 0.1075 - mae: 0.2915 - val_loss: 0.0167 - val_mae: 0.1223 - 30ms/epoch - 30ms/step\n",
            "Epoch 76/200\n",
            "1/1 - 0s - loss: 0.0995 - mae: 0.2795 - val_loss: 0.0162 - val_mae: 0.1217 - 23ms/epoch - 23ms/step\n",
            "Epoch 77/200\n",
            "1/1 - 0s - loss: 0.0921 - mae: 0.2679 - val_loss: 0.0157 - val_mae: 0.1212 - 22ms/epoch - 22ms/step\n",
            "Epoch 78/200\n",
            "1/1 - 0s - loss: 0.0852 - mae: 0.2581 - val_loss: 0.0152 - val_mae: 0.1203 - 20ms/epoch - 20ms/step\n",
            "Epoch 79/200\n",
            "1/1 - 0s - loss: 0.0788 - mae: 0.2495 - val_loss: 0.0148 - val_mae: 0.1196 - 22ms/epoch - 22ms/step\n",
            "Epoch 80/200\n",
            "1/1 - 0s - loss: 0.0728 - mae: 0.2410 - val_loss: 0.0144 - val_mae: 0.1186 - 22ms/epoch - 22ms/step\n",
            "Epoch 81/200\n",
            "1/1 - 0s - loss: 0.0671 - mae: 0.2324 - val_loss: 0.0140 - val_mae: 0.1175 - 21ms/epoch - 21ms/step\n",
            "Epoch 82/200\n",
            "1/1 - 0s - loss: 0.0614 - mae: 0.2229 - val_loss: 0.0137 - val_mae: 0.1164 - 24ms/epoch - 24ms/step\n",
            "Epoch 83/200\n",
            "1/1 - 0s - loss: 0.0563 - mae: 0.2140 - val_loss: 0.0133 - val_mae: 0.1149 - 24ms/epoch - 24ms/step\n",
            "Epoch 84/200\n",
            "1/1 - 0s - loss: 0.0516 - mae: 0.2051 - val_loss: 0.0130 - val_mae: 0.1136 - 24ms/epoch - 24ms/step\n",
            "Epoch 85/200\n",
            "1/1 - 0s - loss: 0.0474 - mae: 0.1965 - val_loss: 0.0126 - val_mae: 0.1120 - 22ms/epoch - 22ms/step\n",
            "Epoch 86/200\n",
            "1/1 - 0s - loss: 0.0435 - mae: 0.1879 - val_loss: 0.0123 - val_mae: 0.1106 - 21ms/epoch - 21ms/step\n",
            "Epoch 87/200\n",
            "1/1 - 0s - loss: 0.0399 - mae: 0.1797 - val_loss: 0.0119 - val_mae: 0.1088 - 20ms/epoch - 20ms/step\n",
            "Epoch 88/200\n",
            "1/1 - 0s - loss: 0.0367 - mae: 0.1715 - val_loss: 0.0115 - val_mae: 0.1072 - 21ms/epoch - 21ms/step\n",
            "Epoch 89/200\n",
            "1/1 - 0s - loss: 0.0336 - mae: 0.1634 - val_loss: 0.0112 - val_mae: 0.1055 - 24ms/epoch - 24ms/step\n",
            "Epoch 90/200\n",
            "1/1 - 0s - loss: 0.0309 - mae: 0.1563 - val_loss: 0.0108 - val_mae: 0.1036 - 21ms/epoch - 21ms/step\n",
            "Epoch 91/200\n",
            "1/1 - 0s - loss: 0.0284 - mae: 0.1494 - val_loss: 0.0104 - val_mae: 0.1019 - 26ms/epoch - 26ms/step\n",
            "Epoch 92/200\n",
            "1/1 - 0s - loss: 0.0261 - mae: 0.1432 - val_loss: 0.0100 - val_mae: 0.0998 - 22ms/epoch - 22ms/step\n",
            "Epoch 93/200\n",
            "1/1 - 0s - loss: 0.0241 - mae: 0.1367 - val_loss: 0.0096 - val_mae: 0.0979 - 24ms/epoch - 24ms/step\n",
            "Epoch 94/200\n",
            "1/1 - 0s - loss: 0.0222 - mae: 0.1306 - val_loss: 0.0093 - val_mae: 0.0959 - 23ms/epoch - 23ms/step\n",
            "Epoch 95/200\n",
            "1/1 - 0s - loss: 0.0205 - mae: 0.1247 - val_loss: 0.0088 - val_mae: 0.0936 - 27ms/epoch - 27ms/step\n",
            "Epoch 96/200\n",
            "1/1 - 0s - loss: 0.0190 - mae: 0.1188 - val_loss: 0.0085 - val_mae: 0.0915 - 21ms/epoch - 21ms/step\n",
            "Epoch 97/200\n",
            "1/1 - 0s - loss: 0.0176 - mae: 0.1134 - val_loss: 0.0080 - val_mae: 0.0888 - 22ms/epoch - 22ms/step\n",
            "Epoch 98/200\n",
            "1/1 - 0s - loss: 0.0164 - mae: 0.1079 - val_loss: 0.0076 - val_mae: 0.0865 - 22ms/epoch - 22ms/step\n",
            "Epoch 99/200\n",
            "1/1 - 0s - loss: 0.0152 - mae: 0.1028 - val_loss: 0.0072 - val_mae: 0.0840 - 24ms/epoch - 24ms/step\n",
            "Epoch 100/200\n",
            "1/1 - 0s - loss: 0.0143 - mae: 0.0980 - val_loss: 0.0068 - val_mae: 0.0813 - 23ms/epoch - 23ms/step\n",
            "Epoch 101/200\n",
            "1/1 - 0s - loss: 0.0134 - mae: 0.0931 - val_loss: 0.0064 - val_mae: 0.0787 - 24ms/epoch - 24ms/step\n",
            "Epoch 102/200\n",
            "1/1 - 0s - loss: 0.0126 - mae: 0.0885 - val_loss: 0.0061 - val_mae: 0.0760 - 24ms/epoch - 24ms/step\n",
            "Epoch 103/200\n",
            "1/1 - 0s - loss: 0.0119 - mae: 0.0860 - val_loss: 0.0057 - val_mae: 0.0733 - 27ms/epoch - 27ms/step\n",
            "Epoch 104/200\n",
            "1/1 - 0s - loss: 0.0112 - mae: 0.0841 - val_loss: 0.0053 - val_mae: 0.0700 - 23ms/epoch - 23ms/step\n",
            "Epoch 105/200\n",
            "1/1 - 0s - loss: 0.0107 - mae: 0.0820 - val_loss: 0.0049 - val_mae: 0.0671 - 22ms/epoch - 22ms/step\n",
            "Epoch 106/200\n",
            "1/1 - 0s - loss: 0.0102 - mae: 0.0805 - val_loss: 0.0045 - val_mae: 0.0642 - 22ms/epoch - 22ms/step\n",
            "Epoch 107/200\n",
            "1/1 - 0s - loss: 0.0098 - mae: 0.0785 - val_loss: 0.0042 - val_mae: 0.0611 - 21ms/epoch - 21ms/step\n",
            "Epoch 108/200\n",
            "1/1 - 0s - loss: 0.0094 - mae: 0.0773 - val_loss: 0.0038 - val_mae: 0.0579 - 21ms/epoch - 21ms/step\n",
            "Epoch 109/200\n",
            "1/1 - 0s - loss: 0.0091 - mae: 0.0751 - val_loss: 0.0036 - val_mae: 0.0555 - 21ms/epoch - 21ms/step\n",
            "Epoch 110/200\n",
            "1/1 - 0s - loss: 0.0088 - mae: 0.0744 - val_loss: 0.0032 - val_mae: 0.0522 - 23ms/epoch - 23ms/step\n",
            "Epoch 111/200\n",
            "1/1 - 0s - loss: 0.0085 - mae: 0.0721 - val_loss: 0.0030 - val_mae: 0.0505 - 25ms/epoch - 25ms/step\n",
            "Epoch 112/200\n",
            "1/1 - 0s - loss: 0.0083 - mae: 0.0723 - val_loss: 0.0026 - val_mae: 0.0460 - 24ms/epoch - 24ms/step\n",
            "Epoch 113/200\n",
            "1/1 - 0s - loss: 0.0081 - mae: 0.0689 - val_loss: 0.0025 - val_mae: 0.0454 - 24ms/epoch - 24ms/step\n",
            "Epoch 114/200\n",
            "1/1 - 0s - loss: 0.0079 - mae: 0.0715 - val_loss: 0.0021 - val_mae: 0.0391 - 23ms/epoch - 23ms/step\n",
            "Epoch 115/200\n",
            "1/1 - 0s - loss: 0.0078 - mae: 0.0688 - val_loss: 0.0021 - val_mae: 0.0416 - 22ms/epoch - 22ms/step\n",
            "Epoch 116/200\n",
            "1/1 - 0s - loss: 0.0077 - mae: 0.0711 - val_loss: 0.0016 - val_mae: 0.0334 - 22ms/epoch - 22ms/step\n",
            "Epoch 117/200\n",
            "1/1 - 0s - loss: 0.0075 - mae: 0.0677 - val_loss: 0.0016 - val_mae: 0.0366 - 21ms/epoch - 21ms/step\n",
            "Epoch 118/200\n",
            "1/1 - 0s - loss: 0.0073 - mae: 0.0691 - val_loss: 0.0013 - val_mae: 0.0288 - 22ms/epoch - 22ms/step\n",
            "Epoch 119/200\n",
            "1/1 - 0s - loss: 0.0071 - mae: 0.0656 - val_loss: 0.0012 - val_mae: 0.0308 - 21ms/epoch - 21ms/step\n",
            "Epoch 120/200\n",
            "1/1 - 0s - loss: 0.0069 - mae: 0.0663 - val_loss: 9.0042e-04 - val_mae: 0.0244 - 21ms/epoch - 21ms/step\n",
            "Epoch 121/200\n",
            "1/1 - 0s - loss: 0.0068 - mae: 0.0636 - val_loss: 7.6699e-04 - val_mae: 0.0249 - 23ms/epoch - 23ms/step\n",
            "Epoch 122/200\n",
            "1/1 - 0s - loss: 0.0066 - mae: 0.0644 - val_loss: 5.7330e-04 - val_mae: 0.0193 - 21ms/epoch - 21ms/step\n",
            "Epoch 123/200\n",
            "1/1 - 0s - loss: 0.0065 - mae: 0.0621 - val_loss: 4.8451e-04 - val_mae: 0.0200 - 21ms/epoch - 21ms/step\n",
            "Epoch 124/200\n",
            "1/1 - 0s - loss: 0.0063 - mae: 0.0629 - val_loss: 3.2462e-04 - val_mae: 0.0143 - 22ms/epoch - 22ms/step\n",
            "Epoch 125/200\n",
            "1/1 - 0s - loss: 0.0062 - mae: 0.0611 - val_loss: 2.6720e-04 - val_mae: 0.0154 - 29ms/epoch - 29ms/step\n",
            "Epoch 126/200\n",
            "1/1 - 0s - loss: 0.0061 - mae: 0.0620 - val_loss: 1.4942e-04 - val_mae: 0.0092 - 21ms/epoch - 21ms/step\n",
            "Epoch 127/200\n",
            "1/1 - 0s - loss: 0.0060 - mae: 0.0604 - val_loss: 1.2683e-04 - val_mae: 0.0112 - 22ms/epoch - 22ms/step\n",
            "Epoch 128/200\n",
            "1/1 - 0s - loss: 0.0059 - mae: 0.0616 - val_loss: 4.1451e-05 - val_mae: 0.0053 - 22ms/epoch - 22ms/step\n",
            "Epoch 129/200\n",
            "1/1 - 0s - loss: 0.0058 - mae: 0.0602 - val_loss: 6.6811e-05 - val_mae: 0.0075 - 22ms/epoch - 22ms/step\n",
            "Epoch 130/200\n",
            "1/1 - 0s - loss: 0.0057 - mae: 0.0614 - val_loss: 8.8827e-06 - val_mae: 0.0024 - 22ms/epoch - 22ms/step\n",
            "Epoch 131/200\n",
            "1/1 - 0s - loss: 0.0056 - mae: 0.0603 - val_loss: 6.0657e-05 - val_mae: 0.0069 - 23ms/epoch - 23ms/step\n",
            "Epoch 132/200\n",
            "1/1 - 0s - loss: 0.0055 - mae: 0.0606 - val_loss: 3.9153e-05 - val_mae: 0.0062 - 23ms/epoch - 23ms/step\n",
            "Epoch 133/200\n",
            "1/1 - 0s - loss: 0.0054 - mae: 0.0589 - val_loss: 1.0491e-04 - val_mae: 0.0101 - 22ms/epoch - 22ms/step\n",
            "Epoch 134/200\n",
            "1/1 - 0s - loss: 0.0052 - mae: 0.0587 - val_loss: 1.2077e-04 - val_mae: 0.0098 - 22ms/epoch - 22ms/step\n",
            "Epoch 135/200\n",
            "1/1 - 0s - loss: 0.0051 - mae: 0.0572 - val_loss: 2.0532e-04 - val_mae: 0.0129 - 26ms/epoch - 26ms/step\n",
            "Epoch 136/200\n",
            "1/1 - 0s - loss: 0.0050 - mae: 0.0570 - val_loss: 2.6424e-04 - val_mae: 0.0136 - 24ms/epoch - 24ms/step\n",
            "Epoch 137/200\n",
            "1/1 - 0s - loss: 0.0049 - mae: 0.0559 - val_loss: 3.9793e-04 - val_mae: 0.0169 - 25ms/epoch - 25ms/step\n",
            "Epoch 138/200\n",
            "1/1 - 0s - loss: 0.0048 - mae: 0.0559 - val_loss: 4.7809e-04 - val_mae: 0.0179 - 28ms/epoch - 28ms/step\n",
            "Epoch 139/200\n",
            "1/1 - 0s - loss: 0.0047 - mae: 0.0552 - val_loss: 6.4873e-04 - val_mae: 0.0210 - 24ms/epoch - 24ms/step\n",
            "Epoch 140/200\n",
            "1/1 - 0s - loss: 0.0047 - mae: 0.0552 - val_loss: 7.3323e-04 - val_mae: 0.0225 - 23ms/epoch - 23ms/step\n",
            "Epoch 141/200\n",
            "1/1 - 0s - loss: 0.0046 - mae: 0.0548 - val_loss: 9.8183e-04 - val_mae: 0.0257 - 24ms/epoch - 24ms/step\n",
            "Epoch 142/200\n",
            "1/1 - 0s - loss: 0.0046 - mae: 0.0549 - val_loss: 0.0011 - val_mae: 0.0277 - 23ms/epoch - 23ms/step\n",
            "Epoch 143/200\n",
            "1/1 - 0s - loss: 0.0045 - mae: 0.0547 - val_loss: 0.0013 - val_mae: 0.0295 - 25ms/epoch - 25ms/step\n",
            "Epoch 144/200\n",
            "1/1 - 0s - loss: 0.0045 - mae: 0.0545 - val_loss: 0.0015 - val_mae: 0.0319 - 23ms/epoch - 23ms/step\n",
            "Epoch 145/200\n",
            "1/1 - 0s - loss: 0.0044 - mae: 0.0540 - val_loss: 0.0016 - val_mae: 0.0322 - 22ms/epoch - 22ms/step\n",
            "Epoch 146/200\n",
            "1/1 - 0s - loss: 0.0044 - mae: 0.0534 - val_loss: 0.0018 - val_mae: 0.0349 - 21ms/epoch - 21ms/step\n",
            "Epoch 147/200\n",
            "1/1 - 0s - loss: 0.0043 - mae: 0.0527 - val_loss: 0.0020 - val_mae: 0.0348 - 23ms/epoch - 23ms/step\n",
            "Epoch 148/200\n",
            "1/1 - 0s - loss: 0.0042 - mae: 0.0521 - val_loss: 0.0023 - val_mae: 0.0377 - 22ms/epoch - 22ms/step\n",
            "Epoch 149/200\n",
            "1/1 - 0s - loss: 0.0041 - mae: 0.0512 - val_loss: 0.0023 - val_mae: 0.0364 - 21ms/epoch - 21ms/step\n",
            "Epoch 150/200\n",
            "1/1 - 0s - loss: 0.0041 - mae: 0.0509 - val_loss: 0.0028 - val_mae: 0.0409 - 22ms/epoch - 22ms/step\n",
            "Epoch 151/200\n",
            "1/1 - 0s - loss: 0.0041 - mae: 0.0500 - val_loss: 0.0025 - val_mae: 0.0373 - 21ms/epoch - 21ms/step\n",
            "Epoch 152/200\n",
            "1/1 - 0s - loss: 0.0041 - mae: 0.0504 - val_loss: 0.0034 - val_mae: 0.0440 - 21ms/epoch - 21ms/step\n",
            "Epoch 153/200\n",
            "1/1 - 0s - loss: 0.0041 - mae: 0.0486 - val_loss: 0.0028 - val_mae: 0.0383 - 22ms/epoch - 22ms/step\n",
            "Epoch 154/200\n",
            "1/1 - 0s - loss: 0.0041 - mae: 0.0501 - val_loss: 0.0039 - val_mae: 0.0465 - 21ms/epoch - 21ms/step\n",
            "Epoch 155/200\n",
            "1/1 - 0s - loss: 0.0041 - mae: 0.0476 - val_loss: 0.0031 - val_mae: 0.0395 - 22ms/epoch - 22ms/step\n",
            "Epoch 156/200\n",
            "1/1 - 0s - loss: 0.0041 - mae: 0.0500 - val_loss: 0.0043 - val_mae: 0.0489 - 23ms/epoch - 23ms/step\n",
            "Epoch 157/200\n",
            "1/1 - 0s - loss: 0.0040 - mae: 0.0469 - val_loss: 0.0035 - val_mae: 0.0423 - 22ms/epoch - 22ms/step\n",
            "Epoch 158/200\n",
            "1/1 - 0s - loss: 0.0040 - mae: 0.0487 - val_loss: 0.0046 - val_mae: 0.0509 - 21ms/epoch - 21ms/step\n",
            "Epoch 159/200\n",
            "1/1 - 0s - loss: 0.0039 - mae: 0.0467 - val_loss: 0.0040 - val_mae: 0.0457 - 21ms/epoch - 21ms/step\n",
            "Epoch 160/200\n",
            "1/1 - 0s - loss: 0.0039 - mae: 0.0481 - val_loss: 0.0048 - val_mae: 0.0530 - 21ms/epoch - 21ms/step\n",
            "Epoch 161/200\n",
            "1/1 - 0s - loss: 0.0038 - mae: 0.0467 - val_loss: 0.0043 - val_mae: 0.0487 - 22ms/epoch - 22ms/step\n",
            "Epoch 162/200\n",
            "1/1 - 0s - loss: 0.0038 - mae: 0.0479 - val_loss: 0.0050 - val_mae: 0.0552 - 29ms/epoch - 29ms/step\n",
            "Epoch 163/200\n",
            "1/1 - 0s - loss: 0.0039 - mae: 0.0470 - val_loss: 0.0047 - val_mae: 0.0514 - 21ms/epoch - 21ms/step\n",
            "Epoch 164/200\n",
            "1/1 - 0s - loss: 0.0039 - mae: 0.0478 - val_loss: 0.0052 - val_mae: 0.0567 - 22ms/epoch - 22ms/step\n",
            "Epoch 165/200\n",
            "1/1 - 0s - loss: 0.0038 - mae: 0.0468 - val_loss: 0.0050 - val_mae: 0.0532 - 22ms/epoch - 22ms/step\n",
            "Epoch 166/200\n",
            "1/1 - 0s - loss: 0.0038 - mae: 0.0473 - val_loss: 0.0054 - val_mae: 0.0575 - 21ms/epoch - 21ms/step\n",
            "Epoch 167/200\n",
            "1/1 - 0s - loss: 0.0038 - mae: 0.0462 - val_loss: 0.0050 - val_mae: 0.0529 - 22ms/epoch - 22ms/step\n",
            "Epoch 168/200\n",
            "1/1 - 0s - loss: 0.0038 - mae: 0.0466 - val_loss: 0.0057 - val_mae: 0.0580 - 22ms/epoch - 22ms/step\n",
            "Epoch 169/200\n",
            "1/1 - 0s - loss: 0.0038 - mae: 0.0450 - val_loss: 0.0049 - val_mae: 0.0510 - 21ms/epoch - 21ms/step\n",
            "Epoch 170/200\n",
            "1/1 - 0s - loss: 0.0038 - mae: 0.0465 - val_loss: 0.0063 - val_mae: 0.0584 - 23ms/epoch - 23ms/step\n",
            "Epoch 171/200\n",
            "1/1 - 0s - loss: 0.0038 - mae: 0.0431 - val_loss: 0.0046 - val_mae: 0.0495 - 46ms/epoch - 46ms/step\n",
            "Epoch 172/200\n",
            "1/1 - 0s - loss: 0.0039 - mae: 0.0484 - val_loss: 0.0069 - val_mae: 0.0590 - 22ms/epoch - 22ms/step\n",
            "Epoch 173/200\n",
            "1/1 - 0s - loss: 0.0039 - mae: 0.0422 - val_loss: 0.0046 - val_mae: 0.0512 - 21ms/epoch - 21ms/step\n",
            "Epoch 174/200\n",
            "1/1 - 0s - loss: 0.0038 - mae: 0.0476 - val_loss: 0.0068 - val_mae: 0.0591 - 21ms/epoch - 21ms/step\n",
            "Epoch 175/200\n",
            "1/1 - 0s - loss: 0.0037 - mae: 0.0403 - val_loss: 0.0050 - val_mae: 0.0531 - 23ms/epoch - 23ms/step\n",
            "Epoch 176/200\n",
            "1/1 - 0s - loss: 0.0037 - mae: 0.0442 - val_loss: 0.0065 - val_mae: 0.0583 - 21ms/epoch - 21ms/step\n",
            "Epoch 177/200\n",
            "1/1 - 0s - loss: 0.0036 - mae: 0.0401 - val_loss: 0.0052 - val_mae: 0.0544 - 22ms/epoch - 22ms/step\n",
            "Epoch 178/200\n",
            "1/1 - 0s - loss: 0.0036 - mae: 0.0431 - val_loss: 0.0065 - val_mae: 0.0598 - 26ms/epoch - 26ms/step\n",
            "Epoch 179/200\n",
            "1/1 - 0s - loss: 0.0036 - mae: 0.0414 - val_loss: 0.0052 - val_mae: 0.0570 - 22ms/epoch - 22ms/step\n",
            "Epoch 180/200\n",
            "1/1 - 0s - loss: 0.0037 - mae: 0.0458 - val_loss: 0.0069 - val_mae: 0.0664 - 21ms/epoch - 21ms/step\n",
            "Epoch 181/200\n",
            "1/1 - 0s - loss: 0.0040 - mae: 0.0455 - val_loss: 0.0052 - val_mae: 0.0613 - 21ms/epoch - 21ms/step\n",
            "Epoch 182/200\n",
            "1/1 - 0s - loss: 0.0043 - mae: 0.0507 - val_loss: 0.0069 - val_mae: 0.0672 - 21ms/epoch - 21ms/step\n",
            "Epoch 183/200\n",
            "1/1 - 0s - loss: 0.0041 - mae: 0.0462 - val_loss: 0.0052 - val_mae: 0.0586 - 22ms/epoch - 22ms/step\n",
            "Epoch 184/200\n",
            "1/1 - 0s - loss: 0.0039 - mae: 0.0472 - val_loss: 0.0065 - val_mae: 0.0616 - 21ms/epoch - 21ms/step\n",
            "Epoch 185/200\n",
            "1/1 - 0s - loss: 0.0037 - mae: 0.0425 - val_loss: 0.0053 - val_mae: 0.0558 - 21ms/epoch - 21ms/step\n",
            "Epoch 186/200\n",
            "1/1 - 0s - loss: 0.0036 - mae: 0.0445 - val_loss: 0.0065 - val_mae: 0.0594 - 22ms/epoch - 22ms/step\n",
            "Epoch 187/200\n",
            "1/1 - 0s - loss: 0.0036 - mae: 0.0407 - val_loss: 0.0052 - val_mae: 0.0543 - 21ms/epoch - 21ms/step\n",
            "Epoch 188/200\n",
            "1/1 - 0s - loss: 0.0036 - mae: 0.0442 - val_loss: 0.0065 - val_mae: 0.0591 - 21ms/epoch - 21ms/step\n",
            "Epoch 189/200\n",
            "1/1 - 0s - loss: 0.0036 - mae: 0.0398 - val_loss: 0.0050 - val_mae: 0.0532 - 25ms/epoch - 25ms/step\n",
            "Epoch 190/200\n",
            "1/1 - 0s - loss: 0.0036 - mae: 0.0444 - val_loss: 0.0067 - val_mae: 0.0593 - 22ms/epoch - 22ms/step\n",
            "Epoch 191/200\n",
            "1/1 - 0s - loss: 0.0037 - mae: 0.0395 - val_loss: 0.0050 - val_mae: 0.0525 - 21ms/epoch - 21ms/step\n",
            "Epoch 192/200\n",
            "1/1 - 0s - loss: 0.0037 - mae: 0.0443 - val_loss: 0.0066 - val_mae: 0.0587 - 23ms/epoch - 23ms/step\n",
            "Epoch 193/200\n",
            "1/1 - 0s - loss: 0.0037 - mae: 0.0390 - val_loss: 0.0050 - val_mae: 0.0517 - 21ms/epoch - 21ms/step\n",
            "Epoch 194/200\n",
            "1/1 - 0s - loss: 0.0036 - mae: 0.0438 - val_loss: 0.0065 - val_mae: 0.0573 - 22ms/epoch - 22ms/step\n",
            "Epoch 195/200\n",
            "1/1 - 0s - loss: 0.0036 - mae: 0.0392 - val_loss: 0.0050 - val_mae: 0.0504 - 21ms/epoch - 21ms/step\n",
            "Epoch 196/200\n",
            "1/1 - 0s - loss: 0.0036 - mae: 0.0442 - val_loss: 0.0064 - val_mae: 0.0590 - 21ms/epoch - 21ms/step\n",
            "Epoch 197/200\n",
            "1/1 - 0s - loss: 0.0037 - mae: 0.0415 - val_loss: 0.0051 - val_mae: 0.0545 - 22ms/epoch - 22ms/step\n",
            "Epoch 198/200\n",
            "1/1 - 0s - loss: 0.0039 - mae: 0.0474 - val_loss: 0.0061 - val_mae: 0.0624 - 21ms/epoch - 21ms/step\n",
            "Epoch 199/200\n",
            "1/1 - 0s - loss: 0.0041 - mae: 0.0460 - val_loss: 0.0055 - val_mae: 0.0593 - 28ms/epoch - 28ms/step\n",
            "Epoch 200/200\n",
            "1/1 - 0s - loss: 0.0041 - mae: 0.0483 - val_loss: 0.0058 - val_mae: 0.0604 - 22ms/epoch - 22ms/step\n"
          ]
        }
      ]
    },
    {
      "cell_type": "markdown",
      "metadata": {
        "id": "s4kt3k8sxNq6"
      },
      "source": [
        "## Проверяем работу модели на тестовом наборе данных"
      ]
    },
    {
      "cell_type": "code",
      "metadata": {
        "id": "W4zh-jfuxUJo",
        "colab": {
          "base_uri": "https://localhost:8080/"
        },
        "outputId": "4b962e7e-056c-4407-efef-e77c60cda49b"
      },
      "source": [
        "scores = model.evaluate(x_test, y_test, verbose=1)"
      ],
      "execution_count": 25,
      "outputs": [
        {
          "output_type": "stream",
          "name": "stdout",
          "text": [
            "2/2 [==============================] - 0s 6ms/step - loss: 0.0303 - mae: 0.1286\n"
          ]
        }
      ]
    },
    {
      "cell_type": "code",
      "metadata": {
        "id": "DxVuKBC8hPDk",
        "colab": {
          "base_uri": "https://localhost:8080/"
        },
        "outputId": "76fee754-f3e0-4ace-e825-1a954d46f699"
      },
      "source": [
        "scores"
      ],
      "execution_count": 26,
      "outputs": [
        {
          "output_type": "execute_result",
          "data": {
            "text/plain": [
              "[0.030314002186059952, 0.12859739363193512]"
            ]
          },
          "metadata": {},
          "execution_count": 26
        }
      ]
    },
    {
      "cell_type": "code",
      "metadata": {
        "id": "EhAMQvdDx_pA",
        "colab": {
          "base_uri": "https://localhost:8080/"
        },
        "outputId": "1da9b6a5-04da-4898-ecc1-02c434fcd583"
      },
      "source": [
        "print(\"Средняя абсолютная ошибка на тестовых данных:\", round(scores[1], 4))"
      ],
      "execution_count": 27,
      "outputs": [
        {
          "output_type": "stream",
          "name": "stdout",
          "text": [
            "Средняя абсолютная ошибка на тестовых данных: 0.1286\n"
          ]
        }
      ]
    },
    {
      "cell_type": "markdown",
      "metadata": {
        "id": "m_6XDRknyO8Q"
      },
      "source": [
        "## Визуализация качества обучения"
      ]
    },
    {
      "cell_type": "code",
      "metadata": {
        "id": "k-VXHvPjySTw",
        "colab": {
          "base_uri": "https://localhost:8080/",
          "height": 279
        },
        "outputId": "3cf09170-ee5d-402e-8553-74c45f785bb3"
      },
      "source": [
        "plt.plot(history.history['mae'], # mean_absolute_error\n",
        "         label='Средняя абсолютная ошибка на обучающем наборе')\n",
        "plt.plot(history.history['val_mae'], # val_mean_absolute_error\n",
        "         label='Средняя абсолютная ошибка на проверочном наборе')\n",
        "plt.xlabel('Эпоха обучения')\n",
        "plt.ylabel('Средняя абсолютная ошибка')\n",
        "plt.legend()\n",
        "plt.show()"
      ],
      "execution_count": 28,
      "outputs": [
        {
          "output_type": "display_data",
          "data": {
            "text/plain": [
              "<Figure size 432x288 with 1 Axes>"
            ],
            "image/png": "[encoded data removed]"
          },
          "metadata": {
            "needs_background": "light"
          }
        }
      ]
    },
    {
      "cell_type": "markdown",
      "metadata": {
        "id": "UDHMw_dEH7_0"
      },
      "source": [
        "## Используем модель для предсказаний"
      ]
    },
    {
      "cell_type": "markdown",
      "metadata": {
        "id": "pHOIK7qaOns1"
      },
      "source": [
        "**Выполняем предсказание для тестовой выборки**"
      ]
    },
    {
      "cell_type": "code",
      "metadata": {
        "id": "5LYrptorOjPe",
        "colab": {
          "base_uri": "https://localhost:8080/"
        },
        "outputId": "ec076d78-7605-42e7-e158-24e0907d37f1"
      },
      "source": [
        "pred = model.predict(x_test).flatten()"
      ],
      "execution_count": 29,
      "outputs": [
        {
          "output_type": "stream",
          "name": "stdout",
          "text": [
            "2/2 [==============================] - 0s 6ms/step\n"
          ]
        }
      ]
    },
    {
      "cell_type": "code",
      "metadata": {
        "id": "_D55LA1i7E4J",
        "colab": {
          "base_uri": "https://localhost:8080/"
        },
        "outputId": "c985ab99-7137-4c44-8958-4addfe23ac41"
      },
      "source": [
        "print(pred)"
      ],
      "execution_count": 30,
      "outputs": [
        {
          "output_type": "stream",
          "name": "stdout",
          "text": [
            "[1.1531483  0.9273596  1.4571452  1.213827   1.5505642  1.4691339\n",
            " 1.2224355  1.213827   0.78225094 1.4571452  0.9273596  1.2224355\n",
            " 1.4571452  0.9273596  0.7480825  0.9950595  1.5505642  0.9950595\n",
            " 1.625795   1.4691339  1.1065426  1.4691339  0.78225094 1.3445005\n",
            " 1.2224355  1.2224355  1.5505642  1.1065426  1.2768418  0.83259326\n",
            " 0.83259326 1.5505642  0.83259326 1.1531483  1.4571452  1.213827\n",
            " 0.9950595  1.2224355  1.1065426  1.4691339  1.2224355  1.2224355\n",
            " 1.625795   0.78225094 0.7480825  1.2224355  1.2224355  1.4691339\n",
            " 1.2768418  1.2224355  0.7480825  0.83259326 1.2768418  1.4691339\n",
            " 0.78225094 1.213827   1.2224355  0.9273596 ]\n"
          ]
        }
      ]
    }
  ]
}