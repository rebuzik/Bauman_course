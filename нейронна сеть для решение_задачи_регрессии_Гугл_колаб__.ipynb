{
  "nbformat": 4,
  "nbformat_minor": 0,
  "metadata": {
    "colab": {
      "provenance": []
    },
    "kernelspec": {
      "name": "python3",
      "display_name": "Python 3"
    },
    "accelerator": "GPU"
  },
  "cells": [
    {
      "cell_type": "markdown",
      "metadata": {
        "id": "UjfquuN3HkHt"
      },
      "source": [
        "## Решение задачи регрессии с помощью нейронных сетей\n"
      ]
    },
    {
      "cell_type": "markdown",
      "metadata": {
        "id": "BJo7CU0sGUca"
      },
      "source": [
        "#Необходимые ресурсы"
      ]
    },
    {
      "cell_type": "code",
      "metadata": {
        "id": "VY9tayQBHh1M"
      },
      "source": [
        "from tensorflow.keras.datasets import boston_housing\n",
        "from tensorflow.keras.models import Sequential\n",
        "from tensorflow.keras.layers import Dense\n",
        "from tensorflow.keras.callbacks import EarlyStopping\n",
        "from tensorflow.keras.regularizers import l1, l2, l1_l2\n",
        "import matplotlib.pyplot as plt\n",
        "#from scipy.misc import toimage\n",
        "%matplotlib inline "
      ],
      "execution_count": 1,
      "outputs": []
    },
    {
      "cell_type": "markdown",
      "metadata": {
        "id": "lzmoZSmvH41N"
      },
      "source": [
        "## Подготовка данных"
      ]
    },
    {
      "cell_type": "markdown",
      "metadata": {
        "id": "s8hejqycICpn"
      },
      "source": [
        "**Загружаем данные**"
      ]
    },
    {
      "cell_type": "code",
      "source": [
        "import pandas as pd"
      ],
      "metadata": {
        "id": "3q05LG2wg3u_"
      },
      "execution_count": 2,
      "outputs": []
    },
    {
      "cell_type": "code",
      "source": [
        "from google.colab import drive\n",
        "drive.mount('/content/drive')"
      ],
      "metadata": {
        "colab": {
          "base_uri": "https://localhost:8080/"
        },
        "id": "fSKChv3PhC34",
        "outputId": "15b47869-7742-4c45-da0e-fe27d8c1841a"
      },
      "execution_count": 3,
      "outputs": [
        {
          "output_type": "stream",
          "name": "stdout",
          "text": [
            "Mounted at /content/drive\n"
          ]
        }
      ]
    },
    {
      "cell_type": "code",
      "source": [
        "data = pd.read_csv('/content/ebw_data.csv')"
      ],
      "metadata": {
        "id": "bfdk4j87g6rr"
      },
      "execution_count": 4,
      "outputs": []
    },
    {
      "cell_type": "code",
      "source": [
        "data"
      ],
      "metadata": {
        "colab": {
          "base_uri": "https://localhost:8080/",
          "height": 424
        },
        "id": "AC3QaxH6hJZS",
        "outputId": "1939cc52-e101-490b-ef17-8bc4d8ff8d89"
      },
      "execution_count": 5,
      "outputs": [
        {
          "output_type": "execute_result",
          "data": {
            "text/plain": [
              "    IW   IF   VW  FP  Depth  Width\n",
              "0   47  139  4.5  80   1.60   2.54\n",
              "1   47  139  4.5  80   1.62   2.50\n",
              "2   47  139  4.5  80   1.68   2.60\n",
              "3   47  139  4.5  80   1.58   2.52\n",
              "4   45  140  4.5  80   1.76   2.48\n",
              "..  ..  ...  ...  ..    ...    ...\n",
              "67  44  146  9.0  60   1.20   1.72\n",
              "68  45  146  9.0  60   1.36   1.76\n",
              "69  45  146  9.0  60   1.28   1.76\n",
              "70  45  146  9.0  60   1.28   1.76\n",
              "71  45  146  9.0  60   1.32   1.76\n",
              "\n",
              "[72 rows x 6 columns]"
            ],
            "text/html": [
              "\n",
              "  <div id=\"df-5dc95efe-5109-40b9-811d-3b6a78bb4a4e\">\n",
              "    <div class=\"colab-df-container\">\n",
              "      <div>\n",
              "<style scoped>\n",
              "    .dataframe tbody tr th:only-of-type {\n",
              "        vertical-align: middle;\n",
              "    }\n",
              "\n",
              "    .dataframe tbody tr th {\n",
              "        vertical-align: top;\n",
              "    }\n",
              "\n",
              "    .dataframe thead th {\n",
              "        text-align: right;\n",
              "    }\n",
              "</style>\n",
              "<table border=\"1\" class=\"dataframe\">\n",
              "  <thead>\n",
              "    <tr style=\"text-align: right;\">\n",
              "      <th></th>\n",
              "      <th>IW</th>\n",
              "      <th>IF</th>\n",
              "      <th>VW</th>\n",
              "      <th>FP</th>\n",
              "      <th>Depth</th>\n",
              "      <th>Width</th>\n",
              "    </tr>\n",
              "  </thead>\n",
              "  <tbody>\n",
              "    <tr>\n",
              "      <th>0</th>\n",
              "      <td>47</td>\n",
              "      <td>139</td>\n",
              "      <td>4.5</td>\n",
              "      <td>80</td>\n",
              "      <td>1.60</td>\n",
              "      <td>2.54</td>\n",
              "    </tr>\n",
              "    <tr>\n",
              "      <th>1</th>\n",
              "      <td>47</td>\n",
              "      <td>139</td>\n",
              "      <td>4.5</td>\n",
              "      <td>80</td>\n",
              "      <td>1.62</td>\n",
              "      <td>2.50</td>\n",
              "    </tr>\n",
              "    <tr>\n",
              "      <th>2</th>\n",
              "      <td>47</td>\n",
              "      <td>139</td>\n",
              "      <td>4.5</td>\n",
              "      <td>80</td>\n",
              "      <td>1.68</td>\n",
              "      <td>2.60</td>\n",
              "    </tr>\n",
              "    <tr>\n",
              "      <th>3</th>\n",
              "      <td>47</td>\n",
              "      <td>139</td>\n",
              "      <td>4.5</td>\n",
              "      <td>80</td>\n",
              "      <td>1.58</td>\n",
              "      <td>2.52</td>\n",
              "    </tr>\n",
              "    <tr>\n",
              "      <th>4</th>\n",
              "      <td>45</td>\n",
              "      <td>140</td>\n",
              "      <td>4.5</td>\n",
              "      <td>80</td>\n",
              "      <td>1.76</td>\n",
              "      <td>2.48</td>\n",
              "    </tr>\n",
              "    <tr>\n",
              "      <th>...</th>\n",
              "      <td>...</td>\n",
              "      <td>...</td>\n",
              "      <td>...</td>\n",
              "      <td>...</td>\n",
              "      <td>...</td>\n",
              "      <td>...</td>\n",
              "    </tr>\n",
              "    <tr>\n",
              "      <th>67</th>\n",
              "      <td>44</td>\n",
              "      <td>146</td>\n",
              "      <td>9.0</td>\n",
              "      <td>60</td>\n",
              "      <td>1.20</td>\n",
              "      <td>1.72</td>\n",
              "    </tr>\n",
              "    <tr>\n",
              "      <th>68</th>\n",
              "      <td>45</td>\n",
              "      <td>146</td>\n",
              "      <td>9.0</td>\n",
              "      <td>60</td>\n",
              "      <td>1.36</td>\n",
              "      <td>1.76</td>\n",
              "    </tr>\n",
              "    <tr>\n",
              "      <th>69</th>\n",
              "      <td>45</td>\n",
              "      <td>146</td>\n",
              "      <td>9.0</td>\n",
              "      <td>60</td>\n",
              "      <td>1.28</td>\n",
              "      <td>1.76</td>\n",
              "    </tr>\n",
              "    <tr>\n",
              "      <th>70</th>\n",
              "      <td>45</td>\n",
              "      <td>146</td>\n",
              "      <td>9.0</td>\n",
              "      <td>60</td>\n",
              "      <td>1.28</td>\n",
              "      <td>1.76</td>\n",
              "    </tr>\n",
              "    <tr>\n",
              "      <th>71</th>\n",
              "      <td>45</td>\n",
              "      <td>146</td>\n",
              "      <td>9.0</td>\n",
              "      <td>60</td>\n",
              "      <td>1.32</td>\n",
              "      <td>1.76</td>\n",
              "    </tr>\n",
              "  </tbody>\n",
              "</table>\n",
              "<p>72 rows × 6 columns</p>\n",
              "</div>\n",
              "      <button class=\"colab-df-convert\" onclick=\"convertToInteractive('df-5dc95efe-5109-40b9-811d-3b6a78bb4a4e')\"\n",
              "              title=\"Convert this dataframe to an interactive table.\"\n",
              "              style=\"display:none;\">\n",
              "        \n",
              "  <svg xmlns=\"http://www.w3.org/2000/svg\" height=\"24px\"viewBox=\"0 0 24 24\"\n",
              "       width=\"24px\">\n",
              "    <path d=\"M0 0h24v24H0V0z\" fill=\"none\"/>\n",
              "    <path d=\"M18.56 5.44l.94 2.06.94-2.06 2.06-.94-2.06-.94-.94-2.06-.94 2.06-2.06.94zm-11 1L8.5 8.5l.94-2.06 2.06-.94-2.06-.94L8.5 2.5l-.94 2.06-2.06.94zm10 10l.94 2.06.94-2.06 2.06-.94-2.06-.94-.94-2.06-.94 2.06-2.06.94z\"/><path d=\"M17.41 7.96l-1.37-1.37c-.4-.4-.92-.59-1.43-.59-.52 0-1.04.2-1.43.59L10.3 9.45l-7.72 7.72c-.78.78-.78 2.05 0 2.83L4 21.41c.39.39.9.59 1.41.59.51 0 1.02-.2 1.41-.59l7.78-7.78 2.81-2.81c.8-.78.8-2.07 0-2.86zM5.41 20L4 18.59l7.72-7.72 1.47 1.35L5.41 20z\"/>\n",
              "  </svg>\n",
              "      </button>\n",
              "      \n",
              "  <style>\n",
              "    .colab-df-container {\n",
              "      display:flex;\n",
              "      flex-wrap:wrap;\n",
              "      gap: 12px;\n",
              "    }\n",
              "\n",
              "    .colab-df-convert {\n",
              "      background-color: #E8F0FE;\n",
              "      border: none;\n",
              "      border-radius: 50%;\n",
              "      cursor: pointer;\n",
              "      display: none;\n",
              "      fill: #1967D2;\n",
              "      height: 32px;\n",
              "      padding: 0 0 0 0;\n",
              "      width: 32px;\n",
              "    }\n",
              "\n",
              "    .colab-df-convert:hover {\n",
              "      background-color: #E2EBFA;\n",
              "      box-shadow: 0px 1px 2px rgba(60, 64, 67, 0.3), 0px 1px 3px 1px rgba(60, 64, 67, 0.15);\n",
              "      fill: #174EA6;\n",
              "    }\n",
              "\n",
              "    [theme=dark] .colab-df-convert {\n",
              "      background-color: #3B4455;\n",
              "      fill: #D2E3FC;\n",
              "    }\n",
              "\n",
              "    [theme=dark] .colab-df-convert:hover {\n",
              "      background-color: #434B5C;\n",
              "      box-shadow: 0px 1px 3px 1px rgba(0, 0, 0, 0.15);\n",
              "      filter: drop-shadow(0px 1px 2px rgba(0, 0, 0, 0.3));\n",
              "      fill: #FFFFFF;\n",
              "    }\n",
              "  </style>\n",
              "\n",
              "      <script>\n",
              "        const buttonEl =\n",
              "          document.querySelector('#df-5dc95efe-5109-40b9-811d-3b6a78bb4a4e button.colab-df-convert');\n",
              "        buttonEl.style.display =\n",
              "          google.colab.kernel.accessAllowed ? 'block' : 'none';\n",
              "\n",
              "        async function convertToInteractive(key) {\n",
              "          const element = document.querySelector('#df-5dc95efe-5109-40b9-811d-3b6a78bb4a4e');\n",
              "          const dataTable =\n",
              "            await google.colab.kernel.invokeFunction('convertToInteractive',\n",
              "                                                     [key], {});\n",
              "          if (!dataTable) return;\n",
              "\n",
              "          const docLinkHtml = 'Like what you see? Visit the ' +\n",
              "            '<a target=\"_blank\" href=https://colab.research.google.com/notebooks/data_table.ipynb>data table notebook</a>'\n",
              "            + ' to learn more about interactive tables.';\n",
              "          element.innerHTML = '';\n",
              "          dataTable['output_type'] = 'display_data';\n",
              "          await google.colab.output.renderOutput(dataTable, element);\n",
              "          const docLink = document.createElement('div');\n",
              "          docLink.innerHTML = docLinkHtml;\n",
              "          element.appendChild(docLink);\n",
              "        }\n",
              "      </script>\n",
              "    </div>\n",
              "  </div>\n",
              "  "
            ]
          },
          "metadata": {},
          "execution_count": 5
        }
      ]
    },
    {
      "cell_type": "code",
      "source": [
        "X1, y1 = data.drop(['Depth', 'Width'], axis=1), data[['Depth']]\n",
        "X2, y2 = data.drop(['Depth', 'Width'], axis=1), data[['Width']]"
      ],
      "metadata": {
        "id": "SNBog2HehfOD"
      },
      "execution_count": 6,
      "outputs": []
    },
    {
      "cell_type": "code",
      "source": [
        "from sklearn.model_selection import train_test_split, KFold, GridSearchCV"
      ],
      "metadata": {
        "id": "gTk3soAdhnym"
      },
      "execution_count": 7,
      "outputs": []
    },
    {
      "cell_type": "code",
      "source": [
        "x_train, x_test, y_train, y_test = train_test_split(X1, y1, test_size=.8, random_state=17)"
      ],
      "metadata": {
        "id": "KP2H8mZZhnWK"
      },
      "execution_count": 8,
      "outputs": []
    },
    {
      "cell_type": "markdown",
      "metadata": {
        "id": "FaxQEJNPINzd"
      },
      "source": [
        "**Просмотр данных**"
      ]
    },
    {
      "cell_type": "code",
      "metadata": {
        "id": "m5Xrjy0zYlV_",
        "colab": {
          "base_uri": "https://localhost:8080/"
        },
        "outputId": "122c1f6d-cced-4a56-9c87-f2242b79370e"
      },
      "source": [
        "type(x_train)"
      ],
      "execution_count": 9,
      "outputs": [
        {
          "output_type": "execute_result",
          "data": {
            "text/plain": [
              "pandas.core.frame.DataFrame"
            ]
          },
          "metadata": {},
          "execution_count": 9
        }
      ]
    },
    {
      "cell_type": "code",
      "metadata": {
        "id": "uyx2mM2VYrlG",
        "colab": {
          "base_uri": "https://localhost:8080/"
        },
        "outputId": "075091e1-30a1-4375-ef01-2b66c5deaf9f"
      },
      "source": [
        "x_train.shape"
      ],
      "execution_count": 10,
      "outputs": [
        {
          "output_type": "execute_result",
          "data": {
            "text/plain": [
              "(14, 4)"
            ]
          },
          "metadata": {},
          "execution_count": 10
        }
      ]
    },
    {
      "cell_type": "code",
      "metadata": {
        "id": "vf0sbEuHY9v1",
        "colab": {
          "base_uri": "https://localhost:8080/"
        },
        "outputId": "29831ae5-24b8-4a6b-cdcc-8b497c117e2e"
      },
      "source": [
        "x_test.shape"
      ],
      "execution_count": 11,
      "outputs": [
        {
          "output_type": "execute_result",
          "data": {
            "text/plain": [
              "(58, 4)"
            ]
          },
          "metadata": {},
          "execution_count": 11
        }
      ]
    },
    {
      "cell_type": "code",
      "metadata": {
        "id": "lMG0jysTUjwq",
        "colab": {
          "base_uri": "https://localhost:8080/",
          "height": 143
        },
        "outputId": "b66c6ad1-536e-42ff-f262-02fb9bea75c6"
      },
      "source": [
        "x_train[:3]"
      ],
      "execution_count": 12,
      "outputs": [
        {
          "output_type": "execute_result",
          "data": {
            "text/plain": [
              "    IW   IF    VW  FP\n",
              "17  46  141  10.0  80\n",
              "46  46  146  10.0  60\n",
              "1   47  139   4.5  80"
            ],
            "text/html": [
              "\n",
              "  <div id=\"df-9bfcec4d-3da5-44d6-9791-429e0f24c665\">\n",
              "    <div class=\"colab-df-container\">\n",
              "      <div>\n",
              "<style scoped>\n",
              "    .dataframe tbody tr th:only-of-type {\n",
              "        vertical-align: middle;\n",
              "    }\n",
              "\n",
              "    .dataframe tbody tr th {\n",
              "        vertical-align: top;\n",
              "    }\n",
              "\n",
              "    .dataframe thead th {\n",
              "        text-align: right;\n",
              "    }\n",
              "</style>\n",
              "<table border=\"1\" class=\"dataframe\">\n",
              "  <thead>\n",
              "    <tr style=\"text-align: right;\">\n",
              "      <th></th>\n",
              "      <th>IW</th>\n",
              "      <th>IF</th>\n",
              "      <th>VW</th>\n",
              "      <th>FP</th>\n",
              "    </tr>\n",
              "  </thead>\n",
              "  <tbody>\n",
              "    <tr>\n",
              "      <th>17</th>\n",
              "      <td>46</td>\n",
              "      <td>141</td>\n",
              "      <td>10.0</td>\n",
              "      <td>80</td>\n",
              "    </tr>\n",
              "    <tr>\n",
              "      <th>46</th>\n",
              "      <td>46</td>\n",
              "      <td>146</td>\n",
              "      <td>10.0</td>\n",
              "      <td>60</td>\n",
              "    </tr>\n",
              "    <tr>\n",
              "      <th>1</th>\n",
              "      <td>47</td>\n",
              "      <td>139</td>\n",
              "      <td>4.5</td>\n",
              "      <td>80</td>\n",
              "    </tr>\n",
              "  </tbody>\n",
              "</table>\n",
              "</div>\n",
              "      <button class=\"colab-df-convert\" onclick=\"convertToInteractive('df-9bfcec4d-3da5-44d6-9791-429e0f24c665')\"\n",
              "              title=\"Convert this dataframe to an interactive table.\"\n",
              "              style=\"display:none;\">\n",
              "        \n",
              "  <svg xmlns=\"http://www.w3.org/2000/svg\" height=\"24px\"viewBox=\"0 0 24 24\"\n",
              "       width=\"24px\">\n",
              "    <path d=\"M0 0h24v24H0V0z\" fill=\"none\"/>\n",
              "    <path d=\"M18.56 5.44l.94 2.06.94-2.06 2.06-.94-2.06-.94-.94-2.06-.94 2.06-2.06.94zm-11 1L8.5 8.5l.94-2.06 2.06-.94-2.06-.94L8.5 2.5l-.94 2.06-2.06.94zm10 10l.94 2.06.94-2.06 2.06-.94-2.06-.94-.94-2.06-.94 2.06-2.06.94z\"/><path d=\"M17.41 7.96l-1.37-1.37c-.4-.4-.92-.59-1.43-.59-.52 0-1.04.2-1.43.59L10.3 9.45l-7.72 7.72c-.78.78-.78 2.05 0 2.83L4 21.41c.39.39.9.59 1.41.59.51 0 1.02-.2 1.41-.59l7.78-7.78 2.81-2.81c.8-.78.8-2.07 0-2.86zM5.41 20L4 18.59l7.72-7.72 1.47 1.35L5.41 20z\"/>\n",
              "  </svg>\n",
              "      </button>\n",
              "      \n",
              "  <style>\n",
              "    .colab-df-container {\n",
              "      display:flex;\n",
              "      flex-wrap:wrap;\n",
              "      gap: 12px;\n",
              "    }\n",
              "\n",
              "    .colab-df-convert {\n",
              "      background-color: #E8F0FE;\n",
              "      border: none;\n",
              "      border-radius: 50%;\n",
              "      cursor: pointer;\n",
              "      display: none;\n",
              "      fill: #1967D2;\n",
              "      height: 32px;\n",
              "      padding: 0 0 0 0;\n",
              "      width: 32px;\n",
              "    }\n",
              "\n",
              "    .colab-df-convert:hover {\n",
              "      background-color: #E2EBFA;\n",
              "      box-shadow: 0px 1px 2px rgba(60, 64, 67, 0.3), 0px 1px 3px 1px rgba(60, 64, 67, 0.15);\n",
              "      fill: #174EA6;\n",
              "    }\n",
              "\n",
              "    [theme=dark] .colab-df-convert {\n",
              "      background-color: #3B4455;\n",
              "      fill: #D2E3FC;\n",
              "    }\n",
              "\n",
              "    [theme=dark] .colab-df-convert:hover {\n",
              "      background-color: #434B5C;\n",
              "      box-shadow: 0px 1px 3px 1px rgba(0, 0, 0, 0.15);\n",
              "      filter: drop-shadow(0px 1px 2px rgba(0, 0, 0, 0.3));\n",
              "      fill: #FFFFFF;\n",
              "    }\n",
              "  </style>\n",
              "\n",
              "      <script>\n",
              "        const buttonEl =\n",
              "          document.querySelector('#df-9bfcec4d-3da5-44d6-9791-429e0f24c665 button.colab-df-convert');\n",
              "        buttonEl.style.display =\n",
              "          google.colab.kernel.accessAllowed ? 'block' : 'none';\n",
              "\n",
              "        async function convertToInteractive(key) {\n",
              "          const element = document.querySelector('#df-9bfcec4d-3da5-44d6-9791-429e0f24c665');\n",
              "          const dataTable =\n",
              "            await google.colab.kernel.invokeFunction('convertToInteractive',\n",
              "                                                     [key], {});\n",
              "          if (!dataTable) return;\n",
              "\n",
              "          const docLinkHtml = 'Like what you see? Visit the ' +\n",
              "            '<a target=\"_blank\" href=https://colab.research.google.com/notebooks/data_table.ipynb>data table notebook</a>'\n",
              "            + ' to learn more about interactive tables.';\n",
              "          element.innerHTML = '';\n",
              "          dataTable['output_type'] = 'display_data';\n",
              "          await google.colab.output.renderOutput(dataTable, element);\n",
              "          const docLink = document.createElement('div');\n",
              "          docLink.innerHTML = docLinkHtml;\n",
              "          element.appendChild(docLink);\n",
              "        }\n",
              "      </script>\n",
              "    </div>\n",
              "  </div>\n",
              "  "
            ]
          },
          "metadata": {},
          "execution_count": 12
        }
      ]
    },
    {
      "cell_type": "code",
      "metadata": {
        "id": "v1MVhvjhU24s",
        "colab": {
          "base_uri": "https://localhost:8080/",
          "height": 143
        },
        "outputId": "b47a7191-bcf2-49d4-c006-e43cdc608023"
      },
      "source": [
        "y_train[:3]"
      ],
      "execution_count": 13,
      "outputs": [
        {
          "output_type": "execute_result",
          "data": {
            "text/plain": [
              "    Depth\n",
              "17   1.00\n",
              "46   1.36\n",
              "1    1.62"
            ],
            "text/html": [
              "\n",
              "  <div id=\"df-01336938-c6b6-48b7-9891-e0f7c819baa1\">\n",
              "    <div class=\"colab-df-container\">\n",
              "      <div>\n",
              "<style scoped>\n",
              "    .dataframe tbody tr th:only-of-type {\n",
              "        vertical-align: middle;\n",
              "    }\n",
              "\n",
              "    .dataframe tbody tr th {\n",
              "        vertical-align: top;\n",
              "    }\n",
              "\n",
              "    .dataframe thead th {\n",
              "        text-align: right;\n",
              "    }\n",
              "</style>\n",
              "<table border=\"1\" class=\"dataframe\">\n",
              "  <thead>\n",
              "    <tr style=\"text-align: right;\">\n",
              "      <th></th>\n",
              "      <th>Depth</th>\n",
              "    </tr>\n",
              "  </thead>\n",
              "  <tbody>\n",
              "    <tr>\n",
              "      <th>17</th>\n",
              "      <td>1.00</td>\n",
              "    </tr>\n",
              "    <tr>\n",
              "      <th>46</th>\n",
              "      <td>1.36</td>\n",
              "    </tr>\n",
              "    <tr>\n",
              "      <th>1</th>\n",
              "      <td>1.62</td>\n",
              "    </tr>\n",
              "  </tbody>\n",
              "</table>\n",
              "</div>\n",
              "      <button class=\"colab-df-convert\" onclick=\"convertToInteractive('df-01336938-c6b6-48b7-9891-e0f7c819baa1')\"\n",
              "              title=\"Convert this dataframe to an interactive table.\"\n",
              "              style=\"display:none;\">\n",
              "        \n",
              "  <svg xmlns=\"http://www.w3.org/2000/svg\" height=\"24px\"viewBox=\"0 0 24 24\"\n",
              "       width=\"24px\">\n",
              "    <path d=\"M0 0h24v24H0V0z\" fill=\"none\"/>\n",
              "    <path d=\"M18.56 5.44l.94 2.06.94-2.06 2.06-.94-2.06-.94-.94-2.06-.94 2.06-2.06.94zm-11 1L8.5 8.5l.94-2.06 2.06-.94-2.06-.94L8.5 2.5l-.94 2.06-2.06.94zm10 10l.94 2.06.94-2.06 2.06-.94-2.06-.94-.94-2.06-.94 2.06-2.06.94z\"/><path d=\"M17.41 7.96l-1.37-1.37c-.4-.4-.92-.59-1.43-.59-.52 0-1.04.2-1.43.59L10.3 9.45l-7.72 7.72c-.78.78-.78 2.05 0 2.83L4 21.41c.39.39.9.59 1.41.59.51 0 1.02-.2 1.41-.59l7.78-7.78 2.81-2.81c.8-.78.8-2.07 0-2.86zM5.41 20L4 18.59l7.72-7.72 1.47 1.35L5.41 20z\"/>\n",
              "  </svg>\n",
              "      </button>\n",
              "      \n",
              "  <style>\n",
              "    .colab-df-container {\n",
              "      display:flex;\n",
              "      flex-wrap:wrap;\n",
              "      gap: 12px;\n",
              "    }\n",
              "\n",
              "    .colab-df-convert {\n",
              "      background-color: #E8F0FE;\n",
              "      border: none;\n",
              "      border-radius: 50%;\n",
              "      cursor: pointer;\n",
              "      display: none;\n",
              "      fill: #1967D2;\n",
              "      height: 32px;\n",
              "      padding: 0 0 0 0;\n",
              "      width: 32px;\n",
              "    }\n",
              "\n",
              "    .colab-df-convert:hover {\n",
              "      background-color: #E2EBFA;\n",
              "      box-shadow: 0px 1px 2px rgba(60, 64, 67, 0.3), 0px 1px 3px 1px rgba(60, 64, 67, 0.15);\n",
              "      fill: #174EA6;\n",
              "    }\n",
              "\n",
              "    [theme=dark] .colab-df-convert {\n",
              "      background-color: #3B4455;\n",
              "      fill: #D2E3FC;\n",
              "    }\n",
              "\n",
              "    [theme=dark] .colab-df-convert:hover {\n",
              "      background-color: #434B5C;\n",
              "      box-shadow: 0px 1px 3px 1px rgba(0, 0, 0, 0.15);\n",
              "      filter: drop-shadow(0px 1px 2px rgba(0, 0, 0, 0.3));\n",
              "      fill: #FFFFFF;\n",
              "    }\n",
              "  </style>\n",
              "\n",
              "      <script>\n",
              "        const buttonEl =\n",
              "          document.querySelector('#df-01336938-c6b6-48b7-9891-e0f7c819baa1 button.colab-df-convert');\n",
              "        buttonEl.style.display =\n",
              "          google.colab.kernel.accessAllowed ? 'block' : 'none';\n",
              "\n",
              "        async function convertToInteractive(key) {\n",
              "          const element = document.querySelector('#df-01336938-c6b6-48b7-9891-e0f7c819baa1');\n",
              "          const dataTable =\n",
              "            await google.colab.kernel.invokeFunction('convertToInteractive',\n",
              "                                                     [key], {});\n",
              "          if (!dataTable) return;\n",
              "\n",
              "          const docLinkHtml = 'Like what you see? Visit the ' +\n",
              "            '<a target=\"_blank\" href=https://colab.research.google.com/notebooks/data_table.ipynb>data table notebook</a>'\n",
              "            + ' to learn more about interactive tables.';\n",
              "          element.innerHTML = '';\n",
              "          dataTable['output_type'] = 'display_data';\n",
              "          await google.colab.output.renderOutput(dataTable, element);\n",
              "          const docLink = document.createElement('div');\n",
              "          docLink.innerHTML = docLinkHtml;\n",
              "          element.appendChild(docLink);\n",
              "        }\n",
              "      </script>\n",
              "    </div>\n",
              "  </div>\n",
              "  "
            ]
          },
          "metadata": {},
          "execution_count": 13
        }
      ]
    },
    {
      "cell_type": "markdown",
      "metadata": {
        "id": "H2-y8KVEIhHN"
      },
      "source": [
        "**Нормализация данных**\n",
        "\n",
        "Вычитаем среднее значение и делим на стандартное отклонение"
      ]
    },
    {
      "cell_type": "code",
      "metadata": {
        "id": "YiOT7gOXIp9d"
      },
      "source": [
        "# Среднее значение для обучающего набора данных\n",
        "mean = x_train.mean(axis=0)\n",
        "# Стандартное отклонение для обучающего набора данных\n",
        "std = x_train.std(axis=0)\n",
        "x_train -= mean\n",
        "x_train /= std\n",
        "x_test -= mean\n",
        "x_test /= std"
      ],
      "execution_count": 14,
      "outputs": []
    },
    {
      "cell_type": "markdown",
      "metadata": {
        "id": "RmlSp15AK_JG"
      },
      "source": [
        "## Создаем нейронную сеть\n",
        "\n",
        "Выходной слой с одним линейным нейроном - для задачи регрессии функция активации - RELU.\n",
        "\n",
        "Конфигурация сети из примера - https://www.tensorflow.org/tutorials/keras/basic_regression"
      ]
    },
    {
      "cell_type": "code",
      "metadata": {
        "id": "YnCnMQ91LCKV"
      },
      "source": [
        "model = Sequential()\n",
        "model.add(Dense(64, activation='relu', input_shape=(x_train.shape[1],)))\n",
        "model.add(Dense(64, activation='relu', input_shape=(x_train.shape[1],), kernel_regularizer=l2(0.01)))\n",
        "model.add(Dense(64, activation='relu', kernel_regularizer=l2(0.01)))\n",
        "model.add(Dense(64, activation='relu'))\n",
        "#model.add(Dense(1)) # если допускаются отрицательные значения\n",
        "model.add(Dense(1, activation='relu'))"
      ],
      "execution_count": 16,
      "outputs": []
    },
    {
      "cell_type": "code",
      "metadata": {
        "id": "kFAVtJ1Z5jhy",
        "colab": {
          "base_uri": "https://localhost:8080/"
        },
        "outputId": "c8c1e049-0af9-486c-8b4f-617b703879d0"
      },
      "source": [
        "print(model.summary())"
      ],
      "execution_count": 17,
      "outputs": [
        {
          "output_type": "stream",
          "name": "stdout",
          "text": [
            "Model: \"sequential_1\"\n",
            "_________________________________________________________________\n",
            " Layer (type)                Output Shape              Param #   \n",
            "=================================================================\n",
            " dense_1 (Dense)             (None, 64)                320       \n",
            "                                                                 \n",
            " dense_2 (Dense)             (None, 64)                4160      \n",
            "                                                                 \n",
            " dense_3 (Dense)             (None, 64)                4160      \n",
            "                                                                 \n",
            " dense_4 (Dense)             (None, 64)                4160      \n",
            "                                                                 \n",
            " dense_5 (Dense)             (None, 1)                 65        \n",
            "                                                                 \n",
            "=================================================================\n",
            "Total params: 12,865\n",
            "Trainable params: 12,865\n",
            "Non-trainable params: 0\n",
            "_________________________________________________________________\n",
            "None\n"
          ]
        }
      ]
    },
    {
      "cell_type": "markdown",
      "metadata": {
        "id": "F3g-CAK5LPx1"
      },
      "source": [
        "**Компилируем сеть**\n",
        "\n",
        "Функция ошибки - среднеквадратичное отклонение. Метрика - среднее абсолютное отклонение."
      ]
    },
    {
      "cell_type": "code",
      "metadata": {
        "id": "WOdqoaTkLNCe"
      },
      "source": [
        "model.compile(optimizer='rmsprop', loss='mse', metrics=['mae'])"
      ],
      "execution_count": 18,
      "outputs": []
    },
    {
      "cell_type": "markdown",
      "metadata": {
        "id": "cuE2Ekt1LeUW"
      },
      "source": [
        "## Обучаем нейронную сеть\n",
        "\n"
      ]
    },
    {
      "cell_type": "code",
      "metadata": {
        "id": "1EcFPWZcLmRl",
        "colab": {
          "base_uri": "https://localhost:8080/"
        },
        "outputId": "e91502d2-f0ff-49e0-a203-a65eb01702f9"
      },
      "source": [
        "history = model.fit(x_train, \n",
        "                    y_train, \n",
        "                    epochs=200, \n",
        "                    validation_split=0.1, \n",
        "                    verbose=2)"
      ],
      "execution_count": 19,
      "outputs": [
        {
          "output_type": "stream",
          "name": "stdout",
          "text": [
            "Epoch 1/200\n",
            "1/1 - 4s - loss: 2.9121 - mae: 1.2659 - val_loss: 3.0212 - val_mae: 1.3056 - 4s/epoch - 4s/step\n",
            "Epoch 2/200\n",
            "1/1 - 0s - loss: 2.7655 - mae: 1.2288 - val_loss: 2.7321 - val_mae: 1.2062 - 30ms/epoch - 30ms/step\n",
            "Epoch 3/200\n",
            "1/1 - 0s - loss: 2.4538 - mae: 1.1023 - val_loss: 2.4943 - val_mae: 1.1175 - 31ms/epoch - 31ms/step\n",
            "Epoch 4/200\n",
            "1/1 - 0s - loss: 2.1913 - mae: 0.9770 - val_loss: 2.2778 - val_mae: 1.0296 - 26ms/epoch - 26ms/step\n",
            "Epoch 5/200\n",
            "1/1 - 0s - loss: 1.9717 - mae: 0.8568 - val_loss: 2.0659 - val_mae: 0.9347 - 24ms/epoch - 24ms/step\n",
            "Epoch 6/200\n",
            "1/1 - 0s - loss: 1.7797 - mae: 0.7605 - val_loss: 1.8782 - val_mae: 0.8410 - 25ms/epoch - 25ms/step\n",
            "Epoch 7/200\n",
            "1/1 - 0s - loss: 1.6049 - mae: 0.6607 - val_loss: 1.7065 - val_mae: 0.7451 - 24ms/epoch - 24ms/step\n",
            "Epoch 8/200\n",
            "1/1 - 0s - loss: 1.4571 - mae: 0.5529 - val_loss: 1.5596 - val_mae: 0.6520 - 23ms/epoch - 23ms/step\n",
            "Epoch 9/200\n",
            "1/1 - 0s - loss: 1.3452 - mae: 0.4494 - val_loss: 1.4407 - val_mae: 0.5668 - 23ms/epoch - 23ms/step\n",
            "Epoch 10/200\n",
            "1/1 - 0s - loss: 1.2607 - mae: 0.3475 - val_loss: 1.3500 - val_mae: 0.4936 - 43ms/epoch - 43ms/step\n",
            "Epoch 11/200\n",
            "1/1 - 0s - loss: 1.2055 - mae: 0.2639 - val_loss: 1.2824 - val_mae: 0.4334 - 25ms/epoch - 25ms/step\n",
            "Epoch 12/200\n",
            "1/1 - 0s - loss: 1.1703 - mae: 0.2133 - val_loss: 1.2352 - val_mae: 0.3897 - 23ms/epoch - 23ms/step\n",
            "Epoch 13/200\n",
            "1/1 - 0s - loss: 1.1440 - mae: 0.1880 - val_loss: 1.1975 - val_mae: 0.3535 - 24ms/epoch - 24ms/step\n",
            "Epoch 14/200\n",
            "1/1 - 0s - loss: 1.1223 - mae: 0.1714 - val_loss: 1.1653 - val_mae: 0.3213 - 28ms/epoch - 28ms/step\n",
            "Epoch 15/200\n",
            "1/1 - 0s - loss: 1.1028 - mae: 0.1555 - val_loss: 1.1375 - val_mae: 0.2928 - 24ms/epoch - 24ms/step\n",
            "Epoch 16/200\n",
            "1/1 - 0s - loss: 1.0855 - mae: 0.1417 - val_loss: 1.1128 - val_mae: 0.2673 - 24ms/epoch - 24ms/step\n",
            "Epoch 17/200\n",
            "1/1 - 0s - loss: 1.0695 - mae: 0.1289 - val_loss: 1.0895 - val_mae: 0.2418 - 37ms/epoch - 37ms/step\n",
            "Epoch 18/200\n",
            "1/1 - 0s - loss: 1.0546 - mae: 0.1174 - val_loss: 1.0690 - val_mae: 0.2201 - 25ms/epoch - 25ms/step\n",
            "Epoch 19/200\n",
            "1/1 - 0s - loss: 1.0406 - mae: 0.1082 - val_loss: 1.0507 - val_mae: 0.2018 - 23ms/epoch - 23ms/step\n",
            "Epoch 20/200\n",
            "1/1 - 0s - loss: 1.0271 - mae: 0.0998 - val_loss: 1.0331 - val_mae: 0.1839 - 25ms/epoch - 25ms/step\n",
            "Epoch 21/200\n",
            "1/1 - 0s - loss: 1.0143 - mae: 0.0925 - val_loss: 1.0172 - val_mae: 0.1694 - 29ms/epoch - 29ms/step\n",
            "Epoch 22/200\n",
            "1/1 - 0s - loss: 1.0019 - mae: 0.0879 - val_loss: 1.0010 - val_mae: 0.1525 - 24ms/epoch - 24ms/step\n",
            "Epoch 23/200\n",
            "1/1 - 0s - loss: 0.9896 - mae: 0.0849 - val_loss: 0.9867 - val_mae: 0.1415 - 43ms/epoch - 43ms/step\n",
            "Epoch 24/200\n",
            "1/1 - 0s - loss: 0.9777 - mae: 0.0819 - val_loss: 0.9718 - val_mae: 0.1271 - 24ms/epoch - 24ms/step\n",
            "Epoch 25/200\n",
            "1/1 - 0s - loss: 0.9659 - mae: 0.0800 - val_loss: 0.9586 - val_mae: 0.1187 - 25ms/epoch - 25ms/step\n",
            "Epoch 26/200\n",
            "1/1 - 0s - loss: 0.9542 - mae: 0.0773 - val_loss: 0.9448 - val_mae: 0.1066 - 24ms/epoch - 24ms/step\n",
            "Epoch 27/200\n",
            "1/1 - 0s - loss: 0.9426 - mae: 0.0756 - val_loss: 0.9323 - val_mae: 0.1003 - 23ms/epoch - 23ms/step\n",
            "Epoch 28/200\n",
            "1/1 - 0s - loss: 0.9311 - mae: 0.0736 - val_loss: 0.9189 - val_mae: 0.0878 - 23ms/epoch - 23ms/step\n",
            "Epoch 29/200\n",
            "1/1 - 0s - loss: 0.9196 - mae: 0.0726 - val_loss: 0.9073 - val_mae: 0.0857 - 41ms/epoch - 41ms/step\n",
            "Epoch 30/200\n",
            "1/1 - 0s - loss: 0.9082 - mae: 0.0709 - val_loss: 0.8941 - val_mae: 0.0710 - 47ms/epoch - 47ms/step\n",
            "Epoch 31/200\n",
            "1/1 - 0s - loss: 0.8969 - mae: 0.0698 - val_loss: 0.8830 - val_mae: 0.0726 - 24ms/epoch - 24ms/step\n",
            "Epoch 32/200\n",
            "1/1 - 0s - loss: 0.8856 - mae: 0.0684 - val_loss: 0.8700 - val_mae: 0.0555 - 24ms/epoch - 24ms/step\n",
            "Epoch 33/200\n",
            "1/1 - 0s - loss: 0.8743 - mae: 0.0673 - val_loss: 0.8596 - val_mae: 0.0645 - 24ms/epoch - 24ms/step\n",
            "Epoch 34/200\n",
            "1/1 - 0s - loss: 0.8632 - mae: 0.0667 - val_loss: 0.8463 - val_mae: 0.0378 - 28ms/epoch - 28ms/step\n",
            "Epoch 35/200\n",
            "1/1 - 0s - loss: 0.8522 - mae: 0.0656 - val_loss: 0.8376 - val_mae: 0.0655 - 26ms/epoch - 26ms/step\n",
            "Epoch 36/200\n",
            "1/1 - 0s - loss: 0.8415 - mae: 0.0699 - val_loss: 0.8235 - val_mae: 0.0221 - 25ms/epoch - 25ms/step\n",
            "Epoch 37/200\n",
            "1/1 - 0s - loss: 0.8312 - mae: 0.0695 - val_loss: 0.8176 - val_mae: 0.0782 - 24ms/epoch - 24ms/step\n",
            "Epoch 38/200\n",
            "1/1 - 0s - loss: 0.8220 - mae: 0.0802 - val_loss: 0.8028 - val_mae: 0.0226 - 24ms/epoch - 24ms/step\n",
            "Epoch 39/200\n",
            "1/1 - 0s - loss: 0.8130 - mae: 0.0922 - val_loss: 0.7996 - val_mae: 0.0956 - 28ms/epoch - 28ms/step\n",
            "Epoch 40/200\n",
            "1/1 - 0s - loss: 0.8050 - mae: 0.1027 - val_loss: 0.7834 - val_mae: 0.0336 - 26ms/epoch - 26ms/step\n",
            "Epoch 41/200\n",
            "1/1 - 0s - loss: 0.7938 - mae: 0.0986 - val_loss: 0.7785 - val_mae: 0.0885 - 24ms/epoch - 24ms/step\n",
            "Epoch 42/200\n",
            "1/1 - 0s - loss: 0.7846 - mae: 0.1012 - val_loss: 0.7633 - val_mae: 0.0335 - 25ms/epoch - 25ms/step\n",
            "Epoch 43/200\n",
            "1/1 - 0s - loss: 0.7721 - mae: 0.0890 - val_loss: 0.7555 - val_mae: 0.0645 - 29ms/epoch - 29ms/step\n",
            "Epoch 44/200\n",
            "1/1 - 0s - loss: 0.7618 - mae: 0.0844 - val_loss: 0.7434 - val_mae: 0.0288 - 26ms/epoch - 26ms/step\n",
            "Epoch 45/200\n",
            "1/1 - 0s - loss: 0.7504 - mae: 0.0754 - val_loss: 0.7344 - val_mae: 0.0462 - 25ms/epoch - 25ms/step\n",
            "Epoch 46/200\n",
            "1/1 - 0s - loss: 0.7405 - mae: 0.0742 - val_loss: 0.7241 - val_mae: 0.0304 - 25ms/epoch - 25ms/step\n",
            "Epoch 47/200\n",
            "1/1 - 0s - loss: 0.7302 - mae: 0.0687 - val_loss: 0.7149 - val_mae: 0.0394 - 25ms/epoch - 25ms/step\n",
            "Epoch 48/200\n",
            "1/1 - 0s - loss: 0.7208 - mae: 0.0710 - val_loss: 0.7055 - val_mae: 0.0355 - 25ms/epoch - 25ms/step\n",
            "Epoch 49/200\n",
            "1/1 - 0s - loss: 0.7110 - mae: 0.0680 - val_loss: 0.6960 - val_mae: 0.0360 - 25ms/epoch - 25ms/step\n",
            "Epoch 50/200\n",
            "1/1 - 0s - loss: 0.7020 - mae: 0.0723 - val_loss: 0.6878 - val_mae: 0.0477 - 25ms/epoch - 25ms/step\n",
            "Epoch 51/200\n",
            "1/1 - 0s - loss: 0.6928 - mae: 0.0734 - val_loss: 0.6791 - val_mae: 0.0497 - 24ms/epoch - 24ms/step\n",
            "Epoch 52/200\n",
            "1/1 - 0s - loss: 0.6853 - mae: 0.0835 - val_loss: 0.6713 - val_mae: 0.0619 - 29ms/epoch - 29ms/step\n",
            "Epoch 53/200\n",
            "1/1 - 0s - loss: 0.6766 - mae: 0.0846 - val_loss: 0.6619 - val_mae: 0.0552 - 24ms/epoch - 24ms/step\n",
            "Epoch 54/200\n",
            "1/1 - 0s - loss: 0.6695 - mae: 0.0950 - val_loss: 0.6549 - val_mae: 0.0710 - 26ms/epoch - 26ms/step\n",
            "Epoch 55/200\n",
            "1/1 - 0s - loss: 0.6590 - mae: 0.0857 - val_loss: 0.6440 - val_mae: 0.0488 - 27ms/epoch - 27ms/step\n",
            "Epoch 56/200\n",
            "1/1 - 0s - loss: 0.6509 - mae: 0.0891 - val_loss: 0.6365 - val_mae: 0.0623 - 32ms/epoch - 32ms/step\n",
            "Epoch 57/200\n",
            "1/1 - 0s - loss: 0.6403 - mae: 0.0770 - val_loss: 0.6256 - val_mae: 0.0390 - 23ms/epoch - 23ms/step\n",
            "Epoch 58/200\n",
            "1/1 - 0s - loss: 0.6316 - mae: 0.0776 - val_loss: 0.6192 - val_mae: 0.0593 - 24ms/epoch - 24ms/step\n",
            "Epoch 59/200\n",
            "1/1 - 0s - loss: 0.6222 - mae: 0.0697 - val_loss: 0.6085 - val_mae: 0.0407 - 28ms/epoch - 28ms/step\n",
            "Epoch 60/200\n",
            "1/1 - 0s - loss: 0.6141 - mae: 0.0731 - val_loss: 0.6030 - val_mae: 0.0628 - 24ms/epoch - 24ms/step\n",
            "Epoch 61/200\n",
            "1/1 - 0s - loss: 0.6052 - mae: 0.0684 - val_loss: 0.5922 - val_mae: 0.0448 - 24ms/epoch - 24ms/step\n",
            "Epoch 62/200\n",
            "1/1 - 0s - loss: 0.5974 - mae: 0.0728 - val_loss: 0.5872 - val_mae: 0.0672 - 23ms/epoch - 23ms/step\n",
            "Epoch 63/200\n",
            "1/1 - 0s - loss: 0.5890 - mae: 0.0701 - val_loss: 0.5768 - val_mae: 0.0490 - 23ms/epoch - 23ms/step\n",
            "Epoch 64/200\n",
            "1/1 - 0s - loss: 0.5822 - mae: 0.0801 - val_loss: 0.5722 - val_mae: 0.0741 - 24ms/epoch - 24ms/step\n",
            "Epoch 65/200\n",
            "1/1 - 0s - loss: 0.5738 - mae: 0.0751 - val_loss: 0.5612 - val_mae: 0.0516 - 24ms/epoch - 24ms/step\n",
            "Epoch 66/200\n",
            "1/1 - 0s - loss: 0.5669 - mae: 0.0843 - val_loss: 0.5573 - val_mae: 0.0782 - 25ms/epoch - 25ms/step\n",
            "Epoch 67/200\n",
            "1/1 - 0s - loss: 0.5582 - mae: 0.0757 - val_loss: 0.5457 - val_mae: 0.0512 - 25ms/epoch - 25ms/step\n",
            "Epoch 68/200\n",
            "1/1 - 0s - loss: 0.5514 - mae: 0.0838 - val_loss: 0.5417 - val_mae: 0.0765 - 32ms/epoch - 32ms/step\n",
            "Epoch 69/200\n",
            "1/1 - 0s - loss: 0.5425 - mae: 0.0729 - val_loss: 0.5299 - val_mae: 0.0513 - 25ms/epoch - 25ms/step\n",
            "Epoch 70/200\n",
            "1/1 - 0s - loss: 0.5350 - mae: 0.0768 - val_loss: 0.5266 - val_mae: 0.0750 - 29ms/epoch - 29ms/step\n",
            "Epoch 71/200\n",
            "1/1 - 0s - loss: 0.5268 - mae: 0.0686 - val_loss: 0.5154 - val_mae: 0.0528 - 23ms/epoch - 23ms/step\n",
            "Epoch 72/200\n",
            "1/1 - 0s - loss: 0.5201 - mae: 0.0756 - val_loss: 0.5118 - val_mae: 0.0736 - 23ms/epoch - 23ms/step\n",
            "Epoch 73/200\n",
            "1/1 - 0s - loss: 0.5120 - mae: 0.0676 - val_loss: 0.5007 - val_mae: 0.0540 - 25ms/epoch - 25ms/step\n",
            "Epoch 74/200\n",
            "1/1 - 0s - loss: 0.5053 - mae: 0.0749 - val_loss: 0.4980 - val_mae: 0.0780 - 23ms/epoch - 23ms/step\n",
            "Epoch 75/200\n",
            "1/1 - 0s - loss: 0.4977 - mae: 0.0687 - val_loss: 0.4870 - val_mae: 0.0570 - 24ms/epoch - 24ms/step\n",
            "Epoch 76/200\n",
            "1/1 - 0s - loss: 0.4918 - mae: 0.0790 - val_loss: 0.4850 - val_mae: 0.0836 - 26ms/epoch - 26ms/step\n",
            "Epoch 77/200\n",
            "1/1 - 0s - loss: 0.4841 - mae: 0.0715 - val_loss: 0.4732 - val_mae: 0.0575 - 26ms/epoch - 26ms/step\n",
            "Epoch 78/200\n",
            "1/1 - 0s - loss: 0.4781 - mae: 0.0810 - val_loss: 0.4712 - val_mae: 0.0829 - 27ms/epoch - 27ms/step\n",
            "Epoch 79/200\n",
            "1/1 - 0s - loss: 0.4703 - mae: 0.0701 - val_loss: 0.4594 - val_mae: 0.0568 - 28ms/epoch - 28ms/step\n",
            "Epoch 80/200\n",
            "1/1 - 0s - loss: 0.4639 - mae: 0.0773 - val_loss: 0.4574 - val_mae: 0.0804 - 26ms/epoch - 26ms/step\n",
            "Epoch 81/200\n",
            "1/1 - 0s - loss: 0.4565 - mae: 0.0676 - val_loss: 0.4463 - val_mae: 0.0583 - 25ms/epoch - 25ms/step\n",
            "Epoch 82/200\n",
            "1/1 - 0s - loss: 0.4509 - mae: 0.0774 - val_loss: 0.4449 - val_mae: 0.0836 - 24ms/epoch - 24ms/step\n",
            "Epoch 83/200\n",
            "1/1 - 0s - loss: 0.4435 - mae: 0.0685 - val_loss: 0.4333 - val_mae: 0.0581 - 25ms/epoch - 25ms/step\n",
            "Epoch 84/200\n",
            "1/1 - 0s - loss: 0.4378 - mae: 0.0774 - val_loss: 0.4321 - val_mae: 0.0832 - 25ms/epoch - 25ms/step\n",
            "Epoch 85/200\n",
            "1/1 - 0s - loss: 0.4306 - mae: 0.0674 - val_loss: 0.4211 - val_mae: 0.0603 - 25ms/epoch - 25ms/step\n",
            "Epoch 86/200\n",
            "1/1 - 0s - loss: 0.4251 - mae: 0.0767 - val_loss: 0.4195 - val_mae: 0.0823 - 26ms/epoch - 26ms/step\n",
            "Epoch 87/200\n",
            "1/1 - 0s - loss: 0.4181 - mae: 0.0674 - val_loss: 0.4086 - val_mae: 0.0590 - 25ms/epoch - 25ms/step\n",
            "Epoch 88/200\n",
            "1/1 - 0s - loss: 0.4129 - mae: 0.0771 - val_loss: 0.4077 - val_mae: 0.0843 - 25ms/epoch - 25ms/step\n",
            "Epoch 89/200\n",
            "1/1 - 0s - loss: 0.4059 - mae: 0.0665 - val_loss: 0.3962 - val_mae: 0.0589 - 25ms/epoch - 25ms/step\n",
            "Epoch 90/200\n",
            "1/1 - 0s - loss: 0.4002 - mae: 0.0739 - val_loss: 0.3958 - val_mae: 0.0845 - 28ms/epoch - 28ms/step\n",
            "Epoch 91/200\n",
            "1/1 - 0s - loss: 0.3937 - mae: 0.0652 - val_loss: 0.3846 - val_mae: 0.0589 - 26ms/epoch - 26ms/step\n",
            "Epoch 92/200\n",
            "1/1 - 0s - loss: 0.3887 - mae: 0.0753 - val_loss: 0.3842 - val_mae: 0.0851 - 26ms/epoch - 26ms/step\n",
            "Epoch 93/200\n",
            "1/1 - 0s - loss: 0.3823 - mae: 0.0666 - val_loss: 0.3732 - val_mae: 0.0601 - 25ms/epoch - 25ms/step\n",
            "Epoch 94/200\n",
            "1/1 - 0s - loss: 0.3774 - mae: 0.0766 - val_loss: 0.3733 - val_mae: 0.0873 - 24ms/epoch - 24ms/step\n",
            "Epoch 95/200\n",
            "1/1 - 0s - loss: 0.3712 - mae: 0.0677 - val_loss: 0.3628 - val_mae: 0.0615 - 24ms/epoch - 24ms/step\n",
            "Epoch 96/200\n",
            "1/1 - 0s - loss: 0.3672 - mae: 0.0812 - val_loss: 0.3622 - val_mae: 0.0862 - 24ms/epoch - 24ms/step\n",
            "Epoch 97/200\n",
            "1/1 - 0s - loss: 0.3607 - mae: 0.0701 - val_loss: 0.3512 - val_mae: 0.0589 - 27ms/epoch - 27ms/step\n",
            "Epoch 98/200\n",
            "1/1 - 0s - loss: 0.3557 - mae: 0.0782 - val_loss: 0.3512 - val_mae: 0.0849 - 29ms/epoch - 29ms/step\n",
            "Epoch 99/200\n",
            "1/1 - 0s - loss: 0.3493 - mae: 0.0660 - val_loss: 0.3407 - val_mae: 0.0602 - 25ms/epoch - 25ms/step\n",
            "Epoch 100/200\n",
            "1/1 - 0s - loss: 0.3445 - mae: 0.0735 - val_loss: 0.3407 - val_mae: 0.0842 - 24ms/epoch - 24ms/step\n",
            "Epoch 101/200\n",
            "1/1 - 0s - loss: 0.3385 - mae: 0.0638 - val_loss: 0.3304 - val_mae: 0.0594 - 33ms/epoch - 33ms/step\n",
            "Epoch 102/200\n",
            "1/1 - 0s - loss: 0.3341 - mae: 0.0738 - val_loss: 0.3298 - val_mae: 0.0804 - 24ms/epoch - 24ms/step\n",
            "Epoch 103/200\n",
            "1/1 - 0s - loss: 0.3284 - mae: 0.0637 - val_loss: 0.3203 - val_mae: 0.0589 - 23ms/epoch - 23ms/step\n",
            "Epoch 104/200\n",
            "1/1 - 0s - loss: 0.3242 - mae: 0.0736 - val_loss: 0.3203 - val_mae: 0.0839 - 23ms/epoch - 23ms/step\n",
            "Epoch 105/200\n",
            "1/1 - 0s - loss: 0.3187 - mae: 0.0651 - val_loss: 0.3108 - val_mae: 0.0601 - 25ms/epoch - 25ms/step\n",
            "Epoch 106/200\n",
            "1/1 - 0s - loss: 0.3146 - mae: 0.0759 - val_loss: 0.3107 - val_mae: 0.0835 - 23ms/epoch - 23ms/step\n",
            "Epoch 107/200\n",
            "1/1 - 0s - loss: 0.3090 - mae: 0.0648 - val_loss: 0.3011 - val_mae: 0.0597 - 23ms/epoch - 23ms/step\n",
            "Epoch 108/200\n",
            "1/1 - 0s - loss: 0.3049 - mae: 0.0747 - val_loss: 0.3013 - val_mae: 0.0837 - 24ms/epoch - 24ms/step\n",
            "Epoch 109/200\n",
            "1/1 - 0s - loss: 0.2995 - mae: 0.0645 - val_loss: 0.2916 - val_mae: 0.0584 - 24ms/epoch - 24ms/step\n",
            "Epoch 110/200\n",
            "1/1 - 0s - loss: 0.2955 - mae: 0.0738 - val_loss: 0.2919 - val_mae: 0.0829 - 24ms/epoch - 24ms/step\n",
            "Epoch 111/200\n",
            "1/1 - 0s - loss: 0.2904 - mae: 0.0654 - val_loss: 0.2829 - val_mae: 0.0589 - 22ms/epoch - 22ms/step\n",
            "Epoch 112/200\n",
            "1/1 - 0s - loss: 0.2870 - mae: 0.0776 - val_loss: 0.2831 - val_mae: 0.0837 - 25ms/epoch - 25ms/step\n",
            "Epoch 113/200\n",
            "1/1 - 0s - loss: 0.2817 - mae: 0.0654 - val_loss: 0.2739 - val_mae: 0.0590 - 23ms/epoch - 23ms/step\n",
            "Epoch 114/200\n",
            "1/1 - 0s - loss: 0.2778 - mae: 0.0743 - val_loss: 0.2743 - val_mae: 0.0823 - 24ms/epoch - 24ms/step\n",
            "Epoch 115/200\n",
            "1/1 - 0s - loss: 0.2726 - mae: 0.0631 - val_loss: 0.2652 - val_mae: 0.0578 - 24ms/epoch - 24ms/step\n",
            "Epoch 116/200\n",
            "1/1 - 0s - loss: 0.2689 - mae: 0.0721 - val_loss: 0.2656 - val_mae: 0.0812 - 26ms/epoch - 26ms/step\n",
            "Epoch 117/200\n",
            "1/1 - 0s - loss: 0.2641 - mae: 0.0628 - val_loss: 0.2569 - val_mae: 0.0565 - 24ms/epoch - 24ms/step\n",
            "Epoch 118/200\n",
            "1/1 - 0s - loss: 0.2608 - mae: 0.0735 - val_loss: 0.2572 - val_mae: 0.0802 - 24ms/epoch - 24ms/step\n",
            "Epoch 119/200\n",
            "1/1 - 0s - loss: 0.2561 - mae: 0.0634 - val_loss: 0.2488 - val_mae: 0.0565 - 24ms/epoch - 24ms/step\n",
            "Epoch 120/200\n",
            "1/1 - 0s - loss: 0.2530 - mae: 0.0743 - val_loss: 0.2499 - val_mae: 0.0848 - 33ms/epoch - 33ms/step\n",
            "Epoch 121/200\n",
            "1/1 - 0s - loss: 0.2484 - mae: 0.0651 - val_loss: 0.2412 - val_mae: 0.0567 - 26ms/epoch - 26ms/step\n",
            "Epoch 122/200\n",
            "1/1 - 0s - loss: 0.2454 - mae: 0.0761 - val_loss: 0.2417 - val_mae: 0.0815 - 25ms/epoch - 25ms/step\n",
            "Epoch 123/200\n",
            "1/1 - 0s - loss: 0.2407 - mae: 0.0646 - val_loss: 0.2335 - val_mae: 0.0556 - 23ms/epoch - 23ms/step\n",
            "Epoch 124/200\n",
            "1/1 - 0s - loss: 0.2376 - mae: 0.0744 - val_loss: 0.2340 - val_mae: 0.0799 - 23ms/epoch - 23ms/step\n",
            "Epoch 125/200\n",
            "1/1 - 0s - loss: 0.2329 - mae: 0.0622 - val_loss: 0.2258 - val_mae: 0.0538 - 24ms/epoch - 24ms/step\n",
            "Epoch 126/200\n",
            "1/1 - 0s - loss: 0.2299 - mae: 0.0722 - val_loss: 0.2263 - val_mae: 0.0774 - 25ms/epoch - 25ms/step\n",
            "Epoch 127/200\n",
            "1/1 - 0s - loss: 0.2255 - mae: 0.0618 - val_loss: 0.2185 - val_mae: 0.0533 - 24ms/epoch - 24ms/step\n",
            "Epoch 128/200\n",
            "1/1 - 0s - loss: 0.2225 - mae: 0.0712 - val_loss: 0.2192 - val_mae: 0.0778 - 24ms/epoch - 24ms/step\n",
            "Epoch 129/200\n",
            "1/1 - 0s - loss: 0.2184 - mae: 0.0610 - val_loss: 0.2117 - val_mae: 0.0540 - 25ms/epoch - 25ms/step\n",
            "Epoch 130/200\n",
            "1/1 - 0s - loss: 0.2157 - mae: 0.0721 - val_loss: 0.2125 - val_mae: 0.0794 - 25ms/epoch - 25ms/step\n",
            "Epoch 131/200\n",
            "1/1 - 0s - loss: 0.2118 - mae: 0.0635 - val_loss: 0.2051 - val_mae: 0.0539 - 25ms/epoch - 25ms/step\n",
            "Epoch 132/200\n",
            "1/1 - 0s - loss: 0.2095 - mae: 0.0752 - val_loss: 0.2063 - val_mae: 0.0818 - 23ms/epoch - 23ms/step\n",
            "Epoch 133/200\n",
            "1/1 - 0s - loss: 0.2054 - mae: 0.0643 - val_loss: 0.1986 - val_mae: 0.0534 - 23ms/epoch - 23ms/step\n",
            "Epoch 134/200\n",
            "1/1 - 0s - loss: 0.2029 - mae: 0.0750 - val_loss: 0.1991 - val_mae: 0.0771 - 28ms/epoch - 28ms/step\n",
            "Epoch 135/200\n",
            "1/1 - 0s - loss: 0.1988 - mae: 0.0630 - val_loss: 0.1925 - val_mae: 0.0534 - 35ms/epoch - 35ms/step\n",
            "Epoch 136/200\n",
            "1/1 - 0s - loss: 0.1965 - mae: 0.0736 - val_loss: 0.1927 - val_mae: 0.0752 - 24ms/epoch - 24ms/step\n",
            "Epoch 137/200\n",
            "1/1 - 0s - loss: 0.1925 - mae: 0.0620 - val_loss: 0.1857 - val_mae: 0.0509 - 25ms/epoch - 25ms/step\n",
            "Epoch 138/200\n",
            "1/1 - 0s - loss: 0.1898 - mae: 0.0705 - val_loss: 0.1865 - val_mae: 0.0748 - 26ms/epoch - 26ms/step\n",
            "Epoch 139/200\n",
            "1/1 - 0s - loss: 0.1861 - mae: 0.0597 - val_loss: 0.1798 - val_mae: 0.0509 - 25ms/epoch - 25ms/step\n",
            "Epoch 140/200\n",
            "1/1 - 0s - loss: 0.1838 - mae: 0.0695 - val_loss: 0.1805 - val_mae: 0.0738 - 25ms/epoch - 25ms/step\n",
            "Epoch 141/200\n",
            "1/1 - 0s - loss: 0.1803 - mae: 0.0597 - val_loss: 0.1740 - val_mae: 0.0503 - 25ms/epoch - 25ms/step\n",
            "Epoch 142/200\n",
            "1/1 - 0s - loss: 0.1781 - mae: 0.0704 - val_loss: 0.1750 - val_mae: 0.0755 - 26ms/epoch - 26ms/step\n",
            "Epoch 143/200\n",
            "1/1 - 0s - loss: 0.1748 - mae: 0.0611 - val_loss: 0.1690 - val_mae: 0.0527 - 23ms/epoch - 23ms/step\n",
            "Epoch 144/200\n",
            "1/1 - 0s - loss: 0.1731 - mae: 0.0735 - val_loss: 0.1698 - val_mae: 0.0774 - 29ms/epoch - 29ms/step\n",
            "Epoch 145/200\n",
            "1/1 - 0s - loss: 0.1697 - mae: 0.0635 - val_loss: 0.1635 - val_mae: 0.0508 - 24ms/epoch - 24ms/step\n",
            "Epoch 146/200\n",
            "1/1 - 0s - loss: 0.1678 - mae: 0.0743 - val_loss: 0.1642 - val_mae: 0.0754 - 24ms/epoch - 24ms/step\n",
            "Epoch 147/200\n",
            "1/1 - 0s - loss: 0.1643 - mae: 0.0624 - val_loss: 0.1586 - val_mae: 0.0515 - 25ms/epoch - 25ms/step\n",
            "Epoch 148/200\n",
            "1/1 - 0s - loss: 0.1626 - mae: 0.0740 - val_loss: 0.1586 - val_mae: 0.0711 - 26ms/epoch - 26ms/step\n",
            "Epoch 149/200\n",
            "1/1 - 0s - loss: 0.1591 - mae: 0.0610 - val_loss: 0.1527 - val_mae: 0.0476 - 26ms/epoch - 26ms/step\n",
            "Epoch 150/200\n",
            "1/1 - 0s - loss: 0.1570 - mae: 0.0699 - val_loss: 0.1536 - val_mae: 0.0717 - 30ms/epoch - 30ms/step\n",
            "Epoch 151/200\n",
            "1/1 - 0s - loss: 0.1539 - mae: 0.0592 - val_loss: 0.1484 - val_mae: 0.0500 - 25ms/epoch - 25ms/step\n",
            "Epoch 152/200\n",
            "1/1 - 0s - loss: 0.1522 - mae: 0.0702 - val_loss: 0.1484 - val_mae: 0.0680 - 25ms/epoch - 25ms/step\n",
            "Epoch 153/200\n",
            "1/1 - 0s - loss: 0.1491 - mae: 0.0596 - val_loss: 0.1431 - val_mae: 0.0477 - 27ms/epoch - 27ms/step\n",
            "Epoch 154/200\n",
            "1/1 - 0s - loss: 0.1475 - mae: 0.0701 - val_loss: 0.1446 - val_mae: 0.0743 - 26ms/epoch - 26ms/step\n",
            "Epoch 155/200\n",
            "1/1 - 0s - loss: 0.1447 - mae: 0.0613 - val_loss: 0.1398 - val_mae: 0.0509 - 24ms/epoch - 24ms/step\n",
            "Epoch 156/200\n",
            "1/1 - 0s - loss: 0.1436 - mae: 0.0738 - val_loss: 0.1395 - val_mae: 0.0691 - 24ms/epoch - 24ms/step\n",
            "Epoch 157/200\n",
            "1/1 - 0s - loss: 0.1405 - mae: 0.0623 - val_loss: 0.1346 - val_mae: 0.0483 - 25ms/epoch - 25ms/step\n",
            "Epoch 158/200\n",
            "1/1 - 0s - loss: 0.1389 - mae: 0.0729 - val_loss: 0.1354 - val_mae: 0.0706 - 28ms/epoch - 28ms/step\n",
            "Epoch 159/200\n",
            "1/1 - 0s - loss: 0.1359 - mae: 0.0602 - val_loss: 0.1306 - val_mae: 0.0488 - 25ms/epoch - 25ms/step\n",
            "Epoch 160/200\n",
            "1/1 - 0s - loss: 0.1345 - mae: 0.0706 - val_loss: 0.1309 - val_mae: 0.0680 - 24ms/epoch - 24ms/step\n",
            "Epoch 161/200\n",
            "1/1 - 0s - loss: 0.1317 - mae: 0.0593 - val_loss: 0.1261 - val_mae: 0.0474 - 24ms/epoch - 24ms/step\n",
            "Epoch 162/200\n",
            "1/1 - 0s - loss: 0.1302 - mae: 0.0689 - val_loss: 0.1273 - val_mae: 0.0709 - 27ms/epoch - 27ms/step\n",
            "Epoch 163/200\n",
            "1/1 - 0s - loss: 0.1277 - mae: 0.0602 - val_loss: 0.1229 - val_mae: 0.0486 - 24ms/epoch - 24ms/step\n",
            "Epoch 164/200\n",
            "1/1 - 0s - loss: 0.1269 - mae: 0.0729 - val_loss: 0.1233 - val_mae: 0.0697 - 22ms/epoch - 22ms/step\n",
            "Epoch 165/200\n",
            "1/1 - 0s - loss: 0.1242 - mae: 0.0621 - val_loss: 0.1188 - val_mae: 0.0468 - 24ms/epoch - 24ms/step\n",
            "Epoch 166/200\n",
            "1/1 - 0s - loss: 0.1229 - mae: 0.0721 - val_loss: 0.1194 - val_mae: 0.0686 - 23ms/epoch - 23ms/step\n",
            "Epoch 167/200\n",
            "1/1 - 0s - loss: 0.1204 - mae: 0.0611 - val_loss: 0.1151 - val_mae: 0.0471 - 25ms/epoch - 25ms/step\n",
            "Epoch 168/200\n",
            "1/1 - 0s - loss: 0.1193 - mae: 0.0715 - val_loss: 0.1160 - val_mae: 0.0696 - 29ms/epoch - 29ms/step\n",
            "Epoch 169/200\n",
            "1/1 - 0s - loss: 0.1168 - mae: 0.0610 - val_loss: 0.1120 - val_mae: 0.0469 - 24ms/epoch - 24ms/step\n",
            "Epoch 170/200\n",
            "1/1 - 0s - loss: 0.1158 - mae: 0.0712 - val_loss: 0.1120 - val_mae: 0.0654 - 24ms/epoch - 24ms/step\n",
            "Epoch 171/200\n",
            "1/1 - 0s - loss: 0.1133 - mae: 0.0597 - val_loss: 0.1082 - val_mae: 0.0454 - 27ms/epoch - 27ms/step\n",
            "Epoch 172/200\n",
            "1/1 - 0s - loss: 0.1122 - mae: 0.0699 - val_loss: 0.1088 - val_mae: 0.0660 - 24ms/epoch - 24ms/step\n",
            "Epoch 173/200\n",
            "1/1 - 0s - loss: 0.1099 - mae: 0.0590 - val_loss: 0.1049 - val_mae: 0.0458 - 24ms/epoch - 24ms/step\n",
            "Epoch 174/200\n",
            "1/1 - 0s - loss: 0.1089 - mae: 0.0683 - val_loss: 0.1057 - val_mae: 0.0667 - 24ms/epoch - 24ms/step\n",
            "Epoch 175/200\n",
            "1/1 - 0s - loss: 0.1066 - mae: 0.0587 - val_loss: 0.1016 - val_mae: 0.0440 - 23ms/epoch - 23ms/step\n",
            "Epoch 176/200\n",
            "1/1 - 0s - loss: 0.1056 - mae: 0.0682 - val_loss: 0.1025 - val_mae: 0.0660 - 29ms/epoch - 29ms/step\n",
            "Epoch 177/200\n",
            "1/1 - 0s - loss: 0.1037 - mae: 0.0595 - val_loss: 0.0992 - val_mae: 0.0461 - 25ms/epoch - 25ms/step\n",
            "Epoch 178/200\n",
            "1/1 - 0s - loss: 0.1032 - mae: 0.0712 - val_loss: 0.0999 - val_mae: 0.0684 - 24ms/epoch - 24ms/step\n",
            "Epoch 179/200\n",
            "1/1 - 0s - loss: 0.1011 - mae: 0.0618 - val_loss: 0.0961 - val_mae: 0.0457 - 27ms/epoch - 27ms/step\n",
            "Epoch 180/200\n",
            "1/1 - 0s - loss: 0.1003 - mae: 0.0719 - val_loss: 0.0974 - val_mae: 0.0701 - 28ms/epoch - 28ms/step\n",
            "Epoch 181/200\n",
            "1/1 - 0s - loss: 0.0982 - mae: 0.0618 - val_loss: 0.0943 - val_mae: 0.0472 - 27ms/epoch - 27ms/step\n",
            "Epoch 182/200\n",
            "1/1 - 0s - loss: 0.0979 - mae: 0.0727 - val_loss: 0.0939 - val_mae: 0.0632 - 24ms/epoch - 24ms/step\n",
            "Epoch 183/200\n",
            "1/1 - 0s - loss: 0.0955 - mae: 0.0608 - val_loss: 0.0905 - val_mae: 0.0432 - 26ms/epoch - 26ms/step\n",
            "Epoch 184/200\n",
            "1/1 - 0s - loss: 0.0947 - mae: 0.0697 - val_loss: 0.0915 - val_mae: 0.0657 - 26ms/epoch - 26ms/step\n",
            "Epoch 185/200\n",
            "1/1 - 0s - loss: 0.0926 - mae: 0.0590 - val_loss: 0.0880 - val_mae: 0.0435 - 25ms/epoch - 25ms/step\n",
            "Epoch 186/200\n",
            "1/1 - 0s - loss: 0.0920 - mae: 0.0683 - val_loss: 0.0887 - val_mae: 0.0628 - 26ms/epoch - 26ms/step\n",
            "Epoch 187/200\n",
            "1/1 - 0s - loss: 0.0900 - mae: 0.0576 - val_loss: 0.0853 - val_mae: 0.0428 - 24ms/epoch - 24ms/step\n",
            "Epoch 188/200\n",
            "1/1 - 0s - loss: 0.0894 - mae: 0.0665 - val_loss: 0.0870 - val_mae: 0.0690 - 28ms/epoch - 28ms/step\n",
            "Epoch 189/200\n",
            "1/1 - 0s - loss: 0.0881 - mae: 0.0612 - val_loss: 0.0844 - val_mae: 0.0453 - 27ms/epoch - 27ms/step\n",
            "Epoch 190/200\n",
            "1/1 - 0s - loss: 0.0882 - mae: 0.0741 - val_loss: 0.0843 - val_mae: 0.0649 - 25ms/epoch - 25ms/step\n",
            "Epoch 191/200\n",
            "1/1 - 0s - loss: 0.0862 - mae: 0.0631 - val_loss: 0.0813 - val_mae: 0.0441 - 25ms/epoch - 25ms/step\n",
            "Epoch 192/200\n",
            "1/1 - 0s - loss: 0.0853 - mae: 0.0701 - val_loss: 0.0818 - val_mae: 0.0625 - 28ms/epoch - 28ms/step\n",
            "Epoch 193/200\n",
            "1/1 - 0s - loss: 0.0833 - mae: 0.0586 - val_loss: 0.0790 - val_mae: 0.0419 - 25ms/epoch - 25ms/step\n",
            "Epoch 194/200\n",
            "1/1 - 0s - loss: 0.0829 - mae: 0.0675 - val_loss: 0.0795 - val_mae: 0.0605 - 25ms/epoch - 25ms/step\n",
            "Epoch 195/200\n",
            "1/1 - 0s - loss: 0.0813 - mae: 0.0585 - val_loss: 0.0771 - val_mae: 0.0427 - 25ms/epoch - 25ms/step\n",
            "Epoch 196/200\n",
            "1/1 - 0s - loss: 0.0810 - mae: 0.0686 - val_loss: 0.0777 - val_mae: 0.0626 - 25ms/epoch - 25ms/step\n",
            "Epoch 197/200\n",
            "1/1 - 0s - loss: 0.0793 - mae: 0.0597 - val_loss: 0.0749 - val_mae: 0.0420 - 25ms/epoch - 25ms/step\n",
            "Epoch 198/200\n",
            "1/1 - 0s - loss: 0.0789 - mae: 0.0684 - val_loss: 0.0760 - val_mae: 0.0647 - 24ms/epoch - 24ms/step\n",
            "Epoch 199/200\n",
            "1/1 - 0s - loss: 0.0774 - mae: 0.0592 - val_loss: 0.0735 - val_mae: 0.0433 - 24ms/epoch - 24ms/step\n",
            "Epoch 200/200\n",
            "1/1 - 0s - loss: 0.0772 - mae: 0.0692 - val_loss: 0.0736 - val_mae: 0.0600 - 25ms/epoch - 25ms/step\n"
          ]
        }
      ]
    },
    {
      "cell_type": "markdown",
      "metadata": {
        "id": "s4kt3k8sxNq6"
      },
      "source": [
        "## Проверяем работу модели на тестовом наборе данных"
      ]
    },
    {
      "cell_type": "code",
      "metadata": {
        "id": "W4zh-jfuxUJo",
        "colab": {
          "base_uri": "https://localhost:8080/"
        },
        "outputId": "d6a2e2f1-a560-42d0-8b4d-2bb9b0d4995f"
      },
      "source": [
        "scores = model.evaluate(x_test, y_test, verbose=1)"
      ],
      "execution_count": 20,
      "outputs": [
        {
          "output_type": "stream",
          "name": "stdout",
          "text": [
            "2/2 [==============================] - 0s 7ms/step - loss: 0.1213 - mae: 0.1525\n"
          ]
        }
      ]
    },
    {
      "cell_type": "code",
      "metadata": {
        "id": "DxVuKBC8hPDk",
        "colab": {
          "base_uri": "https://localhost:8080/"
        },
        "outputId": "6d7bb165-dff5-4244-e4c5-5d4bfa84b1d6"
      },
      "source": [
        "scores"
      ],
      "execution_count": 21,
      "outputs": [
        {
          "output_type": "execute_result",
          "data": {
            "text/plain": [
              "[0.12134309113025665, 0.15249623358249664]"
            ]
          },
          "metadata": {},
          "execution_count": 21
        }
      ]
    },
    {
      "cell_type": "code",
      "metadata": {
        "id": "EhAMQvdDx_pA",
        "colab": {
          "base_uri": "https://localhost:8080/"
        },
        "outputId": "93175207-c72f-4791-d798-3ceb823673bc"
      },
      "source": [
        "print(\"Средняя абсолютная ошибка на тестовых данных:\", round(scores[1], 4))"
      ],
      "execution_count": 22,
      "outputs": [
        {
          "output_type": "stream",
          "name": "stdout",
          "text": [
            "Средняя абсолютная ошибка на тестовых данных: 0.1525\n"
          ]
        }
      ]
    },
    {
      "cell_type": "markdown",
      "metadata": {
        "id": "m_6XDRknyO8Q"
      },
      "source": [
        "## Визуализация качества обучения"
      ]
    },
    {
      "cell_type": "code",
      "metadata": {
        "id": "k-VXHvPjySTw",
        "colab": {
          "base_uri": "https://localhost:8080/",
          "height": 279
        },
        "outputId": "1f6e705f-66af-41fa-9c6b-c2ad88173a78"
      },
      "source": [
        "plt.plot(history.history['mae'], # mean_absolute_error\n",
        "         label='Средняя абсолютная ошибка на обучающем наборе')\n",
        "plt.plot(history.history['val_mae'], # val_mean_absolute_error\n",
        "         label='Средняя абсолютная ошибка на проверочном наборе')\n",
        "plt.xlabel('Эпоха обучения')\n",
        "plt.ylabel('Средняя абсолютная ошибка')\n",
        "plt.legend()\n",
        "plt.show()"
      ],
      "execution_count": 23,
      "outputs": [
        {
          "output_type": "display_data",
          "data": {
            "text/plain": [
              "<Figure size 432x288 with 1 Axes>"
            ],
            "image/png": "[encoded data removed]"
          },
          "metadata": {
            "needs_background": "light"
          }
        }
      ]
    },
    {
      "cell_type": "markdown",
      "metadata": {
        "id": "UDHMw_dEH7_0"
      },
      "source": [
        "## Используем модель для предсказаний"
      ]
    },
    {
      "cell_type": "markdown",
      "metadata": {
        "id": "pHOIK7qaOns1"
      },
      "source": [
        "**Выполняем предсказание для тестовой выборки**"
      ]
    },
    {
      "cell_type": "code",
      "metadata": {
        "id": "5LYrptorOjPe",
        "colab": {
          "base_uri": "https://localhost:8080/"
        },
        "outputId": "ce726a85-1f33-497a-b256-cb9a6dcca0d8"
      },
      "source": [
        "pred = model.predict(x_test).flatten()"
      ],
      "execution_count": 24,
      "outputs": [
        {
          "output_type": "stream",
          "name": "stdout",
          "text": [
            "2/2 [==============================] - 0s 4ms/step\n"
          ]
        }
      ]
    },
    {
      "cell_type": "code",
      "metadata": {
        "id": "_D55LA1i7E4J",
        "colab": {
          "base_uri": "https://localhost:8080/"
        },
        "outputId": "db5b87aa-c3aa-4eae-b9e4-652d25a629f2"
      },
      "source": [
        "print(pred)"
      ],
      "execution_count": 25,
      "outputs": [
        {
          "output_type": "stream",
          "name": "stdout",
          "text": [
            "[1.1999853 0.9923443 1.455881  1.176452  1.78823   1.5395525 1.2721355\n",
            " 1.176452  1.0801076 1.455881  0.9923443 1.2721355 1.455881  0.9923443\n",
            " 0.8564732 1.0140499 1.78823   1.0140499 1.683825  1.5395525 1.0760972\n",
            " 1.5395525 1.0801076 1.386649  1.2721355 1.2721355 1.78823   1.0760972\n",
            " 1.3011518 1.0940331 1.0940331 1.78823   1.0940331 1.1999853 1.455881\n",
            " 1.176452  1.0140499 1.2721355 1.0760972 1.5395525 1.2721355 1.2721355\n",
            " 1.683825  1.0801076 0.8564732 1.2721355 1.2721355 1.5395525 1.3011518\n",
            " 1.2721355 0.8564732 1.0940331 1.3011518 1.5395525 1.0801076 1.176452\n",
            " 1.2721355 0.9923443]\n"
          ]
        }
      ]
    },
    {
      "cell_type": "code",
      "source": [],
      "metadata": {
        "id": "Q-lB750dJX9D"
      },
      "execution_count": 25,
      "outputs": []
    }
  ]
}