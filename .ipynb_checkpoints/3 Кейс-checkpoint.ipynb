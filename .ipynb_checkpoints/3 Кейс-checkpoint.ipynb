{
 "cells": [
  {
   "cell_type": "code",
   "execution_count": 2,
   "id": "7ade316c",
   "metadata": {},
   "outputs": [],
   "source": [
    "import pandas as pd"
   ]
  },
  {
   "cell_type": "code",
   "execution_count": 3,
   "id": "c8073a3a",
   "metadata": {},
   "outputs": [],
   "source": [
    "data = pd.read_csv('data/ebw_data.csv')"
   ]
  },
  {
   "cell_type": "code",
   "execution_count": 4,
   "id": "b0adb366",
   "metadata": {},
   "outputs": [
    {
     "data": {
      "text/html": [
       "<div>\n",
       "<style scoped>\n",
       "    .dataframe tbody tr th:only-of-type {\n",
       "        vertical-align: middle;\n",
       "    }\n",
       "\n",
       "    .dataframe tbody tr th {\n",
       "        vertical-align: top;\n",
       "    }\n",
       "\n",
       "    .dataframe thead th {\n",
       "        text-align: right;\n",
       "    }\n",
       "</style>\n",
       "<table border=\"1\" class=\"dataframe\">\n",
       "  <thead>\n",
       "    <tr style=\"text-align: right;\">\n",
       "      <th></th>\n",
       "      <th>IW</th>\n",
       "      <th>IF</th>\n",
       "      <th>VW</th>\n",
       "      <th>FP</th>\n",
       "      <th>Depth</th>\n",
       "      <th>Width</th>\n",
       "    </tr>\n",
       "  </thead>\n",
       "  <tbody>\n",
       "    <tr>\n",
       "      <th>0</th>\n",
       "      <td>47</td>\n",
       "      <td>139</td>\n",
       "      <td>4.5</td>\n",
       "      <td>80</td>\n",
       "      <td>1.60</td>\n",
       "      <td>2.54</td>\n",
       "    </tr>\n",
       "    <tr>\n",
       "      <th>1</th>\n",
       "      <td>47</td>\n",
       "      <td>139</td>\n",
       "      <td>4.5</td>\n",
       "      <td>80</td>\n",
       "      <td>1.62</td>\n",
       "      <td>2.50</td>\n",
       "    </tr>\n",
       "    <tr>\n",
       "      <th>2</th>\n",
       "      <td>47</td>\n",
       "      <td>139</td>\n",
       "      <td>4.5</td>\n",
       "      <td>80</td>\n",
       "      <td>1.68</td>\n",
       "      <td>2.60</td>\n",
       "    </tr>\n",
       "    <tr>\n",
       "      <th>3</th>\n",
       "      <td>47</td>\n",
       "      <td>139</td>\n",
       "      <td>4.5</td>\n",
       "      <td>80</td>\n",
       "      <td>1.58</td>\n",
       "      <td>2.52</td>\n",
       "    </tr>\n",
       "    <tr>\n",
       "      <th>4</th>\n",
       "      <td>45</td>\n",
       "      <td>140</td>\n",
       "      <td>4.5</td>\n",
       "      <td>80</td>\n",
       "      <td>1.76</td>\n",
       "      <td>2.48</td>\n",
       "    </tr>\n",
       "  </tbody>\n",
       "</table>\n",
       "</div>"
      ],
      "text/plain": [
       "   IW   IF   VW  FP  Depth  Width\n",
       "0  47  139  4.5  80   1.60   2.54\n",
       "1  47  139  4.5  80   1.62   2.50\n",
       "2  47  139  4.5  80   1.68   2.60\n",
       "3  47  139  4.5  80   1.58   2.52\n",
       "4  45  140  4.5  80   1.76   2.48"
      ]
     },
     "execution_count": 4,
     "metadata": {},
     "output_type": "execute_result"
    }
   ],
   "source": [
    "data.head()"
   ]
  },
  {
   "cell_type": "code",
   "execution_count": 5,
   "id": "56b2136d",
   "metadata": {},
   "outputs": [
    {
     "name": "stdout",
     "output_type": "stream",
     "text": [
      "<class 'pandas.core.frame.DataFrame'>\n",
      "RangeIndex: 72 entries, 0 to 71\n",
      "Data columns (total 6 columns):\n",
      " #   Column  Non-Null Count  Dtype  \n",
      "---  ------  --------------  -----  \n",
      " 0   IW      72 non-null     int64  \n",
      " 1   IF      72 non-null     int64  \n",
      " 2   VW      72 non-null     float64\n",
      " 3   FP      72 non-null     int64  \n",
      " 4   Depth   72 non-null     float64\n",
      " 5   Width   72 non-null     float64\n",
      "dtypes: float64(3), int64(3)\n",
      "memory usage: 3.5 KB\n"
     ]
    }
   ],
   "source": [
    "data.info()"
   ]
  },
  {
   "cell_type": "code",
   "execution_count": 6,
   "id": "048cb870",
   "metadata": {},
   "outputs": [
    {
     "data": {
      "text/html": [
       "<div>\n",
       "<style scoped>\n",
       "    .dataframe tbody tr th:only-of-type {\n",
       "        vertical-align: middle;\n",
       "    }\n",
       "\n",
       "    .dataframe tbody tr th {\n",
       "        vertical-align: top;\n",
       "    }\n",
       "\n",
       "    .dataframe thead th {\n",
       "        text-align: right;\n",
       "    }\n",
       "</style>\n",
       "<table border=\"1\" class=\"dataframe\">\n",
       "  <thead>\n",
       "    <tr style=\"text-align: right;\">\n",
       "      <th></th>\n",
       "      <th>IW</th>\n",
       "      <th>IF</th>\n",
       "      <th>VW</th>\n",
       "      <th>FP</th>\n",
       "      <th>Depth</th>\n",
       "      <th>Width</th>\n",
       "    </tr>\n",
       "  </thead>\n",
       "  <tbody>\n",
       "    <tr>\n",
       "      <th>count</th>\n",
       "      <td>72.000000</td>\n",
       "      <td>72.000000</td>\n",
       "      <td>72.000000</td>\n",
       "      <td>72.000000</td>\n",
       "      <td>72.000000</td>\n",
       "      <td>72.000000</td>\n",
       "    </tr>\n",
       "    <tr>\n",
       "      <th>mean</th>\n",
       "      <td>45.666667</td>\n",
       "      <td>141.333333</td>\n",
       "      <td>8.638889</td>\n",
       "      <td>78.333333</td>\n",
       "      <td>1.195556</td>\n",
       "      <td>1.970417</td>\n",
       "    </tr>\n",
       "    <tr>\n",
       "      <th>std</th>\n",
       "      <td>1.678363</td>\n",
       "      <td>5.145763</td>\n",
       "      <td>2.061078</td>\n",
       "      <td>21.493530</td>\n",
       "      <td>0.225081</td>\n",
       "      <td>0.279040</td>\n",
       "    </tr>\n",
       "    <tr>\n",
       "      <th>min</th>\n",
       "      <td>43.000000</td>\n",
       "      <td>131.000000</td>\n",
       "      <td>4.500000</td>\n",
       "      <td>50.000000</td>\n",
       "      <td>0.800000</td>\n",
       "      <td>1.680000</td>\n",
       "    </tr>\n",
       "    <tr>\n",
       "      <th>25%</th>\n",
       "      <td>44.000000</td>\n",
       "      <td>139.000000</td>\n",
       "      <td>8.000000</td>\n",
       "      <td>60.000000</td>\n",
       "      <td>1.080000</td>\n",
       "      <td>1.760000</td>\n",
       "    </tr>\n",
       "    <tr>\n",
       "      <th>50%</th>\n",
       "      <td>45.500000</td>\n",
       "      <td>141.000000</td>\n",
       "      <td>9.000000</td>\n",
       "      <td>80.000000</td>\n",
       "      <td>1.200000</td>\n",
       "      <td>1.840000</td>\n",
       "    </tr>\n",
       "    <tr>\n",
       "      <th>75%</th>\n",
       "      <td>47.000000</td>\n",
       "      <td>146.000000</td>\n",
       "      <td>10.000000</td>\n",
       "      <td>80.000000</td>\n",
       "      <td>1.290000</td>\n",
       "      <td>2.050000</td>\n",
       "    </tr>\n",
       "    <tr>\n",
       "      <th>max</th>\n",
       "      <td>49.000000</td>\n",
       "      <td>150.000000</td>\n",
       "      <td>12.000000</td>\n",
       "      <td>125.000000</td>\n",
       "      <td>1.760000</td>\n",
       "      <td>2.600000</td>\n",
       "    </tr>\n",
       "  </tbody>\n",
       "</table>\n",
       "</div>"
      ],
      "text/plain": [
       "              IW          IF         VW          FP      Depth      Width\n",
       "count  72.000000   72.000000  72.000000   72.000000  72.000000  72.000000\n",
       "mean   45.666667  141.333333   8.638889   78.333333   1.195556   1.970417\n",
       "std     1.678363    5.145763   2.061078   21.493530   0.225081   0.279040\n",
       "min    43.000000  131.000000   4.500000   50.000000   0.800000   1.680000\n",
       "25%    44.000000  139.000000   8.000000   60.000000   1.080000   1.760000\n",
       "50%    45.500000  141.000000   9.000000   80.000000   1.200000   1.840000\n",
       "75%    47.000000  146.000000  10.000000   80.000000   1.290000   2.050000\n",
       "max    49.000000  150.000000  12.000000  125.000000   1.760000   2.600000"
      ]
     },
     "execution_count": 6,
     "metadata": {},
     "output_type": "execute_result"
    }
   ],
   "source": [
    "data.describe()"
   ]
  },
  {
   "cell_type": "code",
   "execution_count": 7,
   "id": "2bb3d09c",
   "metadata": {},
   "outputs": [],
   "source": [
    "%matplotlib inline\n",
    "from matplotlib import pyplot as plt\n",
    "import seaborn as sns\n",
    "\n",
    "plt.rcParams['figure.figsize'] = (12, 8)"
   ]
  },
  {
   "cell_type": "code",
   "execution_count": 8,
   "id": "64349cd9",
   "metadata": {},
   "outputs": [
    {
     "name": "stderr",
     "output_type": "stream",
     "text": [
      "C:\\Users\\kosty\\anaconda3\\lib\\site-packages\\seaborn\\_decorators.py:36: FutureWarning: Pass the following variables as keyword args: x, y. From version 0.12, the only valid positional argument will be `data`, and passing other arguments without an explicit keyword will result in an error or misinterpretation.\n",
      "  warnings.warn(\n"
     ]
    },
    {
     "data": {
      "text/plain": [
       "<AxesSubplot:xlabel='IW', ylabel='Depth'>"
      ]
     },
     "execution_count": 8,
     "metadata": {},
     "output_type": "execute_result"
    },
    {
     "data": {
      "image/png": "[encoded data removed]",
      "text/plain": [
       "<Figure size 864x576 with 1 Axes>"
      ]
     },
     "metadata": {
      "needs_background": "light"
     },
     "output_type": "display_data"
    }
   ],
   "source": [
    "sns.violinplot(data['IW'], data['Depth'])"
   ]
  },
  {
   "cell_type": "code",
   "execution_count": 9,
   "id": "5a5211dc",
   "metadata": {},
   "outputs": [
    {
     "data": {
      "text/plain": [
       "<AxesSubplot:>"
      ]
     },
     "execution_count": 9,
     "metadata": {},
     "output_type": "execute_result"
    },
    {
     "data": {
      "image/png": "[encoded data removed]",
      "text/plain": [
       "<Figure size 864x576 with 2 Axes>"
      ]
     },
     "metadata": {
      "needs_background": "light"
     },
     "output_type": "display_data"
    }
   ],
   "source": [
    "sns.heatmap(data.corr(), annot=True, square=True, cmap='rocket', annot_kws={'size': 14})"
   ]
  },
  {
   "cell_type": "code",
   "execution_count": 15,
   "id": "fb74e7b1",
   "metadata": {},
   "outputs": [
    {
     "data": {
      "text/plain": [
       "Text(0.5, 1.0, 'Распределение целевой переменной Depth')"
      ]
     },
     "execution_count": 15,
     "metadata": {},
     "output_type": "execute_result"
    },
    {
     "data": {
      "image/png": "[encoded data removed]",
      "text/plain": [
       "<Figure size 360x360 with 1 Axes>"
      ]
     },
     "metadata": {
      "needs_background": "light"
     },
     "output_type": "display_data"
    }
   ],
   "source": [
    "sns.displot(data.Depth, kde=True)\n",
    "plt.title('Распределение целевой переменной Depth')"
   ]
  },
  {
   "cell_type": "code",
   "execution_count": 19,
   "id": "27978207",
   "metadata": {},
   "outputs": [
    {
     "data": {
      "text/plain": [
       "<AxesSubplot:>"
      ]
     },
     "execution_count": 19,
     "metadata": {},
     "output_type": "execute_result"
    },
    {
     "data": {
      "image/png": "[encoded data removed]",
      "text/plain": [
       "<Figure size 864x576 with 1 Axes>"
      ]
     },
     "metadata": {
      "needs_background": "light"
     },
     "output_type": "display_data"
    }
   ],
   "source": [
    "sns.displot(data.Width, kde=True)\n",
    "plt.title('Распределение целевой переменной Width')"
   ]
  },
  {
   "cell_type": "code",
   "execution_count": 20,
   "id": "5ed04e4c",
   "metadata": {},
   "outputs": [
    {
     "data": {
      "text/plain": [
       "<AxesSubplot:>"
      ]
     },
     "execution_count": 20,
     "metadata": {},
     "output_type": "execute_result"
    },
    {
     "data": {
      "image/png": "[encoded data removed]",
      "text/plain": [
       "<Figure size 864x576 with 1 Axes>"
      ]
     },
     "metadata": {
      "needs_background": "light"
     },
     "output_type": "display_data"
    }
   ],
   "source": [
    "data.Width.hist()"
   ]
  },
  {
   "cell_type": "code",
   "execution_count": 83,
   "id": "06f1079e",
   "metadata": {},
   "outputs": [],
   "source": [
    "from sklearn.linear_model import LinearRegression\n",
    "from sklearn.ensemble import RandomForestRegressor\n",
    "from sklearn.preprocessing import StandardScaler\n",
    "from sklearn.metrics import mean_squared_error"
   ]
  },
  {
   "cell_type": "code",
   "execution_count": 84,
   "id": "da3e50d8",
   "metadata": {},
   "outputs": [],
   "source": [
    "linreg = LinearRegression()"
   ]
  },
  {
   "cell_type": "code",
   "execution_count": 94,
   "id": "f14d0004",
   "metadata": {},
   "outputs": [],
   "source": [
    "X, y = data.drop(['Depth', 'Width'], axis=1), data[['Depth']]"
   ]
  },
  {
   "cell_type": "code",
   "execution_count": 95,
   "id": "94ff0bd2",
   "metadata": {},
   "outputs": [],
   "source": [
    "train_part_size = int(.8 * X.shape[0])"
   ]
  },
  {
   "cell_type": "code",
   "execution_count": 96,
   "id": "882405e0",
   "metadata": {},
   "outputs": [],
   "source": [
    "X_train, X_valid = X[:train_part_size], X[train_part_size:]\n",
    "y_train, y_valid = y[:train_part_size], y[train_part_size:]"
   ]
  },
  {
   "cell_type": "code",
   "execution_count": 97,
   "id": "25073b76",
   "metadata": {},
   "outputs": [
    {
     "data": {
      "text/plain": [
       "57"
      ]
     },
     "execution_count": 97,
     "metadata": {},
     "output_type": "execute_result"
    }
   ],
   "source": [
    "train_part_size"
   ]
  },
  {
   "cell_type": "code",
   "execution_count": 98,
   "id": "5267b494",
   "metadata": {},
   "outputs": [],
   "source": [
    "scaler = StandardScaler()\n",
    "X_train_scaled = scaler.fit_transform(X_train)\n",
    "X_valid_scaled = scaler.transform(X_valid)"
   ]
  },
  {
   "cell_type": "code",
   "execution_count": 107,
   "id": "84b5570a",
   "metadata": {},
   "outputs": [
    {
     "data": {
      "text/plain": [
       "LinearRegression()"
      ]
     },
     "execution_count": 107,
     "metadata": {},
     "output_type": "execute_result"
    }
   ],
   "source": [
    "linreg.fit(X_train_scaled, y_train)"
   ]
  },
  {
   "cell_type": "code",
   "execution_count": 108,
   "id": "09aef963",
   "metadata": {},
   "outputs": [
    {
     "data": {
      "text/plain": [
       "0.0022280628513380155"
      ]
     },
     "execution_count": 108,
     "metadata": {},
     "output_type": "execute_result"
    }
   ],
   "source": [
    "mean_squared_error(y_valid, linreg.predict(X_valid_scaled))"
   ]
  },
  {
   "cell_type": "code",
   "execution_count": 109,
   "id": "193f06fb",
   "metadata": {},
   "outputs": [
    {
     "data": {
      "text/plain": [
       "Index(['IW', 'IF', 'VW', 'FP'], dtype='object')"
      ]
     },
     "execution_count": 109,
     "metadata": {},
     "output_type": "execute_result"
    }
   ],
   "source": [
    "data.columns[:-2]"
   ]
  },
  {
   "cell_type": "code",
   "execution_count": 110,
   "id": "2072b2ca",
   "metadata": {},
   "outputs": [],
   "source": [
    "test = X_train_scaled[-1][:]"
   ]
  },
  {
   "cell_type": "code",
   "execution_count": 111,
   "id": "37013ae0",
   "metadata": {},
   "outputs": [
    {
     "data": {
      "text/plain": [
       "array([-1.34636133,  1.16180239,  0.19911245, -1.07541218])"
      ]
     },
     "execution_count": 111,
     "metadata": {},
     "output_type": "execute_result"
    }
   ],
   "source": [
    "X_train_scaled[-1][:]"
   ]
  },
  {
   "cell_type": "code",
   "execution_count": 112,
   "id": "7fde3e39",
   "metadata": {},
   "outputs": [
    {
     "data": {
      "text/plain": [
       "array([[ 0.57220356, -0.21783795, -1.76520847, -0.14664712],\n",
       "       [ 0.57220356, -0.21783795, -1.76520847, -0.14664712],\n",
       "       [ 0.57220356, -0.21783795, -1.76520847, -0.14664712],\n",
       "       [ 0.57220356, -0.21783795, -1.76520847, -0.14664712],\n",
       "       [-0.7068397 , -0.02074647, -1.76520847, -0.14664712],\n",
       "       [-0.7068397 , -0.02074647, -1.76520847, -0.14664712],\n",
       "       [-0.7068397 , -0.02074647, -1.76520847, -0.14664712],\n",
       "       [-0.7068397 , -0.02074647, -1.76520847, -0.14664712],\n",
       "       [-0.7068397 , -0.02074647, -0.23740331, -0.14664712],\n",
       "       [-0.7068397 , -0.02074647, -0.23740331, -0.14664712],\n",
       "       [-0.7068397 , -0.02074647, -0.23740331, -0.14664712],\n",
       "       [-0.7068397 , -0.02074647, -0.23740331, -0.14664712],\n",
       "       [-0.7068397 ,  0.17634501,  0.63562821, -0.14664712],\n",
       "       [-0.7068397 ,  0.17634501,  0.63562821, -0.14664712],\n",
       "       [-0.7068397 ,  0.17634501,  0.63562821, -0.14664712],\n",
       "       [-0.7068397 ,  0.17634501,  0.63562821, -0.14664712],\n",
       "       [-0.06731807,  0.17634501,  0.63562821, -0.14664712],\n",
       "       [-0.06731807,  0.17634501,  0.63562821, -0.14664712],\n",
       "       [-0.06731807,  0.17634501,  0.63562821, -0.14664712],\n",
       "       [-0.06731807,  0.17634501,  0.63562821, -0.14664712],\n",
       "       [ 0.57220356,  0.17634501,  1.50865973, -0.14664712],\n",
       "       [ 0.57220356,  0.17634501,  1.50865973, -0.14664712],\n",
       "       [ 0.57220356,  0.17634501,  1.50865973, -0.14664712],\n",
       "       [ 0.57220356,  0.17634501,  1.50865973, -0.14664712],\n",
       "       [ 0.57220356, -1.20329533,  0.63562821,  1.24650048],\n",
       "       [ 0.57220356, -1.20329533,  0.63562821,  1.24650048],\n",
       "       [ 0.57220356, -1.20329533,  0.63562821,  1.24650048],\n",
       "       [ 0.57220356, -1.20329533,  0.63562821,  1.24650048],\n",
       "       [ 0.57220356, -0.21783795, -1.76520847, -0.14664712],\n",
       "       [ 0.57220356, -0.21783795, -1.76520847, -0.14664712],\n",
       "       [ 0.57220356, -0.21783795, -1.76520847, -0.14664712],\n",
       "       [ 0.57220356, -0.21783795, -1.76520847, -0.14664712],\n",
       "       [ 1.21172519, -1.79456976,  0.63562821,  1.94307427],\n",
       "       [ 1.21172519, -1.79456976,  0.63562821,  1.94307427],\n",
       "       [ 1.21172519, -1.79456976,  0.63562821,  1.94307427],\n",
       "       [ 1.21172519, -1.79456976,  0.63562821,  1.94307427],\n",
       "       [ 1.85124682, -1.59747829, -0.23740331,  1.94307427],\n",
       "       [ 1.85124682, -1.59747829, -0.23740331,  1.94307427],\n",
       "       [ 1.85124682, -1.59747829, -0.23740331,  1.94307427],\n",
       "       [ 1.85124682, -1.59747829, -0.23740331,  1.94307427],\n",
       "       [ 0.57220356, -0.02074647,  0.63562821, -0.14664712],\n",
       "       [ 0.57220356, -0.02074647,  0.63562821, -0.14664712],\n",
       "       [ 0.57220356, -0.02074647,  0.63562821, -0.14664712],\n",
       "       [ 0.57220356, -0.02074647,  0.63562821, -0.14664712],\n",
       "       [-0.06731807,  1.16180239,  0.63562821, -1.07541218],\n",
       "       [-0.06731807,  1.16180239,  0.63562821, -1.07541218],\n",
       "       [-0.06731807,  1.16180239,  0.63562821, -1.07541218],\n",
       "       [-0.06731807,  1.16180239,  0.63562821, -1.07541218],\n",
       "       [-1.34636133,  1.16180239,  0.19911245, -1.07541218],\n",
       "       [-1.34636133,  1.16180239,  0.19911245, -1.07541218],\n",
       "       [-1.34636133,  1.16180239,  0.19911245, -1.07541218],\n",
       "       [-1.34636133,  1.16180239,  0.19911245, -1.07541218],\n",
       "       [-1.98588296,  1.9501683 ,  0.19911245, -1.53979471],\n",
       "       [-1.98588296,  1.9501683 ,  0.19911245, -1.53979471],\n",
       "       [-1.98588296,  1.9501683 ,  0.19911245, -1.53979471],\n",
       "       [-1.98588296,  1.9501683 ,  0.19911245, -1.53979471],\n",
       "       [-1.34636133,  1.16180239,  0.19911245, -1.07541218]])"
      ]
     },
     "execution_count": 112,
     "metadata": {},
     "output_type": "execute_result"
    }
   ],
   "source": [
    "X_train_scaled"
   ]
  },
  {
   "cell_type": "code",
   "execution_count": 122,
   "id": "fe27b1c9",
   "metadata": {
    "scrolled": true
   },
   "outputs": [
    {
     "data": {
      "text/plain": [
       "array([[1.24439714],\n",
       "       [1.24439714],\n",
       "       [1.24439714],\n",
       "       [1.22903533],\n",
       "       [1.22903533],\n",
       "       [1.22903533],\n",
       "       [1.22903533],\n",
       "       [1.24439714],\n",
       "       [1.24439714],\n",
       "       [1.24439714],\n",
       "       [1.24439714],\n",
       "       [1.25975895],\n",
       "       [1.25975895],\n",
       "       [1.25975895],\n",
       "       [1.25975895]])"
      ]
     },
     "execution_count": 122,
     "metadata": {},
     "output_type": "execute_result"
    }
   ],
   "source": [
    "linreg.predict(X_valid_scaled)"
   ]
  },
  {
   "cell_type": "code",
   "execution_count": 114,
   "id": "95fdf9e7",
   "metadata": {},
   "outputs": [
    {
     "data": {
      "text/html": [
       "<div>\n",
       "<style scoped>\n",
       "    .dataframe tbody tr th:only-of-type {\n",
       "        vertical-align: middle;\n",
       "    }\n",
       "\n",
       "    .dataframe tbody tr th {\n",
       "        vertical-align: top;\n",
       "    }\n",
       "\n",
       "    .dataframe thead th {\n",
       "        text-align: right;\n",
       "    }\n",
       "</style>\n",
       "<table border=\"1\" class=\"dataframe\">\n",
       "  <thead>\n",
       "    <tr style=\"text-align: right;\">\n",
       "      <th></th>\n",
       "      <th>Depth</th>\n",
       "    </tr>\n",
       "  </thead>\n",
       "  <tbody>\n",
       "    <tr>\n",
       "      <th>71</th>\n",
       "      <td>1.32</td>\n",
       "    </tr>\n",
       "  </tbody>\n",
       "</table>\n",
       "</div>"
      ],
      "text/plain": [
       "    Depth\n",
       "71   1.32"
      ]
     },
     "execution_count": 114,
     "metadata": {},
     "output_type": "execute_result"
    }
   ],
   "source": [
    "y_valid.tail(1)"
   ]
  },
  {
   "cell_type": "code",
   "execution_count": null,
   "id": "bbf41610",
   "metadata": {},
   "outputs": [],
   "source": [
    "linreg.predict()"
   ]
  },
  {
   "cell_type": "code",
   "execution_count": 119,
   "id": "4bd57b67",
   "metadata": {},
   "outputs": [],
   "source": [
    "forest = RandomForestRegressor(random_state=17)"
   ]
  },
  {
   "cell_type": "code",
   "execution_count": 120,
   "id": "7864e83e",
   "metadata": {},
   "outputs": [
    {
     "name": "stderr",
     "output_type": "stream",
     "text": [
      "<ipython-input-120-e39d0326f4e4>:1: DataConversionWarning: A column-vector y was passed when a 1d array was expected. Please change the shape of y to (n_samples,), for example using ravel().\n",
      "  forest.fit(X_train_scaled, y_train)\n"
     ]
    },
    {
     "data": {
      "text/plain": [
       "RandomForestRegressor(random_state=17)"
      ]
     },
     "execution_count": 120,
     "metadata": {},
     "output_type": "execute_result"
    }
   ],
   "source": [
    "forest.fit(X_train_scaled, y_train)"
   ]
  },
  {
   "cell_type": "code",
   "execution_count": 121,
   "id": "5d6a26a8",
   "metadata": {},
   "outputs": [
    {
     "data": {
      "text/plain": [
       "array([1.26958698, 1.26958698, 1.26958698, 1.22375127, 1.22375127,\n",
       "       1.22375127, 1.22375127, 1.26958698, 1.26958698, 1.26958698,\n",
       "       1.26958698, 1.26872984, 1.26872984, 1.26872984, 1.26872984])"
      ]
     },
     "execution_count": 121,
     "metadata": {},
     "output_type": "execute_result"
    }
   ],
   "source": [
    "forest.predict(X_valid_scaled)"
   ]
  },
  {
   "cell_type": "code",
   "execution_count": null,
   "id": "9fedf003",
   "metadata": {},
   "outputs": [],
   "source": []
  }
 ],
 "metadata": {
  "kernelspec": {
   "display_name": "Python 3",
   "language": "python",
   "name": "python3"
  },
  "language_info": {
   "codemirror_mode": {
    "name": "ipython",
    "version": 3
   },
   "file_extension": ".py",
   "mimetype": "text/x-python",
   "name": "python",
   "nbconvert_exporter": "python",
   "pygments_lexer": "ipython3",
   "version": "3.8.8"
  }
 },
 "nbformat": 4,
 "nbformat_minor": 5
}
