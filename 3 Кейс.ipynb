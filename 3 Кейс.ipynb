{
 "cells": [
  {
   "cell_type": "markdown",
   "id": "55ce489f",
   "metadata": {},
   "source": [
    "# Итоговый проект\n",
    "## Кейс «Прогнозирование размеров сварного шва при электронно-лучевой сварке тонкостенных конструкций аэрокосмического назначения»\n",
    "1. Предварительная обработка датасета"
   ]
  },
  {
   "cell_type": "code",
   "execution_count": 36,
   "id": "7ade316c",
   "metadata": {},
   "outputs": [],
   "source": [
    "import pandas as pd\n",
    "import numpy as np\n",
    "\n",
    "import warnings\n",
    "warnings.filterwarnings('ignore')"
   ]
  },
  {
   "cell_type": "code",
   "execution_count": 3,
   "id": "c8073a3a",
   "metadata": {},
   "outputs": [],
   "source": [
    "data = pd.read_csv('data/ebw_data.csv')"
   ]
  },
  {
   "cell_type": "markdown",
   "id": "13323b15",
   "metadata": {},
   "source": [
    "ghj="
   ]
  },
  {
   "cell_type": "code",
   "execution_count": 4,
   "id": "b0adb366",
   "metadata": {},
   "outputs": [
    {
     "data": {
      "text/html": [
       "<div>\n",
       "<style scoped>\n",
       "    .dataframe tbody tr th:only-of-type {\n",
       "        vertical-align: middle;\n",
       "    }\n",
       "\n",
       "    .dataframe tbody tr th {\n",
       "        vertical-align: top;\n",
       "    }\n",
       "\n",
       "    .dataframe thead th {\n",
       "        text-align: right;\n",
       "    }\n",
       "</style>\n",
       "<table border=\"1\" class=\"dataframe\">\n",
       "  <thead>\n",
       "    <tr style=\"text-align: right;\">\n",
       "      <th></th>\n",
       "      <th>IW</th>\n",
       "      <th>IF</th>\n",
       "      <th>VW</th>\n",
       "      <th>FP</th>\n",
       "      <th>Depth</th>\n",
       "      <th>Width</th>\n",
       "    </tr>\n",
       "  </thead>\n",
       "  <tbody>\n",
       "    <tr>\n",
       "      <th>0</th>\n",
       "      <td>47</td>\n",
       "      <td>139</td>\n",
       "      <td>4.5</td>\n",
       "      <td>80</td>\n",
       "      <td>1.60</td>\n",
       "      <td>2.54</td>\n",
       "    </tr>\n",
       "    <tr>\n",
       "      <th>1</th>\n",
       "      <td>47</td>\n",
       "      <td>139</td>\n",
       "      <td>4.5</td>\n",
       "      <td>80</td>\n",
       "      <td>1.62</td>\n",
       "      <td>2.50</td>\n",
       "    </tr>\n",
       "    <tr>\n",
       "      <th>2</th>\n",
       "      <td>47</td>\n",
       "      <td>139</td>\n",
       "      <td>4.5</td>\n",
       "      <td>80</td>\n",
       "      <td>1.68</td>\n",
       "      <td>2.60</td>\n",
       "    </tr>\n",
       "    <tr>\n",
       "      <th>3</th>\n",
       "      <td>47</td>\n",
       "      <td>139</td>\n",
       "      <td>4.5</td>\n",
       "      <td>80</td>\n",
       "      <td>1.58</td>\n",
       "      <td>2.52</td>\n",
       "    </tr>\n",
       "    <tr>\n",
       "      <th>4</th>\n",
       "      <td>45</td>\n",
       "      <td>140</td>\n",
       "      <td>4.5</td>\n",
       "      <td>80</td>\n",
       "      <td>1.76</td>\n",
       "      <td>2.48</td>\n",
       "    </tr>\n",
       "  </tbody>\n",
       "</table>\n",
       "</div>"
      ],
      "text/plain": [
       "   IW   IF   VW  FP  Depth  Width\n",
       "0  47  139  4.5  80   1.60   2.54\n",
       "1  47  139  4.5  80   1.62   2.50\n",
       "2  47  139  4.5  80   1.68   2.60\n",
       "3  47  139  4.5  80   1.58   2.52\n",
       "4  45  140  4.5  80   1.76   2.48"
      ]
     },
     "execution_count": 4,
     "metadata": {},
     "output_type": "execute_result"
    }
   ],
   "source": [
    "data.head()"
   ]
  },
  {
   "cell_type": "markdown",
   "id": "58d9ffd1",
   "metadata": {},
   "source": [
    "* проверяем наличие пропусков"
   ]
  },
  {
   "cell_type": "code",
   "execution_count": 5,
   "id": "56b2136d",
   "metadata": {},
   "outputs": [
    {
     "name": "stdout",
     "output_type": "stream",
     "text": [
      "<class 'pandas.core.frame.DataFrame'>\n",
      "RangeIndex: 72 entries, 0 to 71\n",
      "Data columns (total 6 columns):\n",
      " #   Column  Non-Null Count  Dtype  \n",
      "---  ------  --------------  -----  \n",
      " 0   IW      72 non-null     int64  \n",
      " 1   IF      72 non-null     int64  \n",
      " 2   VW      72 non-null     float64\n",
      " 3   FP      72 non-null     int64  \n",
      " 4   Depth   72 non-null     float64\n",
      " 5   Width   72 non-null     float64\n",
      "dtypes: float64(3), int64(3)\n",
      "memory usage: 3.5 KB\n"
     ]
    }
   ],
   "source": [
    "data.info()"
   ]
  },
  {
   "cell_type": "markdown",
   "id": "d1a0b39c",
   "metadata": {},
   "source": [
    "* проверяем статистические показатели"
   ]
  },
  {
   "cell_type": "code",
   "execution_count": 198,
   "id": "048cb870",
   "metadata": {},
   "outputs": [
    {
     "data": {
      "text/html": [
       "<div>\n",
       "<style scoped>\n",
       "    .dataframe tbody tr th:only-of-type {\n",
       "        vertical-align: middle;\n",
       "    }\n",
       "\n",
       "    .dataframe tbody tr th {\n",
       "        vertical-align: top;\n",
       "    }\n",
       "\n",
       "    .dataframe thead th {\n",
       "        text-align: right;\n",
       "    }\n",
       "</style>\n",
       "<table border=\"1\" class=\"dataframe\">\n",
       "  <thead>\n",
       "    <tr style=\"text-align: right;\">\n",
       "      <th></th>\n",
       "      <th>IW</th>\n",
       "      <th>IF</th>\n",
       "      <th>VW</th>\n",
       "      <th>FP</th>\n",
       "      <th>Depth</th>\n",
       "      <th>Width</th>\n",
       "    </tr>\n",
       "  </thead>\n",
       "  <tbody>\n",
       "    <tr>\n",
       "      <th>count</th>\n",
       "      <td>72.000000</td>\n",
       "      <td>72.000000</td>\n",
       "      <td>72.000000</td>\n",
       "      <td>72.000000</td>\n",
       "      <td>72.000000</td>\n",
       "      <td>72.000000</td>\n",
       "    </tr>\n",
       "    <tr>\n",
       "      <th>mean</th>\n",
       "      <td>45.666667</td>\n",
       "      <td>141.333333</td>\n",
       "      <td>8.638889</td>\n",
       "      <td>78.333333</td>\n",
       "      <td>1.195556</td>\n",
       "      <td>1.970417</td>\n",
       "    </tr>\n",
       "    <tr>\n",
       "      <th>std</th>\n",
       "      <td>1.678363</td>\n",
       "      <td>5.145763</td>\n",
       "      <td>2.061078</td>\n",
       "      <td>21.493530</td>\n",
       "      <td>0.225081</td>\n",
       "      <td>0.279040</td>\n",
       "    </tr>\n",
       "    <tr>\n",
       "      <th>min</th>\n",
       "      <td>43.000000</td>\n",
       "      <td>131.000000</td>\n",
       "      <td>4.500000</td>\n",
       "      <td>50.000000</td>\n",
       "      <td>0.800000</td>\n",
       "      <td>1.680000</td>\n",
       "    </tr>\n",
       "    <tr>\n",
       "      <th>25%</th>\n",
       "      <td>44.000000</td>\n",
       "      <td>139.000000</td>\n",
       "      <td>8.000000</td>\n",
       "      <td>60.000000</td>\n",
       "      <td>1.080000</td>\n",
       "      <td>1.760000</td>\n",
       "    </tr>\n",
       "    <tr>\n",
       "      <th>50%</th>\n",
       "      <td>45.500000</td>\n",
       "      <td>141.000000</td>\n",
       "      <td>9.000000</td>\n",
       "      <td>80.000000</td>\n",
       "      <td>1.200000</td>\n",
       "      <td>1.840000</td>\n",
       "    </tr>\n",
       "    <tr>\n",
       "      <th>75%</th>\n",
       "      <td>47.000000</td>\n",
       "      <td>146.000000</td>\n",
       "      <td>10.000000</td>\n",
       "      <td>80.000000</td>\n",
       "      <td>1.290000</td>\n",
       "      <td>2.050000</td>\n",
       "    </tr>\n",
       "    <tr>\n",
       "      <th>max</th>\n",
       "      <td>49.000000</td>\n",
       "      <td>150.000000</td>\n",
       "      <td>12.000000</td>\n",
       "      <td>125.000000</td>\n",
       "      <td>1.760000</td>\n",
       "      <td>2.600000</td>\n",
       "    </tr>\n",
       "  </tbody>\n",
       "</table>\n",
       "</div>"
      ],
      "text/plain": [
       "              IW          IF         VW          FP      Depth      Width\n",
       "count  72.000000   72.000000  72.000000   72.000000  72.000000  72.000000\n",
       "mean   45.666667  141.333333   8.638889   78.333333   1.195556   1.970417\n",
       "std     1.678363    5.145763   2.061078   21.493530   0.225081   0.279040\n",
       "min    43.000000  131.000000   4.500000   50.000000   0.800000   1.680000\n",
       "25%    44.000000  139.000000   8.000000   60.000000   1.080000   1.760000\n",
       "50%    45.500000  141.000000   9.000000   80.000000   1.200000   1.840000\n",
       "75%    47.000000  146.000000  10.000000   80.000000   1.290000   2.050000\n",
       "max    49.000000  150.000000  12.000000  125.000000   1.760000   2.600000"
      ]
     },
     "execution_count": 198,
     "metadata": {},
     "output_type": "execute_result"
    }
   ],
   "source": [
    "data.describe()"
   ]
  },
  {
   "cell_type": "markdown",
   "id": "4eb471a1",
   "metadata": {},
   "source": [
    "* Посмотрим на корреляцию признаков"
   ]
  },
  {
   "cell_type": "code",
   "execution_count": 203,
   "id": "2bb3d09c",
   "metadata": {},
   "outputs": [],
   "source": [
    "%matplotlib inline\n",
    "from matplotlib import pyplot as plt\n",
    "import seaborn as sns\n",
    "\n",
    "plt.rcParams['figure.figsize'] = (10, 8)"
   ]
  },
  {
   "cell_type": "code",
   "execution_count": 200,
   "id": "5a5211dc",
   "metadata": {},
   "outputs": [
    {
     "data": {
      "text/plain": [
       "<AxesSubplot:>"
      ]
     },
     "execution_count": 200,
     "metadata": {},
     "output_type": "execute_result"
    },
    {
     "data": {
      "image/png": "[encoded data removed]",
      "text/plain": [
       "<Figure size 864x576 with 2 Axes>"
      ]
     },
     "metadata": {
      "needs_background": "light"
     },
     "output_type": "display_data"
    }
   ],
   "source": [
    "sns.heatmap(data.corr(), annot=True, square=True, cmap='rocket', annot_kws={'size': 14})"
   ]
  },
  {
   "cell_type": "markdown",
   "id": "04ee69bf",
   "metadata": {},
   "source": [
    "Видно что пара признаков (IF и IW), (IF и FP) имеют сильную обратную корреляцию, а IW и FP сильную положительную корреляцию\n",
    "* Величина сварочного тока (IW);\n",
    "* Ток фокусировки электронного пучка (IF);\n",
    "* Скорость сварки (VW);\n",
    "* Расстояние от поверхности образцов до электронно-оптической системы (FP)."
   ]
  },
  {
   "cell_type": "markdown",
   "id": "b013bdd6",
   "metadata": {},
   "source": [
    "Посмотрим на распеделение цеелвых переменных"
   ]
  },
  {
   "cell_type": "code",
   "execution_count": 206,
   "id": "a0f2a413",
   "metadata": {
    "scrolled": true
   },
   "outputs": [
    {
     "data": {
      "text/plain": [
       "Text(0.5, 1.0, 'Распределение целевой переменной Depth')"
      ]
     },
     "execution_count": 206,
     "metadata": {},
     "output_type": "execute_result"
    },
    {
     "data": {
      "image/png": "[encoded data removed]",
      "text/plain": [
       "<Figure size 360x360 with 1 Axes>"
      ]
     },
     "metadata": {
      "needs_background": "light"
     },
     "output_type": "display_data"
    }
   ],
   "source": [
    "sns.displot(data.Depth, kde=True)\n",
    "plt.title('Распределение целевой переменной Depth')"
   ]
  },
  {
   "cell_type": "code",
   "execution_count": 209,
   "id": "27978207",
   "metadata": {},
   "outputs": [
    {
     "data": {
      "text/plain": [
       "Text(0.5, 1.0, 'Распределение целевой переменной Width')"
      ]
     },
     "execution_count": 209,
     "metadata": {},
     "output_type": "execute_result"
    },
    {
     "data": {
      "image/png": "[encoded data removed]",
      "text/plain": [
       "<Figure size 360x360 with 1 Axes>"
      ]
     },
     "metadata": {
      "needs_background": "light"
     },
     "output_type": "display_data"
    }
   ],
   "source": [
    "sns.displot(data.Width, kde=True)\n",
    "plt.title('Распределение целевой переменной Width')"
   ]
  },
  {
   "cell_type": "markdown",
   "id": "737e9b4f",
   "metadata": {},
   "source": [
    "Распределение target не похоже на нормальное, прологарифмируем его"
   ]
  },
  {
   "cell_type": "code",
   "execution_count": 386,
   "id": "58dab7b3",
   "metadata": {},
   "outputs": [
    {
     "data": {
      "text/plain": [
       "Text(0.5, 1.0, 'Распределение логарифма целевой переменной Width')"
      ]
     },
     "execution_count": 386,
     "metadata": {},
     "output_type": "execute_result"
    },
    {
     "data": {
      "image/png": "[encoded data removed]",
      "text/plain": [
       "<Figure size 360x360 with 1 Axes>"
      ]
     },
     "metadata": {
      "needs_background": "light"
     },
     "output_type": "display_data"
    }
   ],
   "source": [
    "sns.displot(np.log(data.Width), kde=True)\n",
    "plt.title('Распределение логарифма целевой переменной Width')"
   ]
  },
  {
   "cell_type": "code",
   "execution_count": 207,
   "id": "62cb343e",
   "metadata": {},
   "outputs": [],
   "source": [
    "import numpy as np"
   ]
  },
  {
   "cell_type": "markdown",
   "id": "777fb507",
   "metadata": {},
   "source": [
    "## Моделирование"
   ]
  },
  {
   "cell_type": "code",
   "execution_count": 384,
   "id": "06f1079e",
   "metadata": {},
   "outputs": [],
   "source": [
    "from sklearn.linear_model import LinearRegression\n",
    "from sklearn.ensemble import RandomForestRegressor\n",
    "from sklearn.preprocessing import StandardScaler\n",
    "from sklearn.model_selection import train_test_split, KFold, GridSearchCV\n",
    "from sklearn.metrics import mean_absolute_error, mean_squared_error, mean_squared_log_error\n",
    "from sklearn.neighbors import KNeighborsRegressor\n",
    "\n",
    "import pickle"
   ]
  },
  {
   "cell_type": "code",
   "execution_count": 318,
   "id": "9d016135",
   "metadata": {},
   "outputs": [],
   "source": [
    "TEST_SIZE = .2\n",
    "RANDOM_STATE = 17"
   ]
  },
  {
   "cell_type": "code",
   "execution_count": 387,
   "id": "079ea6bf",
   "metadata": {},
   "outputs": [],
   "source": [
    "scaler = StandardScaler()\n",
    "\n",
    "X, y = data.drop(['Depth', 'Width'], axis=1), data['Depth']\n",
    "\n",
    "y_Width = data['Width']\n",
    "\n",
    "y_log_Width = np.log(y_Width)\n",
    "y_log = np.log(y)\n",
    "\n",
    "X_train, X_test, y_train, y_test, y_train_Width, y_test_Width = train_test_split(X, y_log, y_log_Width, test_size=TEST_SIZE, random_state=RANDOM_STATE)\n",
    "\n",
    "X_train_norm = scaler.fit_transform(X_train)\n",
    "X_test_norm = scaler.transform(X_test)"
   ]
  },
  {
   "cell_type": "code",
   "execution_count": 337,
   "id": "4b5f9b66",
   "metadata": {},
   "outputs": [],
   "source": [
    "def rmsle(y_true: np.ndarray, y_pred: np.ndarray) -> np.float64:\n",
    "    \"\"\"\n",
    "    The Root Mean Squared Log Error (RMSLE) metric \n",
    "    Логаритмическая ошибка средней квадратичной ошибки\n",
    "    \"\"\"\n",
    "    return np.sqrt(mean_squared_log_error(y_true, y_pred))\n",
    "\n",
    "\n",
    "def exp(y: np.ndarray) -> np.ndarray:\n",
    "    \"\"\"\n",
    "    Потенционирование (обратное логарифмирование) \n",
    "    \"\"\"\n",
    "    return np.exp(y) - 1"
   ]
  },
  {
   "cell_type": "markdown",
   "id": "01bdcc5e",
   "metadata": {},
   "source": [
    "## Baseline"
   ]
  },
  {
   "cell_type": "code",
   "execution_count": 351,
   "id": "ce3656ea",
   "metadata": {},
   "outputs": [
    {
     "name": "stdout",
     "output_type": "stream",
     "text": [
      "model: LinearRegression()\n",
      "RMSE: 0.085\n",
      "MAE: 0.059\n",
      "------------------------------ \n",
      "\n",
      "model: RandomForestRegressor()\n",
      "RMSE: 0.057\n",
      "MAE: 0.043\n",
      "------------------------------ \n",
      "\n",
      "model: KNeighborsRegressor()\n",
      "RMSE: 0.068\n",
      "MAE: 0.05\n",
      "------------------------------ \n",
      "\n"
     ]
    }
   ],
   "source": [
    "models = [LinearRegression(), RandomForestRegressor(), KNeighborsRegressor()]\n",
    "scores = dict()\n",
    "\n",
    "for m in models:\n",
    "    m.fit(X_train_norm, y_train)\n",
    "    y_pred = m.predict(X_test_norm)\n",
    "\n",
    "    print(f'model: {str(m)}')\n",
    "    print(f'RMSE: {round(np.sqrt(mean_squared_error(np.exp(y_test), np.exp(y_pred))), 3)}')\n",
    "    print(f'MAE: {round(mean_absolute_error(np.exp(y_test), np.exp(y_pred)), 3)}')\n",
    "    print('-'*30, '\\n')"
   ]
  },
  {
   "cell_type": "code",
   "execution_count": 392,
   "id": "9bc37cf3",
   "metadata": {},
   "outputs": [
    {
     "name": "stdout",
     "output_type": "stream",
     "text": [
      "model: LassoCV()\n",
      "RMSE: 0.07\n",
      "MAE: 0.058\n",
      "------------------------------ \n",
      "\n",
      "model: RidgeCV(alphas=array([ 0.1,  1. , 10. ]))\n",
      "RMSE: 0.069\n",
      "MAE: 0.056\n",
      "------------------------------ \n",
      "\n"
     ]
    }
   ],
   "source": [
    "for m in models:\n",
    "    m.fit(X_train_norm, y_train_Width)\n",
    "    y2_pred = m.predict(X_test_norm)\n",
    "\n",
    "    print(f'model: {str(m)}')\n",
    "    print(f'RMSE: {round(np.sqrt(mean_squared_error(exp(y_test_Width), exp(y2_pred))), 3)}')\n",
    "    print(f'MAE: {round(mean_absolute_error(np.exp(y_test_Width), np.exp(y2_pred)), 3)}')\n",
    "    print('-'*30, '\\n')"
   ]
  },
  {
   "cell_type": "code",
   "execution_count": 352,
   "id": "9fedf003",
   "metadata": {},
   "outputs": [],
   "source": [
    "from sklearn.linear_model import LassoCV, RidgeCV"
   ]
  },
  {
   "cell_type": "code",
   "execution_count": 353,
   "id": "e1d60c74",
   "metadata": {},
   "outputs": [],
   "source": [
    "lasso_cv = LassoCV(random_state=RANDOM_STATE)\n",
    "ridge_cv = RidgeCV()"
   ]
  },
  {
   "cell_type": "code",
   "execution_count": 357,
   "id": "f09d6da7",
   "metadata": {},
   "outputs": [
    {
     "name": "stdout",
     "output_type": "stream",
     "text": [
      "model: LassoCV()\n",
      "RMSE: 0.084\n",
      "MAE: 0.058\n",
      "------------------------------ \n",
      "\n",
      "model: RidgeCV(alphas=array([ 0.1,  1. , 10. ]))\n",
      "RMSE: 0.08\n",
      "MAE: 0.056\n",
      "------------------------------ \n",
      "\n"
     ]
    }
   ],
   "source": [
    "models = [LassoCV(), RidgeCV()]\n",
    "scores = dict()\n",
    "\n",
    "for m in models:\n",
    "    m.fit(X_train_norm, y_train)\n",
    "    y1_pred = m.predict(X_test_norm)\n",
    "\n",
    "    print(f'model: {str(m)}')\n",
    "    print(f'RMSE: {round(np.sqrt(mean_squared_error(exp(y_test), exp(y1_pred))), 3)}')\n",
    "    print(f'MAE: {round(mean_absolute_error(exp(y_test), exp(y1_pred)), 3)}')\n",
    "    print('-'*30, '\\n')"
   ]
  },
  {
   "cell_type": "markdown",
   "id": "d4b59d2a",
   "metadata": {},
   "source": [
    "## Подбор оптимальных параметров, моделирование + отбор важных признаков:\n",
    "\n",
    "* Для поиска оптимальных параметров модели. GridSearch: работает дольше, перебирает все варианты\n",
    "\n",
    "* Используем также кросс-валидацию, чтобы избежать переобучения в том числе"
   ]
  },
  {
   "cell_type": "code",
   "execution_count": 395,
   "id": "de8db390",
   "metadata": {},
   "outputs": [],
   "source": [
    "parameters_grid_rf = {\n",
    "            \"n_estimators\"      : range(10, 110, 10),\n",
    "            \"min_samples_split\" : range(2, 10, 2),\n",
    "            \"bootstrap\": [True, False],\n",
    "}\n",
    "\n"
   ]
  },
  {
   "cell_type": "code",
   "execution_count": 396,
   "id": "634cbe9d",
   "metadata": {},
   "outputs": [
    {
     "name": "stdout",
     "output_type": "stream",
     "text": [
      "Fitting 3 folds for each of 80 candidates, totalling 240 fits\n",
      "Wall time: 8.56 s\n"
     ]
    },
    {
     "data": {
      "text/plain": [
       "GridSearchCV(cv=KFold(n_splits=3, random_state=None, shuffle=True),\n",
       "             estimator=RandomForestRegressor(),\n",
       "             param_grid={'bootstrap': [True, False],\n",
       "                         'min_samples_split': range(2, 10, 2),\n",
       "                         'n_estimators': range(10, 110, 10)},\n",
       "             scoring='neg_mean_absolute_error', verbose=1)"
      ]
     },
     "execution_count": 396,
     "metadata": {},
     "output_type": "execute_result"
    }
   ],
   "source": [
    "%%time\n",
    "\n",
    "model = RandomForestRegressor()\n",
    "cv = KFold(n_splits=3, shuffle=True)\n",
    "\n",
    "grid_cv = GridSearchCV(model,\n",
    "                       parameters_grid_rf,\n",
    "                       scoring='neg_mean_absolute_error',\n",
    "                       cv=cv,\n",
    "                       verbose=1)\n",
    "grid_cv_Rf.fit(X_train_norm, y_train)"
   ]
  },
  {
   "cell_type": "code",
   "execution_count": 400,
   "id": "c7b2b81d",
   "metadata": {},
   "outputs": [],
   "source": [
    "pickle.dump(grid_cv, open('Random_Forest_for_Depth.pkl', 'wb'))"
   ]
  },
  {
   "cell_type": "code",
   "execution_count": 397,
   "id": "3f937afa",
   "metadata": {},
   "outputs": [
    {
     "data": {
      "text/plain": [
       "{'bootstrap': True, 'min_samples_split': 2, 'n_estimators': 20}"
      ]
     },
     "execution_count": 397,
     "metadata": {},
     "output_type": "execute_result"
    }
   ],
   "source": [
    "grid_cv.best_params_"
   ]
  },
  {
   "cell_type": "code",
   "execution_count": 398,
   "id": "686cae62",
   "metadata": {},
   "outputs": [],
   "source": [
    "y_pred_grid_forest = grid_cv_Rf.predict(X_test_norm)"
   ]
  },
  {
   "cell_type": "code",
   "execution_count": 399,
   "id": "23c65fce",
   "metadata": {
    "scrolled": true
   },
   "outputs": [
    {
     "name": "stdout",
     "output_type": "stream",
     "text": [
      "RMSE: 0.055\n",
      "MAE: 0.043\n"
     ]
    }
   ],
   "source": [
    "print(f'RMSE: {round(np.sqrt(mean_squared_error(np.exp(y_test), np.exp(y_pred_grid_forest))), 3)}')\n",
    "print(f'MAE: {round(mean_absolute_error(np.exp(y_test), np.exp(y_pred_grid_forest)), 3)}')"
   ]
  },
  {
   "cell_type": "markdown",
   "id": "65571b8d",
   "metadata": {},
   "source": [
    "* Для y_test_Width"
   ]
  },
  {
   "cell_type": "code",
   "execution_count": 401,
   "id": "663ed843",
   "metadata": {},
   "outputs": [
    {
     "name": "stdout",
     "output_type": "stream",
     "text": [
      "Fitting 3 folds for each of 80 candidates, totalling 240 fits\n"
     ]
    },
    {
     "data": {
      "text/plain": [
       "GridSearchCV(cv=KFold(n_splits=3, random_state=None, shuffle=True),\n",
       "             estimator=RandomForestRegressor(),\n",
       "             param_grid={'bootstrap': [True, False],\n",
       "                         'min_samples_split': range(2, 10, 2),\n",
       "                         'n_estimators': range(10, 110, 10)},\n",
       "             scoring='neg_mean_absolute_error', verbose=1)"
      ]
     },
     "execution_count": 401,
     "metadata": {},
     "output_type": "execute_result"
    }
   ],
   "source": [
    "grid_cv_Rf = GridSearchCV(model,\n",
    "                       parameters_grid_rf,\n",
    "                       scoring='neg_mean_absolute_error',\n",
    "                       cv=cv,\n",
    "                       verbose=1)\n",
    "grid_cv_Rf.fit(X_train_norm, y_train_Width)"
   ]
  },
  {
   "cell_type": "code",
   "execution_count": 404,
   "id": "7054d4ba",
   "metadata": {},
   "outputs": [
    {
     "name": "stdout",
     "output_type": "stream",
     "text": [
      "RMSE: 0.058\n",
      "MAE: 0.049\n"
     ]
    }
   ],
   "source": [
    "y_pred_grid_forest2 = grid_cv_Rf.predict(X_test_norm)\n",
    "print(f'RMSE: {round(np.sqrt(mean_squared_error(np.exp(y_test_Width), np.exp(y_pred_grid_forest2))), 3)}')\n",
    "print(f'MAE: {round(mean_absolute_error(np.exp(y_test_Width), np.exp(y_pred_grid_forest2)), 3)}')"
   ]
  },
  {
   "cell_type": "code",
   "execution_count": 405,
   "id": "4f13627f",
   "metadata": {},
   "outputs": [],
   "source": [
    "pickle.dump(grid_cv_Rf, open('Random_Forest_for_Width.pkl', 'wb'))"
   ]
  },
  {
   "cell_type": "markdown",
   "id": "ce027135",
   "metadata": {},
   "source": [
    "## Проверяес градиентный бустинг"
   ]
  },
  {
   "cell_type": "code",
   "execution_count": 374,
   "id": "8e1b1e77",
   "metadata": {},
   "outputs": [],
   "source": [
    "from sklearn.ensemble import GradientBoostingRegressor"
   ]
  },
  {
   "cell_type": "code",
   "execution_count": 380,
   "id": "36985bda",
   "metadata": {},
   "outputs": [],
   "source": [
    "gbtree = GradientBoostingRegressor(n_estimators=100, subsample=0.5, random_state=42)\n",
    "gbtree.fit(X_train_norm, y_train)\n",
    "gb_predict = gbtree.predict(X_test_norm)"
   ]
  },
  {
   "cell_type": "code",
   "execution_count": 383,
   "id": "629c6478",
   "metadata": {},
   "outputs": [
    {
     "name": "stdout",
     "output_type": "stream",
     "text": [
      "RMSE: 0.064\n",
      "MAE: 0.047\n"
     ]
    }
   ],
   "source": [
    "print(f'RMSE: {round(np.sqrt(mean_squared_error(np.exp(y_test), np.exp(gb_predict))), 3)}')\n",
    "print(f'MAE: {round(mean_absolute_error(np.exp(y_test), np.exp(gb_predict)), 3)}')"
   ]
  },
  {
   "cell_type": "code",
   "execution_count": 375,
   "id": "105cad49",
   "metadata": {},
   "outputs": [],
   "source": [
    "parameters_grid = {\n",
    "            \"n_estimators\"      : range(50, 110, 10),\n",
    "            \"min_samples_split\" : range(2, 6, 1),\n",
    "            \"min_samples_leaf\" : range(1, 6, 1),\n",
    "            \"max_depth\": range(2, 6, 1),\n",
    "            \"max_features\":  range(1, 6, 1),\n",
    "            \"subsample\": [0.5, 0.6, 0.7, 0.8, 0.9, 1]\n",
    "}\n",
    "#             \"loss\": ['squared_error', 'absolute_error'],\n"
   ]
  },
  {
   "cell_type": "code",
   "execution_count": 376,
   "id": "a0247435",
   "metadata": {},
   "outputs": [
    {
     "name": "stdout",
     "output_type": "stream",
     "text": [
      "Fitting 4 folds for each of 14400 candidates, totalling 57600 fits\n"
     ]
    },
    {
     "data": {
      "text/plain": [
       "GridSearchCV(cv=KFold(n_splits=4, random_state=None, shuffle=True),\n",
       "             estimator=GradientBoostingRegressor(),\n",
       "             param_grid={'max_depth': range(2, 6), 'max_features': range(1, 6),\n",
       "                         'min_samples_leaf': range(1, 6),\n",
       "                         'min_samples_split': range(2, 6),\n",
       "                         'n_estimators': range(50, 110, 10),\n",
       "                         'subsample': [0.5, 0.6, 0.7, 0.8, 0.9, 1]},\n",
       "             scoring='neg_mean_absolute_error', verbose=1)"
      ]
     },
     "execution_count": 376,
     "metadata": {},
     "output_type": "execute_result"
    }
   ],
   "source": [
    "model = GradientBoostingRegressor()\n",
    "cv = KFold(n_splits=4, shuffle=True)\n",
    "\n",
    "DR_grid_cv = GridSearchCV(model,\n",
    "                       parameters_grid,\n",
    "                       scoring='neg_mean_absolute_error',\n",
    "                       cv=cv,\n",
    "                       verbose=1)\n",
    "DR_grid_cv.fit(X_train_norm, y_train)"
   ]
  },
  {
   "cell_type": "code",
   "execution_count": 377,
   "id": "70bed7cc",
   "metadata": {},
   "outputs": [],
   "source": [
    "DR_grid_cv_predict = DR_grid_cv.predict(X_test_norm)"
   ]
  },
  {
   "cell_type": "code",
   "execution_count": 379,
   "id": "ccf922f7",
   "metadata": {},
   "outputs": [
    {
     "name": "stdout",
     "output_type": "stream",
     "text": [
      "RMSE: 0.06\n",
      "MAE: 0.044\n"
     ]
    }
   ],
   "source": [
    "print(f'RMSE: {round(np.sqrt(mean_squared_error(exp(y_test), exp(DR_grid_cv_predict))), 3)}')\n",
    "print(f'MAE: {round(mean_absolute_error(exp(y_test), exp(DR_grid_cv_predict)), 3)}')"
   ]
  },
  {
   "cell_type": "code",
   "execution_count": null,
   "id": "8bd30250",
   "metadata": {},
   "outputs": [],
   "source": [
    "DR_grid_cv.best_params_"
   ]
  },
  {
   "cell_type": "code",
   "execution_count": 145,
   "id": "d5fbece1",
   "metadata": {},
   "outputs": [
    {
     "data": {
      "text/plain": [
       "array([[-0.05842062, -0.18493168,  0.58671882,  0.23817559],\n",
       "       [-0.05842062,  1.10959008,  0.58671882, -0.9743547 ],\n",
       "       [ 0.75946811, -0.70274039, -1.46679705,  0.23817559],\n",
       "       [-0.87630936, -0.44383603, -1.46679705,  0.23817559],\n",
       "       [-0.05842062,  1.10959008,  0.58671882, -0.9743547 ],\n",
       "       [ 0.75946811, -0.18493168,  1.33345187,  0.23817559],\n",
       "       [ 2.39524558, -2.51507085, -0.16001422,  2.96636876],\n",
       "       [ 0.75946811, -0.70274039, -1.46679705,  0.23817559],\n",
       "       [-0.87630936,  1.10959008,  0.2133523 , -0.9743547 ],\n",
       "       [-0.05842062,  1.10959008,  0.58671882, -0.9743547 ],\n",
       "       [-1.69419809,  1.10959008,  0.2133523 , -0.9743547 ],\n",
       "       [ 0.75946811, -0.18493168,  1.33345187,  0.23817559],\n",
       "       [-0.87630936, -0.44383603, -1.46679705,  0.23817559],\n",
       "       [-0.87630936, -0.18493168,  0.58671882,  0.23817559]])"
      ]
     },
     "execution_count": 145,
     "metadata": {},
     "output_type": "execute_result"
    }
   ],
   "source": [
    "X1_train_norm"
   ]
  },
  {
   "cell_type": "markdown",
   "id": "07edd277",
   "metadata": {},
   "source": [
    "## Сохраняем модель"
   ]
  },
  {
   "cell_type": "markdown",
   "id": "7faf4459",
   "metadata": {},
   "source": [
    "Лучше всего по RLMSE себя показал случайный лес, сохраняем его для использования в приложении"
   ]
  }
 ],
 "metadata": {
  "kernelspec": {
   "display_name": "Python 3",
   "language": "python",
   "name": "python3"
  },
  "language_info": {
   "codemirror_mode": {
    "name": "ipython",
    "version": 3
   },
   "file_extension": ".py",
   "mimetype": "text/x-python",
   "name": "python",
   "nbconvert_exporter": "python",
   "pygments_lexer": "ipython3",
   "version": "3.8.8"
  }
 },
 "nbformat": 4,
 "nbformat_minor": 5
}
